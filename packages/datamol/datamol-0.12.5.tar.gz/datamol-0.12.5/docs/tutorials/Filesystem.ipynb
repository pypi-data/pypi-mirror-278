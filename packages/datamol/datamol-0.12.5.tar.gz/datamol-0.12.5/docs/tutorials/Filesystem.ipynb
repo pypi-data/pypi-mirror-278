{
 "cells": [
  {
   "cell_type": "markdown",
   "id": "2e18c4fc-3d31-42ec-973c-8e422d045723",
   "metadata": {},
   "source": [
    "The filesystem module `datamol.fs` is not strictly related to molecule but it makes it very convenient to work with files both locally and remotely (AWS S3, GCS, HTTP, FTP, Git, etc) in a smooth and transparent manner. Under the hood the Datamol `fs` module is built on top of the library [fsspec](https://filesystem-spec.readthedocs.io/en/latest/)."
   ]
  },
  {
   "cell_type": "code",
   "execution_count": 1,
   "id": "1309aaae-9cdf-4482-996c-e252fb6081e4",
   "metadata": {},
   "outputs": [],
   "source": [
    "import tempfile\n",
    "\n",
    "import datamol as dm"
   ]
  },
  {
   "cell_type": "markdown",
   "id": "93ceb6db-54d6-4534-afce-40da13c98929",
   "metadata": {},
   "source": [
    "## Destructive path manipulation\n",
    "\n",
    "The below examples are made locally for the purpose of the demo but all the function supports remote path (S3, GCS, etc)."
   ]
  },
  {
   "cell_type": "markdown",
   "id": "7de6ed94-e2e4-4e33-9b38-77ad12082370",
   "metadata": {},
   "source": [
    "First let's get temp directory"
   ]
  },
  {
   "cell_type": "code",
   "execution_count": 2,
   "id": "fb7f4b66-a537-404d-9750-f3227f8cb322",
   "metadata": {},
   "outputs": [
    {
     "data": {
      "text/plain": [
       "True"
      ]
     },
     "execution_count": 2,
     "metadata": {},
     "output_type": "execute_result"
    }
   ],
   "source": [
    "temp_dir = tempfile.mkdtemp()\n",
    "dm.fs.exists(temp_dir)"
   ]
  },
  {
   "cell_type": "markdown",
   "id": "e9993def-6eea-4829-af6b-e98a90218e38",
   "metadata": {},
   "source": [
    "Create a directory and check if it has correctly been created."
   ]
  },
  {
   "cell_type": "code",
   "execution_count": 3,
   "id": "15e071bf-9ad8-4005-987c-182842dd74a1",
   "metadata": {},
   "outputs": [
    {
     "data": {
      "text/plain": [
       "True"
      ]
     },
     "execution_count": 3,
     "metadata": {},
     "output_type": "execute_result"
    }
   ],
   "source": [
    "subdir_path = dm.fs.join(temp_dir, \"subdir1\", \"subsubdir293\")\n",
    "dm.fs.mkdir(subdir_path, exist_ok=True)\n",
    "\n",
    "dm.fs.exists(subdir_path)"
   ]
  },
  {
   "cell_type": "markdown",
   "id": "b4c3c9fd-fd0e-4fc5-bd19-daf9e20ffad2",
   "metadata": {},
   "source": [
    "Copy a file from a source path to a destination path"
   ]
  },
  {
   "cell_type": "code",
   "execution_count": 5,
   "id": "ab41afd0-40b5-4283-9387-4d06ca4c2867",
   "metadata": {},
   "outputs": [
    {
     "data": {
      "application/vnd.jupyter.widget-view+json": {
       "model_id": "854a46f81c2d4e98833acec10b1eacdd",
       "version_major": 2,
       "version_minor": 0
      },
      "text/plain": [
       "  0%|          | 0.00/156k [00:00<?, ?B/s]"
      ]
     },
     "metadata": {},
     "output_type": "display_data"
    }
   ],
   "source": [
    "destination_path = dm.fs.join(subdir_path, \"cdk2.sdf\")\n",
    "dm.fs.copy_file(\n",
    "    source=\"https://raw.githubusercontent.com/rdkit/rdkit/master/Docs/Book/data/cdk2.sdf\",\n",
    "    destination=destination_path,\n",
    "    progress=True,\n",
    "    force=True,\n",
    ")"
   ]
  },
  {
   "cell_type": "markdown",
   "id": "67f3b03f-4310-4f8c-b2e9-44939ccac37a",
   "metadata": {},
   "source": [
    "Now, we would like to copy an full directory tree to a given destination."
   ]
  },
  {
   "cell_type": "code",
   "execution_count": 6,
   "id": "369f7b65-0481-4675-8379-70778bc26bb7",
   "metadata": {},
   "outputs": [
    {
     "data": {
      "application/vnd.jupyter.widget-view+json": {
       "model_id": "7e46d0a0b4e84ade83a0c4b70c2c19b0",
       "version_major": 2,
       "version_minor": 0
      },
      "text/plain": [
       "  0%|          | 0/15 [00:00<?, ?it/s]"
      ]
     },
     "metadata": {},
     "output_type": "display_data"
    }
   ],
   "source": [
    "subdir2_path = dm.fs.join(temp_dir, \"subdir2\")\n",
    "dm.fs.copy_dir(\n",
    "    source=\"https://ftp.ncbi.nlm.nih.gov/pubchem/specifications/\",\n",
    "    destination=subdir2_path,\n",
    "    progress=True,\n",
    ")"
   ]
  },
  {
   "cell_type": "markdown",
   "id": "d2de8a47-aba5-4b0a-b26d-7decaa525a4c",
   "metadata": {},
   "source": [
    "Let's check the files have been copied correctly."
   ]
  },
  {
   "cell_type": "code",
   "execution_count": 7,
   "id": "8c539945-48d7-4c28-9343-bd8e324ecf5a",
   "metadata": {},
   "outputs": [
    {
     "data": {
      "text/plain": [
       "['file:///tmp/tmph5uqem6g/subdir2/README',\n",
       " 'file:///tmp/tmph5uqem6g/subdir2/pubchem.asn',\n",
       " 'file:///tmp/tmph5uqem6g/subdir2/pubchem.xjb',\n",
       " 'file:///tmp/tmph5uqem6g/subdir2/pubchem.xsd',\n",
       " 'file:///tmp/tmph5uqem6g/subdir2/pubchem_deposit.pdf',\n",
       " 'file:///tmp/tmph5uqem6g/subdir2/pubchem_deposit.txt',\n",
       " 'file:///tmp/tmph5uqem6g/subdir2/pubchem_fingerprints.pdf',\n",
       " 'file:///tmp/tmph5uqem6g/subdir2/pubchem_fingerprints.txt',\n",
       " 'file:///tmp/tmph5uqem6g/subdir2/pubchem_pug.pdf',\n",
       " 'file:///tmp/tmph5uqem6g/subdir2/pubchem_pug.txt',\n",
       " 'file:///tmp/tmph5uqem6g/subdir2/pubchem_sdtags.pdf',\n",
       " 'file:///tmp/tmph5uqem6g/subdir2/pubchem_sdtags.txt',\n",
       " 'file:///tmp/tmph5uqem6g/subdir2/pug.dtd',\n",
       " 'file:///tmp/tmph5uqem6g/subdir2/pug.xsd',\n",
       " 'file:///tmp/tmph5uqem6g/subdir2/pug_soap.readme.txt']"
      ]
     },
     "execution_count": 7,
     "metadata": {},
     "output_type": "execute_result"
    }
   ],
   "source": [
    "dm.fs.glob(dm.fs.join(subdir2_path, \"**\"))"
   ]
  },
  {
   "cell_type": "markdown",
   "id": "a656b65f-998a-46f7-ae0d-ec1f901fca28",
   "metadata": {
    "tags": []
   },
   "source": [
    "## Non destructive path manipulation"
   ]
  },
  {
   "cell_type": "markdown",
   "id": "883a8ab4-5933-43eb-b85d-edfaffb53889",
   "metadata": {},
   "source": [
    "Retrieve the paths matching a path pattern"
   ]
  },
  {
   "cell_type": "code",
   "execution_count": 9,
   "id": "f0a98de6-bd49-41ad-af50-22ed66fc1992",
   "metadata": {},
   "outputs": [
    {
     "data": {
      "text/plain": [
       "['https://ftp.ncbi.nlm.nih.gov/pubchem/Compound/Daily/2022-11-18/',\n",
       " 'https://ftp.ncbi.nlm.nih.gov/pubchem/Compound/Daily/2022-11-18/ASN/',\n",
       " 'https://ftp.ncbi.nlm.nih.gov/pubchem/Compound/Daily/2022-11-18/ASN/Compound_083000001_083500000.asn.gz',\n",
       " 'https://ftp.ncbi.nlm.nih.gov/pubchem/Compound/Daily/2022-11-18/ASN/Compound_083000001_083500000.asn.gz.md5',\n",
       " 'https://ftp.ncbi.nlm.nih.gov/pubchem/Compound/Daily/2022-11-18/ASN/Compound_154500001_155000000.asn.gz']"
      ]
     },
     "execution_count": 9,
     "metadata": {},
     "output_type": "execute_result"
    }
   ],
   "source": [
    "dm.fs.glob(\"https://ftp.ncbi.nlm.nih.gov/pubchem/Compound/Daily/**\")[:5]"
   ]
  },
  {
   "cell_type": "markdown",
   "id": "83c2a493-27d8-4699-a6bc-8c9858983c7b",
   "metadata": {},
   "source": [
    "Get the name of the file or directory for a given path"
   ]
  },
  {
   "cell_type": "code",
   "execution_count": 10,
   "id": "96cf61b4-7ce2-43e1-8208-da02e47c9a6a",
   "metadata": {},
   "outputs": [
    {
     "data": {
      "text/plain": [
       "'Compound_013500001_014000000.sdf.gz'"
      ]
     },
     "execution_count": 10,
     "metadata": {},
     "output_type": "execute_result"
    }
   ],
   "source": [
    "dm.fs.get_basename(\n",
    "    \"https://ftp.ncbi.nlm.nih.gov/pubchem/Compound/Daily/2021-12-03/SDF/Compound_013500001_014000000.sdf.gz\"\n",
    ")"
   ]
  },
  {
   "cell_type": "code",
   "execution_count": 11,
   "id": "d7064b86-3621-4d33-a5cd-7c19ccd924c7",
   "metadata": {},
   "outputs": [
    {
     "data": {
      "text/plain": [
       "'2021-12-03'"
      ]
     },
     "execution_count": 11,
     "metadata": {},
     "output_type": "execute_result"
    }
   ],
   "source": [
    "dm.fs.get_basename(\"https://ftp.ncbi.nlm.nih.gov/pubchem/Compound/Daily/2021-12-03\")"
   ]
  },
  {
   "cell_type": "markdown",
   "id": "40ba1ff7-06c1-40da-986b-814bf65f6ae0",
   "metadata": {},
   "source": [
    "Get the extension of a given path"
   ]
  },
  {
   "cell_type": "code",
   "execution_count": 12,
   "id": "6c16c319-bb2d-4414-9ed8-ff528cb753e4",
   "metadata": {},
   "outputs": [
    {
     "data": {
      "text/plain": [
       "'txt'"
      ]
     },
     "execution_count": 12,
     "metadata": {},
     "output_type": "execute_result"
    }
   ],
   "source": [
    "dm.fs.get_extension(\"s3://an-s3-bucket-random/subdir1/subdir2/hello.txt\")"
   ]
  },
  {
   "cell_type": "markdown",
   "id": "5decb8fa-fea2-4c64-90d2-72568bd21d69",
   "metadata": {},
   "source": [
    "Check whether a file or a directory exists"
   ]
  },
  {
   "cell_type": "code",
   "execution_count": 13,
   "id": "f974cfb7-1c87-4108-bd2b-5f1d795b5b49",
   "metadata": {},
   "outputs": [
    {
     "data": {
      "text/plain": [
       "True"
      ]
     },
     "execution_count": 13,
     "metadata": {},
     "output_type": "execute_result"
    }
   ],
   "source": [
    "dm.fs.exists(\"https://ftp.ncbi.nlm.nih.gov/pubchem/Compound/Daily/\")"
   ]
  },
  {
   "cell_type": "markdown",
   "id": "680dfd7d-6673-4d65-9b0c-d2d33829c8a7",
   "metadata": {},
   "source": [
    "Check whether a file or a directory exists"
   ]
  },
  {
   "cell_type": "code",
   "execution_count": 14,
   "id": "009f2edc-a950-4fc7-a815-61783deed930",
   "metadata": {},
   "outputs": [
    {
     "data": {
      "text/plain": [
       "False"
      ]
     },
     "execution_count": 14,
     "metadata": {},
     "output_type": "execute_result"
    }
   ],
   "source": [
    "dm.fs.exists(\"gs://a-gcs-bucket-random/subdir1/subdir2/hello.txt\")"
   ]
  },
  {
   "cell_type": "markdown",
   "id": "fbd82b8a-728d-44ed-a5f5-55167366432e",
   "metadata": {},
   "source": [
    "Check whether a path is a file and exists"
   ]
  },
  {
   "cell_type": "code",
   "execution_count": 15,
   "id": "96e42342-abd7-40bd-8003-3b3ee0f966a9",
   "metadata": {},
   "outputs": [
    {
     "data": {
      "text/plain": [
       "False"
      ]
     },
     "execution_count": 15,
     "metadata": {},
     "output_type": "execute_result"
    }
   ],
   "source": [
    "dm.fs.is_file(\n",
    "    \"https://ftp.ncbi.nlm.nih.gov/pubchem/Compound/Daily/2021-12-03/SDF/Compound_013500001_014000000.sdf.gz\"\n",
    ")"
   ]
  },
  {
   "cell_type": "markdown",
   "id": "f49fcedc-e8d1-4598-a98b-e3f90ca74977",
   "metadata": {},
   "source": [
    "Check whether a path is a directory and exists"
   ]
  },
  {
   "cell_type": "code",
   "execution_count": 16,
   "id": "9ae24651-bbb5-4d2a-b5bf-91308104cedd",
   "metadata": {},
   "outputs": [
    {
     "data": {
      "text/plain": [
       "False"
      ]
     },
     "execution_count": 16,
     "metadata": {},
     "output_type": "execute_result"
    }
   ],
   "source": [
    "dm.fs.is_dir(\"gs://a-gcs-bucket-random/subdir1/subdir2/\")"
   ]
  },
  {
   "cell_type": "markdown",
   "id": "cbef4a7a-68c7-45fe-bf96-f7f00b4cdf5f",
   "metadata": {},
   "source": [
    "Check whether a path is local or remote"
   ]
  },
  {
   "cell_type": "code",
   "execution_count": 17,
   "id": "6424a3ba-cb57-4297-877b-5685b6665229",
   "metadata": {},
   "outputs": [
    {
     "data": {
      "text/plain": [
       "True"
      ]
     },
     "execution_count": 17,
     "metadata": {},
     "output_type": "execute_result"
    }
   ],
   "source": [
    "dm.fs.is_local_path(\"/home/hello/a_subdir\")"
   ]
  },
  {
   "cell_type": "markdown",
   "id": "1e35cc4f-bf21-4569-a8bc-b78fa45e5689",
   "metadata": {},
   "source": [
    "Join paths together"
   ]
  },
  {
   "cell_type": "code",
   "execution_count": 18,
   "id": "c7d2a262-e84f-4a34-953b-e31143eb5fda",
   "metadata": {},
   "outputs": [
    {
     "data": {
      "text/plain": [
       "'gs://awesome-data-bucket/data_dir/molecules.sdf'"
      ]
     },
     "execution_count": 18,
     "metadata": {},
     "output_type": "execute_result"
    }
   ],
   "source": [
    "data_dir = \"gs://awesome-data-bucket/data_dir\"\n",
    "filename = \"molecules.sdf\"\n",
    "dm.fs.join(data_dir, filename)"
   ]
  },
  {
   "cell_type": "markdown",
   "id": "56b02389-a259-4d56-acb1-94e39a0c8cb4",
   "metadata": {},
   "source": [
    "Get the size of a file (in byte)"
   ]
  },
  {
   "cell_type": "code",
   "execution_count": 19,
   "id": "3682f48b-c278-4362-ac20-e086ca632258",
   "metadata": {},
   "outputs": [
    {
     "data": {
      "text/plain": [
       "338352844"
      ]
     },
     "execution_count": 19,
     "metadata": {},
     "output_type": "execute_result"
    }
   ],
   "source": [
    "dm.fs.get_size(\n",
    "    \"https://ftp.ncbi.nlm.nih.gov/pubchem/Compound/CURRENT-Full/SDF/Compound_000000001_000500000.sdf.gz\"\n",
    ")"
   ]
  },
  {
   "cell_type": "markdown",
   "id": "a151e0c6-1a48-4862-87ff-a506d7ba39a4",
   "metadata": {},
   "source": [
    "Get the MD5 checksum of a file"
   ]
  },
  {
   "cell_type": "code",
   "execution_count": 20,
   "id": "cd70b5af-1b62-4332-ba42-4b8da32a9ce0",
   "metadata": {},
   "outputs": [
    {
     "data": {
      "text/plain": [
       "'b2d7b30c1466ab9582df47b2664d04b5'"
      ]
     },
     "execution_count": 20,
     "metadata": {},
     "output_type": "execute_result"
    }
   ],
   "source": [
    "dm.fs.md5(\"https://ftp.ncbi.nlm.nih.gov/pubchem/Compound/CURRENT-Full/README-Compound\")"
   ]
  },
  {
   "cell_type": "markdown",
   "id": "806ff5e4-3ecd-4fbd-83b0-ec8caf70c2cc",
   "metadata": {},
   "source": [
    "## Cache directory\n",
    "\n",
    "It's often convenient to get the path of a persistent cache folder. Unfortunately this path will change depending on the OS you're working on. Datamol offers a function to easily retrieve the path of the \"official\" cache directory on which it's running."
   ]
  },
  {
   "cell_type": "code",
   "execution_count": 21,
   "id": "70e0ebb8-07f4-4a59-b87c-cce30efd83ad",
   "metadata": {},
   "outputs": [
    {
     "data": {
      "text/plain": [
       "PosixPath('/home/hadim/.cache/datamol-demo/subdir1')"
      ]
     },
     "execution_count": 21,
     "metadata": {},
     "output_type": "execute_result"
    }
   ],
   "source": [
    "dm.fs.get_cache_dir(app_name=\"datamol-demo\", suffix=\"subdir1\", create=False)"
   ]
  },
  {
   "cell_type": "code",
   "execution_count": null,
   "id": "8a1d5952-f31a-4898-8b9b-f13faeba9618",
   "metadata": {},
   "outputs": [],
   "source": []
  }
 ],
 "metadata": {
  "kernelspec": {
   "display_name": "Python [conda env:datamol]",
   "language": "python",
   "name": "conda-env-datamol-py"
  },
  "language_info": {
   "codemirror_mode": {
    "name": "ipython",
    "version": 3
   },
   "file_extension": ".py",
   "mimetype": "text/x-python",
   "name": "python",
   "nbconvert_exporter": "python",
   "pygments_lexer": "ipython3",
   "version": "3.9.13"
  },
  "widgets": {
   "application/vnd.jupyter.widget-state+json": {
    "state": {},
    "version_major": 2,
    "version_minor": 0
   }
  }
 },
 "nbformat": 4,
 "nbformat_minor": 5
}
