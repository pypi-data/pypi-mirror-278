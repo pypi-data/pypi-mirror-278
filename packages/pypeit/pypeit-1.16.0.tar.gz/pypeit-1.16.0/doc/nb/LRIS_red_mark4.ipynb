{
 "cells": [
  {
   "cell_type": "markdown",
   "id": "91756735",
   "metadata": {},
   "source": [
    "# New LRISr Mark4 detector"
   ]
  },
  {
   "cell_type": "code",
   "execution_count": 11,
   "id": "2be99f22",
   "metadata": {},
   "outputs": [],
   "source": [
    "# imports\n",
    "import os, glob\n",
    "import numpy as np\n",
    "\n",
    "from matplotlib import pyplot as plt\n",
    "\n",
    "from astropy.io import fits\n",
    "\n",
    "from pypeit.core import parse\n",
    "from pypeit.display import display\n",
    "from pypeit import flatfield"
   ]
  },
  {
   "cell_type": "markdown",
   "id": "337dfda7",
   "metadata": {},
   "source": [
    "# Load data"
   ]
  },
  {
   "cell_type": "code",
   "execution_count": 2,
   "id": "e48ea21b",
   "metadata": {},
   "outputs": [],
   "source": [
    "dpath = '/scratch/REDUX/Keck/LRIS/new_LRISr'\n",
    "rpath = os.path.join(dpath, 'Raw')"
   ]
  },
  {
   "cell_type": "code",
   "execution_count": 9,
   "id": "235a6d08",
   "metadata": {},
   "outputs": [],
   "source": [
    "dfile = os.path.join(rpath, 'r211004_00003.fits')"
   ]
  },
  {
   "cell_type": "code",
   "execution_count": 4,
   "id": "9d8457ec",
   "metadata": {},
   "outputs": [],
   "source": [
    "hdul = fits.open(dfile)"
   ]
  },
  {
   "cell_type": "code",
   "execution_count": 5,
   "id": "6b763af6",
   "metadata": {},
   "outputs": [
    {
     "name": "stdout",
     "output_type": "stream",
     "text": [
      "Filename: /scratch/REDUX/Keck/LRIS/new_LRISr/Raw/r211004_00003.fits\n",
      "No.    Name      Ver    Type      Cards   Dimensions   Format\n",
      "  0  PRIMARY       1 PrimaryHDU     344   (4234, 4248)   int16 (rescales to uint16)   \n",
      "  1  Exposure Events    1 TableHDU        17   3R x 2C   [A26, A80]   \n"
     ]
    }
   ],
   "source": [
    "hdul.info()"
   ]
  },
  {
   "cell_type": "code",
   "execution_count": 6,
   "id": "c0b473b4",
   "metadata": {},
   "outputs": [],
   "source": [
    "raw_data = hdul[0].data.astype(float)"
   ]
  },
  {
   "cell_type": "code",
   "execution_count": 7,
   "id": "b2038ca2",
   "metadata": {},
   "outputs": [
    {
     "data": {
      "text/plain": [
       "(4248, 4234)"
      ]
     },
     "execution_count": 7,
     "metadata": {},
     "output_type": "execute_result"
    }
   ],
   "source": [
    "raw_data.shape"
   ]
  },
  {
   "cell_type": "markdown",
   "id": "0d96ec76",
   "metadata": {},
   "source": [
    "# Load pixel file"
   ]
  },
  {
   "cell_type": "code",
   "execution_count": 12,
   "id": "877f812f",
   "metadata": {},
   "outputs": [],
   "source": [
    "pix_file = os.path.join(dpath, 'pixelsL2U2L1U1_1_1.fits')"
   ]
  },
  {
   "cell_type": "code",
   "execution_count": 13,
   "id": "df5e1ffc",
   "metadata": {},
   "outputs": [
    {
     "name": "stdout",
     "output_type": "stream",
     "text": [
      "Filename: /scratch/REDUX/Keck/LRIS/new_LRISr/pixelsL2U2L1U1_1_1.fits\n",
      "No.    Name      Ver    Type      Cards   Dimensions   Format\n",
      "  0  PRIMARY       1 PrimaryHDU     217   (4234, 4248)   int16   \n"
     ]
    }
   ],
   "source": [
    "hdu_pix = fits.open(pix_file)\n",
    "hdu_pix.info()"
   ]
  },
  {
   "cell_type": "code",
   "execution_count": 32,
   "id": "d01476af",
   "metadata": {},
   "outputs": [
    {
     "name": "stdout",
     "output_type": "stream",
     "text": [
      "[8:2064,2185:4248]\n",
      "[8:2064,1:2064]\n",
      "[2171:4227,2185:4248]\n",
      "[2171:4227,1:2064]\n"
     ]
    }
   ],
   "source": [
    "for ii in range(4):\n",
    "    print(hdu_pix[0].header[f'DSEC{ii}'])"
   ]
  },
  {
   "cell_type": "markdown",
   "id": "117f6ccf",
   "metadata": {},
   "source": [
    "# Overwrite header"
   ]
  },
  {
   "cell_type": "code",
   "execution_count": 14,
   "id": "6f1d2922",
   "metadata": {},
   "outputs": [],
   "source": [
    "head0 = hdul[0].header"
   ]
  },
  {
   "cell_type": "code",
   "execution_count": 17,
   "id": "448fc8aa",
   "metadata": {},
   "outputs": [],
   "source": [
    "for card, value in hdu_pix[0].header.items():\n",
    "    head0[card] = value"
   ]
  },
  {
   "cell_type": "markdown",
   "id": "926baca1",
   "metadata": {},
   "source": [
    "## Write"
   ]
  },
  {
   "cell_type": "code",
   "execution_count": 21,
   "id": "0ee29e90",
   "metadata": {},
   "outputs": [
    {
     "data": {
      "text/plain": [
       "'[2170:2118,4248:2185]'"
      ]
     },
     "execution_count": 21,
     "metadata": {},
     "output_type": "execute_result"
    }
   ],
   "source": [
    "hdul[0].header['BSEC4']"
   ]
  },
  {
   "cell_type": "code",
   "execution_count": 22,
   "id": "b5689a62",
   "metadata": {},
   "outputs": [
    {
     "name": "stderr",
     "output_type": "stream",
     "text": [
      "WARNING: VerifyWarning: Card is too long, comment will be truncated. [astropy.io.fits.card]\n"
     ]
    }
   ],
   "source": [
    "hdul.writeto(dfile.replace('.fits', '_upd.fits'))"
   ]
  },
  {
   "cell_type": "markdown",
   "id": "6ef71e3e",
   "metadata": {},
   "source": [
    "# Loop me"
   ]
  },
  {
   "cell_type": "code",
   "execution_count": 27,
   "id": "bf108893",
   "metadata": {},
   "outputs": [
    {
     "data": {
      "text/plain": [
       "['/scratch/REDUX/Keck/LRIS/new_LRISr/Raw/r211004_00006.fits',\n",
       " '/scratch/REDUX/Keck/LRIS/new_LRISr/Raw/r211004_00003.fits',\n",
       " '/scratch/REDUX/Keck/LRIS/new_LRISr/Raw/r211004_00008.fits',\n",
       " '/scratch/REDUX/Keck/LRIS/new_LRISr/Raw/r211004_00005.fits',\n",
       " '/scratch/REDUX/Keck/LRIS/new_LRISr/Raw/r211004_00004.fits',\n",
       " '/scratch/REDUX/Keck/LRIS/new_LRISr/Raw/r211004_00007.fits',\n",
       " '/scratch/REDUX/Keck/LRIS/new_LRISr/Raw/r211004_00009.fits']"
      ]
     },
     "execution_count": 27,
     "metadata": {},
     "output_type": "execute_result"
    }
   ],
   "source": [
    "rfiles = glob.glob(rpath+'/*.fits')\n",
    "rfiles"
   ]
  },
  {
   "cell_type": "code",
   "execution_count": 29,
   "id": "46c56928",
   "metadata": {},
   "outputs": [],
   "source": [
    "for rfile in rfiles:\n",
    "    hdul = fits.open(rfile)\n",
    "    head0 = hdul[0].header\n",
    "    for card, value in hdu_pix[0].header.items():\n",
    "        head0[card] = value\n",
    "    # Write\n",
    "    hdul.writeto(rfile.replace('.fits', '_upd.fits'))"
   ]
  },
  {
   "cell_type": "markdown",
   "id": "40bc108d",
   "metadata": {},
   "source": [
    "## Moved them to their own folder.."
   ]
  },
  {
   "cell_type": "markdown",
   "id": "dd49fae5",
   "metadata": {},
   "source": [
    "----"
   ]
  },
  {
   "cell_type": "markdown",
   "id": "19b648a5",
   "metadata": {},
   "source": [
    "# Reudcin"
   ]
  },
  {
   "cell_type": "markdown",
   "id": "81b523ce",
   "metadata": {},
   "source": [
    "## Test\n",
    "\n",
    "## pypeit_view_fits keck_lris_red_mark4 r211004_00003_upd.fits\n",
    "\n",
    "### Looks good!"
   ]
  },
  {
   "cell_type": "markdown",
   "id": "73acc961",
   "metadata": {},
   "source": [
    "## pypeit_view_fits keck_lris_red_mark4 r211004_00003_upd.fits --proc"
   ]
  },
  {
   "cell_type": "code",
   "execution_count": null,
   "id": "1a2381d4",
   "metadata": {},
   "outputs": [],
   "source": [
    "## Setup\n",
    "\n",
    "## "
   ]
  },
  {
   "cell_type": "markdown",
   "id": "2c8c6d18",
   "metadata": {},
   "source": [
    "----"
   ]
  },
  {
   "cell_type": "markdown",
   "id": "2044a723",
   "metadata": {},
   "source": [
    "# Extract me"
   ]
  },
  {
   "cell_type": "code",
   "execution_count": 14,
   "id": "e5c75fd0",
   "metadata": {},
   "outputs": [],
   "source": [
    "final_img = np.zeros((2064*2, 2057*2))"
   ]
  },
  {
   "cell_type": "markdown",
   "id": "d6963f8b",
   "metadata": {},
   "source": [
    "## Amp L1, aka AMPID3, aka readout sequence 2"
   ]
  },
  {
   "cell_type": "code",
   "execution_count": 18,
   "id": "b60abf5b",
   "metadata": {},
   "outputs": [
    {
     "data": {
      "text/plain": [
       "[[4247, 2185], [7, 2064]]"
      ]
     },
     "execution_count": 18,
     "metadata": {},
     "output_type": "execute_result"
    }
   ],
   "source": [
    "parse.load_sections(head0['DSEC3'], fmt_iraf=True)"
   ]
  },
  {
   "cell_type": "code",
   "execution_count": 43,
   "id": "55a57ecd",
   "metadata": {},
   "outputs": [
    {
     "data": {
      "text/plain": [
       "(slice(7, 2064, None), slice(4247, 2183, -1))"
      ]
     },
     "execution_count": 43,
     "metadata": {},
     "output_type": "execute_result"
    }
   ],
   "source": [
    "slice3 = parse.sec2slice(head0['DSEC3'], one_indexed=True, include_end=True)\n",
    "slice3"
   ]
  },
  {
   "cell_type": "code",
   "execution_count": 44,
   "id": "dc1d27d4",
   "metadata": {},
   "outputs": [
    {
     "data": {
      "text/plain": [
       "(slice(4247, 2183, -1), slice(7, 2064, None))"
      ]
     },
     "execution_count": 44,
     "metadata": {},
     "output_type": "execute_result"
    }
   ],
   "source": [
    "slice3b = (slice3[1], slice3[0])\n",
    "slice3b"
   ]
  },
  {
   "cell_type": "code",
   "execution_count": 45,
   "id": "b900b10e",
   "metadata": {},
   "outputs": [
    {
     "data": {
      "text/plain": [
       "(2064, 2057)"
      ]
     },
     "execution_count": 45,
     "metadata": {},
     "output_type": "execute_result"
    }
   ],
   "source": [
    "amp_l1 = raw_data[slice3b]\n",
    "amp_l1.shape"
   ]
  },
  {
   "cell_type": "code",
   "execution_count": 51,
   "id": "854d352a",
   "metadata": {},
   "outputs": [
    {
     "data": {
      "text/plain": [
       "(<ginga.util.grc.RemoteClient at 0x7f23ab92ef10>,\n",
       " <ginga.util.grc._channel_proxy at 0x7f23ab92e9d0>)"
      ]
     },
     "execution_count": 51,
     "metadata": {},
     "output_type": "execute_result"
    }
   ],
   "source": [
    "display.show_image(amp_l1)"
   ]
  },
  {
   "cell_type": "markdown",
   "id": "dcf11314",
   "metadata": {},
   "source": [
    "## Amp L2"
   ]
  },
  {
   "cell_type": "code",
   "execution_count": 47,
   "id": "6100a075",
   "metadata": {},
   "outputs": [
    {
     "data": {
      "text/plain": [
       "(slice(4226, 2169, -1), slice(0, 2064, None))"
      ]
     },
     "execution_count": 47,
     "metadata": {},
     "output_type": "execute_result"
    }
   ],
   "source": [
    "slice2 = parse.sec2slice(head0['DSEC2'], one_indexed=True, include_end=True)\n",
    "slice2"
   ]
  },
  {
   "cell_type": "code",
   "execution_count": 48,
   "id": "162cf985",
   "metadata": {},
   "outputs": [],
   "source": [
    "slice2b = (slice2[1], slice2[0])"
   ]
  },
  {
   "cell_type": "code",
   "execution_count": 49,
   "id": "d46d0710",
   "metadata": {},
   "outputs": [
    {
     "data": {
      "text/plain": [
       "(2064, 2057)"
      ]
     },
     "execution_count": 49,
     "metadata": {},
     "output_type": "execute_result"
    }
   ],
   "source": [
    "amp_l2 = raw_data[slice2b]\n",
    "amp_l2.shape"
   ]
  },
  {
   "cell_type": "code",
   "execution_count": 50,
   "id": "43758335",
   "metadata": {},
   "outputs": [
    {
     "data": {
      "text/plain": [
       "(<ginga.util.grc.RemoteClient at 0x7f23ab92ed30>,\n",
       " <ginga.util.grc._channel_proxy at 0x7f23ab92e160>)"
      ]
     },
     "execution_count": 50,
     "metadata": {},
     "output_type": "execute_result"
    }
   ],
   "source": [
    "display.show_image(amp_l2)"
   ]
  },
  {
   "cell_type": "markdown",
   "id": "5b7cd968",
   "metadata": {},
   "source": [
    "----"
   ]
  },
  {
   "cell_type": "markdown",
   "id": "ab81d254",
   "metadata": {},
   "source": [
    "# Checking the gain"
   ]
  },
  {
   "cell_type": "markdown",
   "id": "fc9a6ffa",
   "metadata": {},
   "source": [
    "## The following was for an original set of gain values.\n",
    "\n",
    "## Use chk_lris_mark4_gain.py in the DevSuite repo (dev_algorithms/lris) for further analysis"
   ]
  },
  {
   "cell_type": "markdown",
   "id": "d8de2231",
   "metadata": {},
   "source": [
    "## Load a 4 amp flat"
   ]
  },
  {
   "cell_type": "code",
   "execution_count": 6,
   "id": "013f88b6",
   "metadata": {},
   "outputs": [],
   "source": [
    "rdx_path = '/scratch/REDUX/Keck/LRIS/new_LRISr/keck_lris_red_mark4_A'"
   ]
  },
  {
   "cell_type": "code",
   "execution_count": 9,
   "id": "a65f65af",
   "metadata": {},
   "outputs": [],
   "source": [
    "master_file = os.path.join(rdx_path, 'Masters', 'MasterFlat_A_1_01.fits')"
   ]
  },
  {
   "cell_type": "code",
   "execution_count": 10,
   "id": "edfcd3ca",
   "metadata": {},
   "outputs": [
    {
     "name": "stderr",
     "output_type": "stream",
     "text": [
      "\u001b[1;32m[INFO]    ::\u001b[0m \u001b[1;34mdatamodel.py 1480 from_file()\u001b[0m - Loading FlatImages from /scratch/REDUX/Keck/LRIS/new_LRISr/keck_lris_red_mark4_A/Masters/MasterFlat_A_1_01.fits\n"
     ]
    }
   ],
   "source": [
    "# Load\n",
    "flatImages = flatfield.FlatImages.from_file(master_file)"
   ]
  },
  {
   "cell_type": "code",
   "execution_count": 12,
   "id": "04b3583d",
   "metadata": {},
   "outputs": [
    {
     "data": {
      "text/plain": [
       "(4128, 4114)"
      ]
     },
     "execution_count": 12,
     "metadata": {},
     "output_type": "execute_result"
    }
   ],
   "source": [
    "flatImages.pixelflat_raw.shape"
   ]
  },
  {
   "cell_type": "markdown",
   "id": "83646560",
   "metadata": {},
   "source": [
    "## Spectral cut"
   ]
  },
  {
   "cell_type": "code",
   "execution_count": 14,
   "id": "bda1b2e3",
   "metadata": {},
   "outputs": [
    {
     "data": {
      "text/plain": [
       "2057"
      ]
     },
     "execution_count": 14,
     "metadata": {},
     "output_type": "execute_result"
    }
   ],
   "source": [
    "spat_mid = flatImages.pixelflat_raw.shape[1]//2\n",
    "spat_mid"
   ]
  },
  {
   "cell_type": "code",
   "execution_count": 16,
   "id": "234a5fc6",
   "metadata": {},
   "outputs": [
    {
     "data": {
      "text/plain": [
       "4128"
      ]
     },
     "execution_count": 16,
     "metadata": {},
     "output_type": "execute_result"
    }
   ],
   "source": [
    "left_spec = np.median(flatImages.pixelflat_raw[:,spat_mid-3:spat_mid], axis=1)\n",
    "left_spec.size"
   ]
  },
  {
   "cell_type": "code",
   "execution_count": 17,
   "id": "6eed74a1",
   "metadata": {},
   "outputs": [],
   "source": [
    "right_spec = np.median(flatImages.pixelflat_raw[:,spat_mid:spat_mid+3], axis=1)"
   ]
  },
  {
   "cell_type": "markdown",
   "id": "96c5eab7",
   "metadata": {},
   "source": [
    "### Plot"
   ]
  },
  {
   "cell_type": "code",
   "execution_count": 24,
   "id": "fdad943b",
   "metadata": {},
   "outputs": [
    {
     "data": {
      "image/png": "[encoded data removed]",
      "text/plain": [
       "<Figure size 432x288 with 1 Axes>"
      ]
     },
     "metadata": {
      "needs_background": "light"
     },
     "output_type": "display_data"
    }
   ],
   "source": [
    "plt.clf()\n",
    "ax = plt.gca()\n",
    "ax.plot(left_spec, label='left')\n",
    "ax.plot(left_spec, label='right')\n",
    "ax.legend()\n",
    "ax.set_xlabel('spec')\n",
    "plt.show()"
   ]
  },
  {
   "cell_type": "code",
   "execution_count": 20,
   "id": "1c982067",
   "metadata": {},
   "outputs": [],
   "source": [
    "rtio_spec = left_spec/right_spec"
   ]
  },
  {
   "cell_type": "code",
   "execution_count": 34,
   "id": "84d324cd",
   "metadata": {},
   "outputs": [
    {
     "data": {
      "image/png": "[encoded data removed]",
      "text/plain": [
       "<Figure size 432x288 with 1 Axes>"
      ]
     },
     "metadata": {
      "needs_background": "light"
     },
     "output_type": "display_data"
    }
   ],
   "source": [
    "plt.clf()\n",
    "ax = plt.gca()\n",
    "ax.plot(rtio_spec, label='ratio', color='k')\n",
    "#ax.plot(left_spec, label='right')\n",
    "ax.set_xlabel('spec')\n",
    "ax.legend()\n",
    "plt.savefig('ratio_spec.png', dpi=300)\n",
    "plt.show()"
   ]
  },
  {
   "cell_type": "markdown",
   "id": "f98607d6",
   "metadata": {},
   "source": [
    "## Spatial cuts"
   ]
  },
  {
   "cell_type": "code",
   "execution_count": 25,
   "id": "eb5b44c9",
   "metadata": {},
   "outputs": [
    {
     "data": {
      "text/plain": [
       "2064"
      ]
     },
     "execution_count": 25,
     "metadata": {},
     "output_type": "execute_result"
    }
   ],
   "source": [
    "spec_mid = flatImages.pixelflat_raw.shape[0]//2\n",
    "spec_mid"
   ]
  },
  {
   "cell_type": "code",
   "execution_count": 26,
   "id": "f8836780",
   "metadata": {},
   "outputs": [],
   "source": [
    "bot_spat = np.median(flatImages.pixelflat_raw[spec_mid-3:spec_mid, :], axis=0)\n",
    "top_spat = np.median(flatImages.pixelflat_raw[spec_mid:spec_mid+3, :], axis=0)"
   ]
  },
  {
   "cell_type": "code",
   "execution_count": 27,
   "id": "716d7338",
   "metadata": {},
   "outputs": [],
   "source": [
    "rtio_spat = top_spat/bot_spat"
   ]
  },
  {
   "cell_type": "code",
   "execution_count": 35,
   "id": "490efde6",
   "metadata": {},
   "outputs": [
    {
     "data": {
      "image/png": "[encoded data removed]",
      "text/plain": [
       "<Figure size 432x288 with 1 Axes>"
      ]
     },
     "metadata": {
      "needs_background": "light"
     },
     "output_type": "display_data"
    }
   ],
   "source": [
    "plt.clf()\n",
    "ax = plt.gca()\n",
    "ax.plot(rtio_spat, label='ratio', color='r')\n",
    "#ax.plot(left_spec, label='right')\n",
    "ax.set_xlabel('spat')\n",
    "ax.set_xlim(1400, 2600)\n",
    "ax.set_ylim(0.9, 1.1)\n",
    "ax.legend()\n",
    "plt.savefig('ratio_spat.png', dpi=300)\n",
    "\n",
    "plt.show()"
   ]
  },
  {
   "cell_type": "code",
   "execution_count": null,
   "id": "084c35bd",
   "metadata": {},
   "outputs": [],
   "source": []
  }
 ],
 "metadata": {
  "kernelspec": {
   "display_name": "Python 3 (ipykernel)",
   "language": "python",
   "name": "python3"
  },
  "language_info": {
   "codemirror_mode": {
    "name": "ipython",
    "version": 3
   },
   "file_extension": ".py",
   "mimetype": "text/x-python",
   "name": "python",
   "nbconvert_exporter": "python",
   "pygments_lexer": "ipython3",
   "version": "3.8.5"
  }
 },
 "nbformat": 4,
 "nbformat_minor": 5
}
