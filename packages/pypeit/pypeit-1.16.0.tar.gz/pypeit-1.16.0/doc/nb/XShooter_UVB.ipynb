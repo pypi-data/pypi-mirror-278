{
 "cells": [
  {
   "cell_type": "markdown",
   "metadata": {},
   "source": [
    "# XShooter UVB Wavelengths"
   ]
  },
  {
   "cell_type": "code",
   "execution_count": 26,
   "metadata": {},
   "outputs": [],
   "source": [
    "# imports\n",
    "from pkg_resources import resource_filename\n",
    "import os\n",
    "import numpy as np\n",
    "from astropy.io import fits\n",
    "from astropy import units\n",
    "\n",
    "from scipy.io import readsav\n",
    "\n",
    "from pypeit.core.wave import airtovac\n",
    "from pypeit.core.wavecal import waveio\n",
    "from pypeit.core.wavecal import templates\n",
    "from pypeit.core import wave\n",
    "from pypeit.wavemodel import create_ThArlinelist"
   ]
  },
  {
   "cell_type": "markdown",
   "metadata": {},
   "source": [
    "# New fussing"
   ]
  },
  {
   "cell_type": "markdown",
   "metadata": {},
   "source": [
    "## Load up MagE wavelengths (and turn to air to ID with George's plots)"
   ]
  },
  {
   "cell_type": "code",
   "execution_count": 3,
   "metadata": {},
   "outputs": [],
   "source": [
    "list_file = os.path.join(resource_filename('pypeit', 'data'), 'arc_lines', 'lists', 'ThAr_MagE_lines.dat')"
   ]
  },
  {
   "cell_type": "code",
   "execution_count": 4,
   "metadata": {},
   "outputs": [],
   "source": [
    "mage_ThAr_vac = waveio.load_line_list(list_file)"
   ]
  },
  {
   "cell_type": "code",
   "execution_count": 6,
   "metadata": {},
   "outputs": [
    {
     "data": {
      "text/html": [
       "<div><i>Table length=10</i>\n",
       "<table id=\"table140466578932592\" class=\"table-striped table-bordered table-condensed\">\n",
       "<thead><tr><th>wave</th><th>ion</th><th>NIST</th><th>Instr</th><th>amplitude</th><th>Source</th></tr></thead>\n",
       "<thead><tr><th>float64</th><th>str4</th><th>int64</th><th>int64</th><th>float64</th><th>str12</th></tr></thead>\n",
       "<tr><td>3034.4515616388403</td><td>ThAr</td><td>1</td><td>32</td><td>3250.5330562821146</td><td>wavemodel.py</td></tr>\n",
       "<tr><td>3094.2351186737014</td><td>ThAr</td><td>1</td><td>32</td><td>163.4091741852267</td><td>wavemodel.py</td></tr>\n",
       "<tr><td>3140.0712478114897</td><td>ThAr</td><td>1</td><td>32</td><td>118.03246067794022</td><td>wavemodel.py</td></tr>\n",
       "<tr><td>3170.5580546208257</td><td>ThAr</td><td>1</td><td>32</td><td>123.99931788498296</td><td>wavemodel.py</td></tr>\n",
       "<tr><td>3181.14976954272</td><td>ThAr</td><td>1</td><td>32</td><td>160.1378083424093</td><td>wavemodel.py</td></tr>\n",
       "<tr><td>3189.169932325525</td><td>ThAr</td><td>1</td><td>32</td><td>153.8608233826956</td><td>wavemodel.py</td></tr>\n",
       "<tr><td>3196.585400263197</td><td>ThAr</td><td>1</td><td>32</td><td>104.46079002943156</td><td>wavemodel.py</td></tr>\n",
       "<tr><td>3233.2380176392016</td><td>ThAr</td><td>1</td><td>32</td><td>150.16225080755922</td><td>wavemodel.py</td></tr>\n",
       "<tr><td>3239.1470401332326</td><td>ThAr</td><td>1</td><td>32</td><td>130.3364122188992</td><td>wavemodel.py</td></tr>\n",
       "<tr><td>3244.989691038716</td><td>ThAr</td><td>1</td><td>32</td><td>202.98111248750146</td><td>wavemodel.py</td></tr>\n",
       "</table></div>"
      ],
      "text/plain": [
       "<Table length=10>\n",
       "       wave        ion   NIST Instr     amplitude         Source   \n",
       "     float64       str4 int64 int64      float64          str12    \n",
       "------------------ ---- ----- ----- ------------------ ------------\n",
       "3034.4515616388403 ThAr     1    32 3250.5330562821146 wavemodel.py\n",
       "3094.2351186737014 ThAr     1    32  163.4091741852267 wavemodel.py\n",
       "3140.0712478114897 ThAr     1    32 118.03246067794022 wavemodel.py\n",
       "3170.5580546208257 ThAr     1    32 123.99931788498296 wavemodel.py\n",
       "  3181.14976954272 ThAr     1    32  160.1378083424093 wavemodel.py\n",
       " 3189.169932325525 ThAr     1    32  153.8608233826956 wavemodel.py\n",
       " 3196.585400263197 ThAr     1    32 104.46079002943156 wavemodel.py\n",
       "3233.2380176392016 ThAr     1    32 150.16225080755922 wavemodel.py\n",
       "3239.1470401332326 ThAr     1    32  130.3364122188992 wavemodel.py\n",
       " 3244.989691038716 ThAr     1    32 202.98111248750146 wavemodel.py"
      ]
     },
     "execution_count": 6,
     "metadata": {},
     "output_type": "execute_result"
    }
   ],
   "source": [
    "mage_ThAr_vac[0:10]"
   ]
  },
  {
   "cell_type": "code",
   "execution_count": 11,
   "metadata": {},
   "outputs": [],
   "source": [
    "mage_ThAr_air = wave.vactoair(mage_ThAr_vac['wave']*units.AA)"
   ]
  },
  {
   "cell_type": "code",
   "execution_count": 12,
   "metadata": {},
   "outputs": [
    {
     "data": {
      "text/latex": [
       "$[3139.1617,~3169.6408,~3180.2299,~3188.248,~3195.6616,~3232.305,~3238.2125,~3244.0536,~3247.5492,~3253.8543,~3257.3612,~3271.9884,~3285.813,~3293.6293,~3301.6462,~3304.2401,~3307.2142,~3309.4254,~3325.0248,~3330.4682,~3333.1256,~3348.7732,~3351.0275,~3358.6006,~3361.182,~3365.268,~3373.3382,~3375.5542,~3376.4294,~3380.8566,~3388.7107,~3392.0285,~3397.9392] \\; \\mathrm{\\mathring{A}}$"
      ],
      "text/plain": [
       "<Quantity [3139.16171326, 3169.6408362 , 3180.2298779 , 3188.24801526,\n",
       "           3195.66160954, 3232.30495299, 3238.2124784 , 3244.0536485 ,\n",
       "           3247.54921961, 3253.85433904, 3257.3611663 , 3271.98840282,\n",
       "           3285.81304765, 3293.62930541, 3301.64619543, 3304.24008808,\n",
       "           3307.21417142, 3309.42538438, 3325.02482796, 3330.46823241,\n",
       "           3333.12562665, 3348.7731695 , 3351.02749248, 3358.60059985,\n",
       "           3361.18201794, 3365.26796299, 3373.33821643, 3375.55419959,\n",
       "           3376.42941644, 3380.85661332, 3388.71067349, 3392.02850599,\n",
       "           3397.93922477] Angstrom>"
      ]
     },
     "execution_count": 12,
     "metadata": {},
     "output_type": "execute_result"
    }
   ],
   "source": [
    "cut = (mage_ThAr_air > 3100*units.AA) & (mage_ThAr_air < 3400*units.AA)\n",
    "mage_ThAr_air[cut]"
   ]
  },
  {
   "cell_type": "markdown",
   "metadata": {},
   "source": [
    "## Load up NIST + Murphy"
   ]
  },
  {
   "cell_type": "markdown",
   "metadata": {},
   "source": [
    "# Generate Line List"
   ]
  },
  {
   "cell_type": "code",
   "execution_count": 14,
   "metadata": {},
   "outputs": [
    {
     "name": "stderr",
     "output_type": "stream",
     "text": [
      "\u001b[1;32m[INFO]    ::\u001b[0m \u001b[1;34mwavemodel.py 462 optical_modelThAr()\u001b[0m - Creating wavelength vector in velocity space.\n",
      "\u001b[1;32m[INFO]    ::\u001b[0m \u001b[1;34mwavemodel.py 470 optical_modelThAr()\u001b[0m - Add in ThAr lines\n",
      "\u001b[1;32m[INFO]    ::\u001b[0m \u001b[1;34mwavemodel.py 247 thar_lines()\u001b[0m - Reading in the ThAr spectrum\n",
      "\u001b[1;32m[INFO]    ::\u001b[0m \u001b[1;34mwavemodel.py 574 conv2res()\u001b[0m - The binning of the wavelength array at 6012.997927538744 is: 0.03509988663063268\n",
      "\u001b[1;32m[INFO]    ::\u001b[0m \u001b[1;34mwavemodel.py 578 conv2res()\u001b[0m - Covolving with a Gaussian kernel with sigma = 12.123923254279982 pixels\n",
      "\u001b[1;31m[WARNING] ::\u001b[0m \u001b[1;34mwavemodel.py 493 optical_modelThAr()\u001b[0m - Model of the ThAr spectrum outside the template coverage.\n",
      "\u001b[1;31m[WARNING] ::\u001b[0m \u001b[1;34mwavemodel.py 496 optical_modelThAr()\u001b[0m - Model of the ThAr spectrum outside the template coverage.\n",
      "\u001b[1;31m[WARNING] ::\u001b[0m \u001b[1;34mwavemodel.py 844 create_ThArlinelist()\u001b[0m - No min FWHM for the line detection set. Derived from the resolution at the center of the spectrum\n",
      "\u001b[1;31m[WARNING] ::\u001b[0m \u001b[1;34mwavemodel.py 860 create_ThArlinelist()\u001b[0m - No file_root_name as been set. The file will called ThAr_lines.dat\n",
      "\u001b[1;32m[INFO]    ::\u001b[0m \u001b[1;34mwavemodel.py 686 create_linelist()\u001b[0m - Searching for peaks 3.0 sigma above background\n",
      " OptimizeWarning: Covariance of the parameters could not be estimated (_minpack_py.py:833)\n",
      "\u001b[1;32m[INFO]    ::\u001b[0m \u001b[1;34mwavemodel.py 698 create_linelist()\u001b[0m - Converting wavelengths from air to vacuum\n",
      "\u001b[1;32m[INFO]    ::\u001b[0m \u001b[1;34mwavemodel.py 713 create_linelist()\u001b[0m - Printing file: ThAr_lines.dat\n"
     ]
    }
   ],
   "source": [
    "create_ThArlinelist(6000.)"
   ]
  },
  {
   "cell_type": "code",
   "execution_count": 15,
   "metadata": {},
   "outputs": [],
   "source": [
    "new_lines = waveio.load_line_list('ThAr_lines.dat')"
   ]
  },
  {
   "cell_type": "code",
   "execution_count": 16,
   "metadata": {},
   "outputs": [
    {
     "data": {
      "text/html": [
       "<div><i>Table length=5</i>\n",
       "<table id=\"table140464941672528\" class=\"table-striped table-bordered table-condensed\">\n",
       "<thead><tr><th>wave</th><th>ion</th><th>NIST</th><th>Instr</th><th>amplitude</th><th>Source</th></tr></thead>\n",
       "<thead><tr><th>float64</th><th>str4</th><th>int64</th><th>int64</th><th>float64</th><th>str12</th></tr></thead>\n",
       "<tr><td>3094.261313368305</td><td>ThAr</td><td>1</td><td>32</td><td>218.70677052723238</td><td>wavemodel.py</td></tr>\n",
       "<tr><td>3140.0171522371547</td><td>ThAr</td><td>1</td><td>32</td><td>148.12281124090538</td><td>wavemodel.py</td></tr>\n",
       "<tr><td>3170.5540268969266</td><td>ThAr</td><td>1</td><td>32</td><td>158.8138285062605</td><td>wavemodel.py</td></tr>\n",
       "<tr><td>3181.1243070684113</td><td>ThAr</td><td>1</td><td>32</td><td>227.88057703827917</td><td>wavemodel.py</td></tr>\n",
       "<tr><td>3189.181869102448</td><td>ThAr</td><td>1</td><td>32</td><td>222.56046465150408</td><td>wavemodel.py</td></tr>\n",
       "</table></div>"
      ],
      "text/plain": [
       "<Table length=5>\n",
       "       wave        ion   NIST Instr     amplitude         Source   \n",
       "     float64       str4 int64 int64      float64          str12    \n",
       "------------------ ---- ----- ----- ------------------ ------------\n",
       " 3094.261313368305 ThAr     1    32 218.70677052723238 wavemodel.py\n",
       "3140.0171522371547 ThAr     1    32 148.12281124090538 wavemodel.py\n",
       "3170.5540268969266 ThAr     1    32  158.8138285062605 wavemodel.py\n",
       "3181.1243070684113 ThAr     1    32 227.88057703827917 wavemodel.py\n",
       " 3189.181869102448 ThAr     1    32 222.56046465150408 wavemodel.py"
      ]
     },
     "execution_count": 16,
     "metadata": {},
     "output_type": "execute_result"
    }
   ],
   "source": [
    "new_lines[0:5]"
   ]
  },
  {
   "cell_type": "code",
   "execution_count": 17,
   "metadata": {},
   "outputs": [],
   "source": [
    "new_ThAr_air = wave.vactoair(new_lines['wave']*units.AA)"
   ]
  },
  {
   "cell_type": "code",
   "execution_count": 18,
   "metadata": {},
   "outputs": [
    {
     "data": {
      "text/latex": [
       "$[3139.1076,~3169.6368,~3180.2044,~3188.2599,~3232.2895,~3238.1238,~3243.7253,~3244.2597,~3247.5655,~3253.8509,~3257.3831,~3271.9976,~3285.775,~3293.6754,~3301.6501,~3304.2383,~3309.387,~3325.0115,~3330.4667,~3333.1276,~3348.7774,~3351.0295,~3361.1558,~3374.9744,~3376.4447,~3380.857,~3388.5267,~3392.0129,~3397.5777,~3398.5135] \\; \\mathrm{\\mathring{A}}$"
      ],
      "text/plain": [
       "<Quantity [3139.1076313 , 3169.63680949, 3180.20442186, 3188.25994902,\n",
       "           3232.28946636, 3238.12379415, 3243.72529216, 3244.25971499,\n",
       "           3247.565541  , 3253.85088608, 3257.38308597, 3271.99762246,\n",
       "           3285.77501871, 3293.67535863, 3301.65007668, 3304.23829914,\n",
       "           3309.38701398, 3325.01150979, 3330.4666681 , 3333.12763017,\n",
       "           3348.77740657, 3351.02952968, 3361.15576552, 3374.97437086,\n",
       "           3376.44469038, 3380.85697774, 3388.52667378, 3392.01290371,\n",
       "           3397.57771627, 3398.51353782] Angstrom>"
      ]
     },
     "execution_count": 18,
     "metadata": {},
     "output_type": "execute_result"
    }
   ],
   "source": [
    "cut = (new_ThAr_air > 3100*units.AA) & (new_ThAr_air < 3400*units.AA)\n",
    "new_ThAr_air[cut]"
   ]
  },
  {
   "cell_type": "code",
   "execution_count": 27,
   "metadata": {},
   "outputs": [],
   "source": [
    "def xidl_hires(xidl_file, specbin=1):\n",
    "    \"\"\"\n",
    "    Read an XIDL format solution for Keck/HIRES\n",
    "    Note:  They used air\n",
    "    Args:\n",
    "        xidl_file (str):\n",
    "            Keck/HIRES save file\n",
    "    Returns:\n",
    "    \"\"\"\n",
    "    xidl_dict = readsav(xidl_file)\n",
    "    order_vec = xidl_dict['guess_ordr']\n",
    "    norders = order_vec.size\n",
    "    nspec = xidl_dict['sv_aspec'].shape[1]\n",
    "\n",
    "    # Wavelengths\n",
    "    wave = np.zeros((norders, specbin*nspec))\n",
    "    spec = np.zeros((norders, specbin*nspec))\n",
    "\n",
    "    calib = xidl_dict['all_arcfit']\n",
    "    order_mask = np.ones(norders, dtype=bool)\n",
    "\n",
    "    # Here we go on the fits\n",
    "    for kk in range(norders):\n",
    "        # Generate the wavelengths\n",
    "        if calib['FUNC'][kk] == b'CHEBY':\n",
    "            log10_wv_air = cheby_val(calib['FFIT'][kk], \n",
    "                               np.arange(nspec),\n",
    "                        calib['NRM'][kk], calib['NORD'][kk])\n",
    "        elif calib['FUNC'][kk] == b'POLY':\n",
    "            log10_wv_air = templates.poly_val(calib['FFIT'][kk], \n",
    "                              np.arange(nspec),\n",
    "                              calib['NRM'][kk])\n",
    "        else:\n",
    "            order_mask[kk]=False\n",
    "            continue\n",
    "\n",
    "        wv_vac = airtovac(10**log10_wv_air * units.AA).value\n",
    "        ispec = xidl_dict['sv_aspec'][kk,:]\n",
    "        # Flip to blue to red?\n",
    "        if wv_vac[1] < wv_vac[0]:\n",
    "            wv_vac = wv_vac[::-1]\n",
    "            ispec = ispec[::-1]\n",
    "        # Fill\n",
    "        if specbin != 1:\n",
    "            wave[kk,:] = arc.resize_spec(wv_vac, nspec*specbin)\n",
    "            spec[kk,:] = arc.resize_spec(ispec, nspec*specbin)\n",
    "        else:\n",
    "            wave[kk,:] = wv_vac\n",
    "            spec[kk,:] = ispec\n",
    "    # Return\n",
    "\n",
    "    return order_vec[order_mask], wave[order_mask,:], spec[order_mask,:]"
   ]
  },
  {
   "cell_type": "code",
   "execution_count": 28,
   "metadata": {},
   "outputs": [],
   "source": [
    "xidl_file = '/home/xavier/Projects/xidl/Keck/HIRES/CALIBS/ARCS/hires_tmpl2x1B0.idl'"
   ]
  },
  {
   "cell_type": "code",
   "execution_count": 29,
   "metadata": {},
   "outputs": [],
   "source": [
    "orders, wave, spec = xidl_hires(xidl_file)"
   ]
  },
  {
   "cell_type": "code",
   "execution_count": 30,
   "metadata": {},
   "outputs": [
    {
     "data": {
      "text/plain": [
       "array([ 89,  90,  91,  92,  93,  94,  95,  96,  97,  98,  99, 100, 101,\n",
       "       102, 103, 104, 105, 106, 107, 108, 109, 110, 111, 112, 113],\n",
       "      dtype=int32)"
      ]
     },
     "execution_count": 30,
     "metadata": {},
     "output_type": "execute_result"
    }
   ],
   "source": [
    "orders"
   ]
  },
  {
   "cell_type": "code",
   "execution_count": 31,
   "metadata": {},
   "outputs": [
    {
     "data": {
      "text/plain": [
       "(25, 3990)"
      ]
     },
     "execution_count": 31,
     "metadata": {},
     "output_type": "execute_result"
    }
   ],
   "source": [
    "wave.shape"
   ]
  },
  {
   "cell_type": "markdown",
   "metadata": {},
   "source": [
    "----"
   ]
  },
  {
   "cell_type": "markdown",
   "metadata": {},
   "source": [
    "# Load up"
   ]
  },
  {
   "cell_type": "code",
   "execution_count": 8,
   "metadata": {},
   "outputs": [],
   "source": [
    "path = '/scratch/REDUX/VLT/XShooter/UVB/Wavecal'"
   ]
  },
  {
   "cell_type": "code",
   "execution_count": null,
   "metadata": {},
   "outputs": [],
   "source": []
  },
  {
   "cell_type": "markdown",
   "metadata": {},
   "source": [
    "## merge2d"
   ]
  },
  {
   "cell_type": "code",
   "execution_count": 4,
   "metadata": {},
   "outputs": [],
   "source": [
    "merge2d_file = os.path.join(path, 'CAL_SLIT_MERGE2D_UVB.fits')"
   ]
  },
  {
   "cell_type": "code",
   "execution_count": 5,
   "metadata": {},
   "outputs": [
    {
     "name": "stdout",
     "output_type": "stream",
     "text": [
      "Filename: /scratch/REDUX/VLT/XShooter/UVB/Wavecal/CAL_SLIT_MERGE2D_UVB.fits\n",
      "No.    Name      Ver    Type      Cards   Dimensions   Format\n",
      "  0  FLUX          1 PrimaryHDU     485   (10283, 73)   float32   \n",
      "  1  ERRS          1 ImageHDU        31   (10283, 73)   float32   \n",
      "  2  QUAL          1 ImageHDU        30   (10283, 73)   int32   \n"
     ]
    }
   ],
   "source": [
    "merge2d = fits.open(merge2d_file)\n",
    "merge2d.info()"
   ]
  },
  {
   "cell_type": "code",
   "execution_count": 6,
   "metadata": {},
   "outputs": [],
   "source": [
    "head0_merge2d = merge2d[0].header"
   ]
  },
  {
   "cell_type": "code",
   "execution_count": 7,
   "metadata": {},
   "outputs": [
    {
     "data": {
      "text/plain": [
       "SIMPLE  =                    T / file does conform to FITS standard             \n",
       "BITPIX  =                  -32 / number of bits per data pixel                  \n",
       "NAXIS   =                    2 / number of data axes                            \n",
       "NAXIS1  =                10283 / length of data axis 1                          \n",
       "NAXIS2  =                   73 / length of data axis 2                          \n",
       "EXTEND  =                    T / FITS dataset may contain extensions            \n",
       "COMMENT   FITS (Flexible Image Transport System) format is defined in 'Astronomy\n",
       "COMMENT   and Astrophysics', volume 376, page 359; bibcode: 2001A&A...376..359H \n",
       "DATE    = '2020-05-07T11:48:58' / file creation date (YYYY-MM-DDThh:mm:ss UT)   \n",
       "CRPIX1  =                   1.                                                  \n",
       "CRVAL1  =              298.925                                                  \n",
       "CDELT1  =                0.025                                                  \n",
       "CTYPE1  = 'LINEAR  '                                                            \n",
       "CRPIX2  =                   1.                                                  \n",
       "CRVAL2  =    -5.30000019073486                                                  \n",
       "CDELT2  =                 0.15                                                  \n",
       "CTYPE2  = 'LINEAR  '                                                            \n",
       "CD1_1   =                0.025                                                  \n",
       "CD1_2   =                   0.                                                  \n",
       "CD2_1   =                   0.                                                  \n",
       "CD2_2   =                 0.15                                                  \n",
       "IRAF-TLM= '2020-05-07T08:21:18' / Time of last modification                     \n",
       "ORIGIN  = 'ESO     '           / European Southern Observatory                  \n",
       "TELESCOP= 'Tel name not set'   / ESO Telescope Name                             \n",
       "INSTRUME= 'XSHOOTER'           / Instrument used.                               \n",
       "OBJECT  = 'LAMP_WAVE'          / Original target.                               \n",
       "EXPTIME =                  30. / Total integration time                         \n",
       "MJD-OBS =       58786.56388542 / MJD start (2019-10-30T13:31:59.700)            \n",
       "DATE-OBS= '2019-10-30T13:31:59.700' / Date of observation                       \n",
       "PI-COI  = 'XSHOOTER Operation Team' / PI-COI name.                              \n",
       "BUNIT   = 'ADU     '                                                            \n",
       "EXTNAME = 'FLUX    '                                                            \n",
       "HDUCLASS= 'ESO     '           / hdu classification                             \n",
       "HDUDOC  = 'DICD    '           / hdu reference document                         \n",
       "HDUVERS = 'DICD V6.0'          / hdu reference document version                 \n",
       "HDUCLAS1= 'IMAGE   '           / hdu format classification                      \n",
       "HDUCLAS2= 'DATA    '           / hdu type classification                        \n",
       "ERRDATA = 'ERRS    '           / name of errs extension                         \n",
       "QUALDATA= 'QUAL    '           / name of qual extension                         \n",
       "ARCFILE = 'XSHOO.2019-10-30T13:31:59.700.fits' / Archive File Name              \n",
       "DATAMD5 = '48096150ac3617110e31576377773fb9' / MD5 checksum                     \n",
       "PIPEFILE= 'CAL_SLIT_MERGE2D_UVB.fits' / Filename of data product                \n",
       "HIERARCH ESO OBS DID = 'ESO-VLT-DIC.OBS-2.0' / OBS Dictionary                   \n",
       "HIERARCH ESO OBS GRP = '0       ' / linked blocks                               \n",
       "HIERARCH ESO OBS ID = 200189624 / Observation block ID                          \n",
       "HIERARCH ESO OBS NAME = 'Calibration' / OB name                                 \n",
       "HIERARCH ESO OBS NTPL =     35 / Number of templates within OB                  \n",
       "HIERARCH ESO OBS PI-COI ID = 52022 / ESO internal PI-COI ID                     \n",
       "HIERARCH ESO OBS PI-COI NAME = 'XSHOOTER Operation Team' / PI-COI name          \n",
       "HIERARCH ESO OBS PROG ID = '60.A-9022(C)' / ESO program identification          \n",
       "HIERARCH ESO OBS START = '2019-10-30T09:37:40' / OB start time                  \n",
       "HIERARCH ESO OBS TPLNO =    29 / Template number within OB                      \n",
       "HIERARCH ESO TPL DID = 'ESO-VLT-DIC.TPL-1.9' / Data dictionary for TPL          \n",
       "HIERARCH ESO TPL EXPNO =     1 / Exposure number within template                \n",
       "HIERARCH ESO TPL ID = 'XSHOOTER_slt_cal_UVBVisArcs' / Template signatur         \n",
       "HIERARCH ESO TPL NAME = 'Stand-alone Daytime Calibration Template' / Temp       \n",
       "HIERARCH ESO TPL NEXP =      2 / Number of exposures within templat             \n",
       "HIERARCH ESO TPL PRESEQ = 'XSHOOTER_cal_UVBVisArcs.seq' / Sequencer script      \n",
       "HIERARCH ESO TPL START = '2019-10-30T13:31:32' / TPL start time                 \n",
       "HIERARCH ESO TPL VERSION = '$Revision: 192749 $' / Version of the template      \n",
       "HIERARCH ESO INS ADC1 DEC = -243654.72393 / Telescope desclination [deg].       \n",
       "HIERARCH ESO INS ADC1 END = 72.4903 / Position angle at end [deg].              \n",
       "HIERARCH ESO INS ADC1 MODE = 'OFF     ' / ADC mode.                             \n",
       "HIERARCH ESO INS ADC1 RA = 112046.979608 / Telescope right ascension [deg].     \n",
       "HIERARCH ESO INS ADC2 DEC = -243654.72393 / Telescope desclination [deg].       \n",
       "HIERARCH ESO INS ADC2 END = 273.731 / Position angle at end [deg].              \n",
       "HIERARCH ESO INS ADC2 MODE = 'OFF     ' / ADC mode.                             \n",
       "HIERARCH ESO INS ADC2 RA = 112046.979608 / Telescope right ascension [deg].     \n",
       "HIERARCH ESO INS ADC3 DEC = -243654.72393 / Telescope desclination [deg].       \n",
       "HIERARCH ESO INS ADC3 END = 70.1722 / Position angle at end [deg].              \n",
       "HIERARCH ESO INS ADC3 MODE = 'OFF     ' / ADC mode.                             \n",
       "HIERARCH ESO INS ADC3 RA = 112046.979608 / Telescope right ascension [deg].     \n",
       "HIERARCH ESO INS ADC4 DEC = -243654.72393 / Telescope desclination [deg].       \n",
       "HIERARCH ESO INS ADC4 END = 275.202 / Position angle at end [deg].              \n",
       "HIERARCH ESO INS ADC4 MODE = 'OFF     ' / ADC mode.                             \n",
       "HIERARCH ESO INS ADC4 RA = 112046.979608 / Telescope right ascension [deg].     \n",
       "HIERARCH ESO INS DATE = '2005-04-01' / Instrument release date (yyyy-mm-d       \n",
       "HIERARCH ESO INS DID = 'ESO-VLT-DIC.XSHOOTER_ICS-271852' / Data dictiona        \n",
       "HIERARCH ESO INS FOCU1 ENC = 26884 / Absolute position [Enc].                   \n",
       "HIERARCH ESO INS FOCU1 POS = 13.7 / Position [C].                               \n",
       "HIERARCH ESO INS FOCU2 ENC = 11750 / Absolute position [Enc].                   \n",
       "HIERARCH ESO INS FOCU2 POS = 0. / Position [C].                                 \n",
       "HIERARCH ESO INS ID = 'XSHOOTER/176642' / Instrument ID.                        \n",
       "HIERARCH ESO INS LAMP1 ID = 'SPL1    ' / Lamp ID.                               \n",
       "HIERARCH ESO INS LAMP1 NAME = 'ThAr_Lamp' / Lamp name.                          \n",
       "HIERARCH ESO INS LAMP1 ST =  T / Lamp activated.                                \n",
       "HIERARCH ESO INS MIRR1 ID = 'ThAr_D2 ' / Mirror unique ID.                      \n",
       "HIERARCH ESO INS MIRR1 NAME = 'ThAr_D2 ' / Mirror name.                         \n",
       "HIERARCH ESO INS MIRR1 NO =  2 / Mirror slide position.                         \n",
       "HIERARCH ESO INS MODE = 'SLITSPEC' / Instrument mode used.                      \n",
       "HIERARCH ESO INS OPTI2 ID = 'SLOT    ' / OPTIi unique ID.                       \n",
       "HIERARCH ESO INS OPTI2 NAME = 'SLOT    ' / OPTIi name.                          \n",
       "HIERARCH ESO INS OPTI2 NO =  3 / OPTIi slot number.                             \n",
       "HIERARCH ESO INS OPTI2 TYPE = 'MIRROR  ' / OPTIi element.                       \n",
       "HIERARCH ESO INS OPTI3 ID = 'PS7     ' / OPTIi unique ID.                       \n",
       "HIERARCH ESO INS OPTI3 NAME = '1.0x11  ' / OPTIi name.                          \n",
       "HIERARCH ESO INS OPTI3 NO =  7 / OPTIi slot number.                             \n",
       "HIERARCH ESO INS OPTI3 TYPE = 'SLIT    ' / OPTIi element.                       \n",
       "HIERARCH ESO INS OPTI4 ID = 'PS7     ' / OPTIi unique ID.                       \n",
       "HIERARCH ESO INS OPTI4 NAME = '0.9x11  ' / OPTIi name.                          \n",
       "HIERARCH ESO INS OPTI4 NO =  7 / OPTIi slot number.                             \n",
       "HIERARCH ESO INS OPTI4 TYPE = 'SLIT    ' / OPTIi element.                       \n",
       "HIERARCH ESO INS OPTI5 ID = 'PS8     ' / OPTIi unique ID.                       \n",
       "HIERARCH ESO INS OPTI5 NAME = 'Blind   ' / OPTIi name.                          \n",
       "HIERARCH ESO INS OPTI5 NO =  8 / OPTIi slot number.                             \n",
       "HIERARCH ESO INS OPTI5 TYPE = 'SLIT    ' / OPTIi element.                       \n",
       "HIERARCH ESO INS PATH = 'SLITSPEC' / Optical path used.                         \n",
       "HIERARCH ESO INS SENS21 ID = 'CA1F1   ' / sensor ID.                            \n",
       "HIERARCH ESO INS SENS21 NAME = 'Cab.1 Flow rate' / sensor common name.          \n",
       "HIERARCH ESO INS SENS21 VAL = 187. / Cab. 1 Flow rate [l/h]                     \n",
       "HIERARCH ESO INS SENS60 ID = 'NPM     ' / sensor ID.                            \n",
       "HIERARCH ESO INS SENS60 NAME = 'NIR cryo. P' / sensor common name.              \n",
       "HIERARCH ESO INS SENS60 VAL = 999999. / NIR Pressure [mbar]                     \n",
       "HIERARCH ESO INS SENS81 ID = 'RANGE   ' / sensor ID.                            \n",
       "HIERARCH ESO INS SENS81 NAME = 'Heater Range' / sensor common name.             \n",
       "HIERARCH ESO INS SENS81 VAL = 4. / Lake 340 Heater Range                        \n",
       "HIERARCH ESO INS SENS82 ID = 'HEATR   ' / sensor ID.                            \n",
       "HIERARCH ESO INS SENS82 NAME = 'Heater output' / sensor common name.            \n",
       "HIERARCH ESO INS SENS82 VAL = 39.4 / Lake 340 Heater output                     \n",
       "HIERARCH ESO INS SENSOR5 SWSIM = T / If T, function is software simulat         \n",
       "HIERARCH ESO INS SHUT1 ID = 'INSH    ' / Shutter ID.                            \n",
       "HIERARCH ESO INS SHUT1 NAME = 'Instrument shutter' / Shutter name.              \n",
       "HIERARCH ESO INS SHUT1 ST =  F / Shutter open.                                  \n",
       "HIERARCH ESO INS SWSIM = 'NORMAL  ' / Software simulation.                      \n",
       "HIERARCH ESO INS TEMP1 ID = 'TMUC    ' / Temperature sensor ID.                 \n",
       "HIERARCH ESO INS TEMP1 NAME = 'UVB Camera temp.' / Temperature sensor name.     \n",
       "HIERARCH ESO INS TEMP1 VAL = 14.17 / UVB Camera temp. [C]                       \n",
       "HIERARCH ESO INS TEMP10 ID = 'TMA     ' / Temperature sensor ID.                \n",
       "HIERARCH ESO INS TEMP10 NAME = 'Ambient temp.' / Temperature sensor name.       \n",
       "HIERARCH ESO INS TEMP10 VAL = 14.86 / Ambient temp. [C]                         \n",
       "HIERARCH ESO INS TEMP11 ID = 'TMADC   ' / Temperature sensor ID.                \n",
       "HIERARCH ESO INS TEMP11 NAME = 'BB UVB ADC temp.' / Temperature sensor name.    \n",
       "HIERARCH ESO INS TEMP11 VAL = 15.63 / BB UVB ADC temp. [C]                      \n",
       "HIERARCH ESO INS TEMP2 ID = 'TMUP    ' / Temperature sensor ID.                 \n",
       "HIERARCH ESO INS TEMP2 NAME = 'UVB Prism temp.' / Temperature sensor name.      \n",
       "HIERARCH ESO INS TEMP2 VAL = 14. / UVB Prism temp. [C]                          \n",
       "HIERARCH ESO INS TEMP21 ID = 'CA1OT   ' / Temperature sensor ID.                \n",
       "HIERARCH ESO INS TEMP21 NAME = 'Cab.1 outlet temp.' / Temperature sensor name.  \n",
       "HIERARCH ESO INS TEMP21 VAL = 17.64 / Cab. 1 outlet temp. [C]                   \n",
       "HIERARCH ESO INS TEMP22 ID = 'CA1IT   ' / Temperature sensor ID.                \n",
       "HIERARCH ESO INS TEMP22 NAME = 'Cab.1 inlet temp.' / Temperature sensor name.   \n",
       "HIERARCH ESO INS TEMP22 VAL = 17.65 / Cab. 1 inlet temp. [C]                    \n",
       "HIERARCH ESO INS TEMP23 ID = 'CA1CT   ' / Temperature sensor ID.                \n",
       "HIERARCH ESO INS TEMP23 NAME = 'Cab.1 temp.' / Temperature sensor name.         \n",
       "HIERARCH ESO INS TEMP23 VAL = 18.01 / Cab. 1 temp. [C]                          \n",
       "HIERARCH ESO INS TEMP24 ID = 'CA1AT   ' / Temperature sensor ID.                \n",
       "HIERARCH ESO INS TEMP24 NAME = 'Cab.1 Amb. temp.' / Temperature sensor name.    \n",
       "HIERARCH ESO INS TEMP24 VAL = 17.81 / Cab. 1 Amb. temp.  [C]                    \n",
       "HIERARCH ESO INS TEMP3 ID = 'TMUB    ' / Temperature sensor ID.                 \n",
       "HIERARCH ESO INS TEMP3 NAME = 'UVB bench temp.' / Temperature sensor name.      \n",
       "HIERARCH ESO INS TEMP3 VAL = 14.34 / UVB bench temp. [C]                        \n",
       "HIERARCH ESO INS TEMP4 ID = 'TMVC    ' / Temperature sensor ID.                 \n",
       "HIERARCH ESO INS TEMP4 NAME = 'VIS Camera temp.' / Temperature sensor name.     \n",
       "HIERARCH ESO INS TEMP4 VAL = 12.93 / VIS Camera temp. [C]                       \n",
       "HIERARCH ESO INS TEMP5 ID = 'TMVP    ' / Temperature sensor ID.                 \n",
       "HIERARCH ESO INS TEMP5 NAME = 'VIS Prism temp.' / Temperature sensor name.      \n",
       "HIERARCH ESO INS TEMP5 VAL = 13.87 / VIS Prism temp. [C]                        \n",
       "HIERARCH ESO INS TEMP6 ID = 'TMVB    ' / Temperature sensor ID.                 \n",
       "HIERARCH ESO INS TEMP6 NAME = 'VIS bench temp.' / Temperature sensor name.      \n",
       "HIERARCH ESO INS TEMP6 VAL = 13.91 / VIS bench temp. [C]                        \n",
       "HIERARCH ESO INS TEMP7 ID = 'TMUCR   ' / Temperature sensor ID.                 \n",
       "HIERARCH ESO INS TEMP7 NAME = 'UVB cryo. temp.' / Temperature sensor name.      \n",
       "HIERARCH ESO INS TEMP7 VAL = 12.2 / UVB cryo. temp. [C]                         \n",
       "HIERARCH ESO INS TEMP8 ID = 'TMVCR   ' / Temperature sensor ID.                 \n",
       "HIERARCH ESO INS TEMP8 NAME = 'VIS cryo. temp.' / Temperature sensor name.      \n",
       "HIERARCH ESO INS TEMP8 VAL = 12.29 / VIS cryo. temp. [C]                        \n",
       "HIERARCH ESO INS TEMP80 ID = 'OBCT    ' / Temperature sensor ID.                \n",
       "HIERARCH ESO INS TEMP80 NAME = 'OB Cover Tel.' / Temperature sensor name.       \n",
       "HIERARCH ESO INS TEMP80 VAL = 104.06 / OB Cover Telescope [K]                   \n",
       "HIERARCH ESO INS TEMP81 ID = 'OBCB    ' / Temperature sensor ID.                \n",
       "HIERARCH ESO INS TEMP81 NAME = 'OB Cover Tank' / Temperature sensor name.       \n",
       "HIERARCH ESO INS TEMP81 VAL = 104.07 / OB Cover Tank [K]                        \n",
       "HIERARCH ESO INS TEMP82 ID = 'OBPR    ' / Temperature sensor ID.                \n",
       "HIERARCH ESO INS TEMP82 NAME = 'OB Prism1' / Temperature sensor name.           \n",
       "HIERARCH ESO INS TEMP82 VAL = 103.32 / OB Prism1 [K]                            \n",
       "HIERARCH ESO INS TEMP83 ID = 'OBCL    ' / Temperature sensor ID.                \n",
       "HIERARCH ESO INS TEMP83 NAME = 'OB Corrector Lens' / Temperature sensor name.   \n",
       "HIERARCH ESO INS TEMP83 VAL = 104.09 / OB Corrector Lens [K]                    \n",
       "HIERARCH ESO INS TEMP84 ID = 'CP      ' / Temperature sensor ID.                \n",
       "HIERARCH ESO INS TEMP84 NAME = 'Cryo. Cold Plate' / Temperature sensor name.    \n",
       "HIERARCH ESO INS TEMP84 VAL = 91.279 / Cryostat Cold Plate [K]                  \n",
       "HIERARCH ESO INS TEMP85 ID = 'RS      ' / Temperature sensor ID.                \n",
       "HIERARCH ESO INS TEMP85 NAME = 'Cryo. rad. shield' / Temperature sensor name.   \n",
       "HIERARCH ESO INS TEMP85 VAL = 109.1 / Cryostat rad. shield [K]                  \n",
       "HIERARCH ESO INS TEMP86 ID = 'DCB     ' / Temperature sensor ID.                \n",
       "HIERARCH ESO INS TEMP86 NAME = 'CCD Copper bar' / Temperature sensor name.      \n",
       "HIERARCH ESO INS TEMP86 VAL = 76.966 / CCD Copper bar [K]                       \n",
       "HIERARCH ESO INS TEMP9 ID = 'TMNCR   ' / Temperature sensor ID.                 \n",
       "HIERARCH ESO INS TEMP9 NAME = 'NIR cryo. temp.' / Temperature sensor name.      \n",
       "HIERARCH ESO INS TEMP9 VAL = 18.15 / NIR cryo. temp. [C]                        \n",
       "HIERARCH ESO INS TEMP90 ID = 'NHT     ' / Temperature sensor ID.                \n",
       "HIERARCH ESO INS TEMP90 NAME = 'NIR Head temp.' / Temperature sensor name.      \n",
       "HIERARCH ESO INS TEMP90 VAL = 79.001 / NIR Head temp. [K]                       \n",
       "HIERARCH ESO INS TILT1 AFCX = 0.487 / Flexure corr. in X [volt].                \n",
       "HIERARCH ESO INS TILT1 AFCY = 0.715 / Flexure corr. in Y [volt].                \n",
       "HIERARCH ESO INS TILT1 CONVX = 0.208 / VoltToMarcsec conversion in X.           \n",
       "HIERARCH ESO INS TILT1 CONVY = 0.269 / VoltToMarcsec conversion in Y.           \n",
       "HIERARCH ESO INS TILT1 ENGX = 5.485 / Piezo voltage at end in X [volt].         \n",
       "HIERARCH ESO INS TILT1 ENGY = 5.719 / Piezo voltage at end in Y [volt].         \n",
       "HIERARCH ESO INS TILT1 ID = 'afcs1   ' / AFCS ID.                               \n",
       "HIERARCH ESO INS TILT1 MODE = 'STAT    ' / AFCS mode.                           \n",
       "HIERARCH ESO INS TILT1 NAME = 'Flexure comp. UVB' / AFCS description.           \n",
       "HIERARCH ESO INS TILT1 OFFSETX = 5. / Offset voltage in X [volt].               \n",
       "HIERARCH ESO INS TILT1 OFFSETY = 5. / Offset voltage in Y [volt].               \n",
       "HIERARCH ESO INS TILT1 POSXEND = 0.487 / Piezo position at end [volt].          \n",
       "HIERARCH ESO INS TILT1 POSXSTART = 0.487 / Piezo position at start in X [volt   \n",
       "HIERARCH ESO INS TILT1 POSYEND = 0.719 / Piezo position at end [volt].          \n",
       "HIERARCH ESO INS TILT1 POSYSTART = 0.719 / Piezo position at start in Y [volt   \n",
       "HIERARCH ESO INS TILT1 REFRACXEND = -9999. / Atm. refr. corr. end in X [volt]   \n",
       "HIERARCH ESO INS TILT1 REFRACXST = -9999. / Atm. refr. corr. start in X [volt   \n",
       "HIERARCH ESO INS TILT1 REFRACYEND = -9999. / Atm. refr. corr. end in Y [volt]   \n",
       "HIERARCH ESO INS TILT1 REFRACYST = -9999. / Atm. refr. corr. start in Y [volt   \n",
       "HIERARCH ESO INS TILT2 AFCX = 0.198 / Flexure corr. in X [volt].                \n",
       "HIERARCH ESO INS TILT2 AFCY = 0.398 / Flexure corr. in Y [volt].                \n",
       "HIERARCH ESO INS TILT2 CONVX = 0.291 / VoltToMarcsec conversion in X.           \n",
       "HIERARCH ESO INS TILT2 CONVY = 0.384 / VoltToMarcsec conversion in Y.           \n",
       "HIERARCH ESO INS TILT2 ENGX = 5.201 / Piezo voltage at end in X [volt].         \n",
       "HIERARCH ESO INS TILT2 ENGY = 5.398 / Piezo voltage at end in Y [volt].         \n",
       "HIERARCH ESO INS TILT2 ID = 'afcs2   ' / AFCS ID.                               \n",
       "HIERARCH ESO INS TILT2 MODE = 'STAT    ' / AFCS mode.                           \n",
       "HIERARCH ESO INS TILT2 NAME = 'Flexure comp. VIS' / AFCS description.           \n",
       "HIERARCH ESO INS TILT2 OFFSETX = 5. / Offset voltage in X [volt].               \n",
       "HIERARCH ESO INS TILT2 OFFSETY = 5. / Offset voltage in Y [volt].               \n",
       "HIERARCH ESO INS TILT2 POSXEND = 0.2 / Piezo position at end [volt].            \n",
       "HIERARCH ESO INS TILT2 POSXSTART = 0.2 / Piezo position at start in X [volt     \n",
       "HIERARCH ESO INS TILT2 POSYEND = 0.398 / Piezo position at end [volt].          \n",
       "HIERARCH ESO INS TILT2 POSYSTART = 0.398 / Piezo position at start in Y [volt   \n",
       "HIERARCH ESO INS TILT2 REFRACXEND = -9999. / Atm. refr. corr. end in X [volt]   \n",
       "HIERARCH ESO INS TILT2 REFRACXST = -9999. / Atm. refr. corr. start in X [volt   \n",
       "HIERARCH ESO INS TILT2 REFRACYEND = -9999. / Atm. refr. corr. end in Y [volt]   \n",
       "HIERARCH ESO INS TILT2 REFRACYST = -9999. / Atm. refr. corr. start in Y [volt   \n",
       "HIERARCH ESO INS TILT3 AFCX = 1.14 / Flexure corr. in X [volt].                 \n",
       "HIERARCH ESO INS TILT3 AFCY = 0.268 / Flexure corr. in Y [volt].                \n",
       "HIERARCH ESO INS TILT3 CONVX = 0.58 / VoltToMarcsec conversion in X.            \n",
       "HIERARCH ESO INS TILT3 CONVY = 0.56 / VoltToMarcsec conversion in Y.            \n",
       "HIERARCH ESO INS TILT3 ENGX = 6.141 / Piezo voltage at end in X [volt].         \n",
       "HIERARCH ESO INS TILT3 ENGY = 5.279 / Piezo voltage at end in Y [volt].         \n",
       "HIERARCH ESO INS TILT3 ID = 'afcs3   ' / AFCS ID.                               \n",
       "HIERARCH ESO INS TILT3 MODE = 'STAT    ' / AFCS mode.                           \n",
       "HIERARCH ESO INS TILT3 NAME = 'Flexure comp. NIR' / AFCS description.           \n",
       "HIERARCH ESO INS TILT3 OFFSETX = 5. / Offset voltage in X [volt].               \n",
       "HIERARCH ESO INS TILT3 OFFSETY = 5. / Offset voltage in Y [volt].               \n",
       "HIERARCH ESO INS TILT3 POSXEND = 1.141 / Piezo position at end [volt].          \n",
       "HIERARCH ESO INS TILT3 POSXSTART = 1.141 / Piezo position at start in X [volt   \n",
       "HIERARCH ESO INS TILT3 POSYEND = 0.276 / Piezo position at end [volt].          \n",
       "HIERARCH ESO INS TILT3 POSYSTART = 0.276 / Piezo position at start in Y [volt   \n",
       "HIERARCH ESO INS TILT3 REFRACXEND = -9999. / Atm. refr. corr. end in X [volt]   \n",
       "HIERARCH ESO INS TILT3 REFRACXST = -9999. / Atm. refr. corr. start in X [volt   \n",
       "HIERARCH ESO INS TILT3 REFRACYEND = -9999. / Atm. refr. corr. end in Y [volt]   \n",
       "HIERARCH ESO INS TILT3 REFRACYST = -9999. / Atm. refr. corr. start in Y [volt   \n",
       "HIERARCH ESO DET BITS =     16 / Bits per pixel readout                         \n",
       "HIERARCH ESO DET CHIP1 DATE = '2005-04-22' / Date of installation [YYYY-MM-DD]  \n",
       "HIERARCH ESO DET CHIP1 ID = 'Pisces Austr II' / Detector chip identification    \n",
       "HIERARCH ESO DET CHIP1 INDEX = 1 / Chip index                                   \n",
       "HIERARCH ESO DET CHIP1 NAME = 'e2v CC44-82' / Detector chip name                \n",
       "HIERARCH ESO DET CHIP1 NX = 2048 / # of pixels along X                          \n",
       "HIERARCH ESO DET CHIP1 NY = 4102 / # of pixels along Y                          \n",
       "HIERARCH ESO DET CHIP1 PSZX = 15. / Size of pixel in X                          \n",
       "HIERARCH ESO DET CHIP1 PSZY = 15. / Size of pixel in Y                          \n",
       "HIERARCH ESO DET CHIP1 X =   1 / X location in array                            \n",
       "HIERARCH ESO DET CHIP1 XGAP = 0. / Gap between chips along x                    \n",
       "HIERARCH ESO DET CHIP1 Y =   1 / Y location in array                            \n",
       "HIERARCH ESO DET CHIP1 YGAP = 0. / Gap between chips along y                    \n",
       "HIERARCH ESO DET CHIPS =     1 / # of chips in detector array                   \n",
       "HIERARCH ESO DET DATE = '2005-04-22' / Installation date                        \n",
       "HIERARCH ESO DET DEC =      0. / Apparent 00:00:00.0 DEC at start               \n",
       "HIERARCH ESO DET DID = 'ESO-VLT-DIC.CCDDCS,ESO-VLT-DIC.FCDDCS' / Diction        \n",
       "HIERARCH ESO DET EXP NO = 1871 / Unique exposure ID number                      \n",
       "HIERARCH ESO DET EXP RDTTIME = 16.24 / image readout time                       \n",
       "HIERARCH ESO DET EXP TYPE = 'Normal  ' / Exposure type                          \n",
       "HIERARCH ESO DET EXP XFERTIM = 17.771 / image transfer time                     \n",
       "HIERARCH ESO DET FRAM ID =   1 / Image sequencial number                        \n",
       "HIERARCH ESO DET FRAM TYPE = 'Normal  ' / Type of frame                         \n",
       "HIERARCH ESO DET ID = 'CCD FIERA - Rev: 238334' / Detector system Id            \n",
       "HIERARCH ESO DET NAME = 'shdetb - shdetb' / Name of detector system             \n",
       "HIERARCH ESO DET OUT1 CHIP = 1 / Chip to which the output belongs               \n",
       "HIERARCH ESO DET OUT1 CONAD = 1.75 / Conversion from ADUs to electrons          \n",
       "HIERARCH ESO DET OUT1 GAIN = 0.57 / Conversion from electrons to ADU            \n",
       "HIERARCH ESO DET OUT1 ID = 'R       ' / Output ID as from manufacturer          \n",
       "HIERARCH ESO DET OUT1 INDEX = 2 / Output index                                  \n",
       "HIERARCH ESO DET OUT1 NAME = 'R       ' / Description of output                 \n",
       "HIERARCH ESO DET OUT1 NX = 2048 / valid pixels along X                          \n",
       "HIERARCH ESO DET OUT1 NY = 3000 / valid pixels along Y                          \n",
       "HIERARCH ESO DET OUT1 OVSCX = 48 / Overscan region in X                         \n",
       "HIERARCH ESO DET OUT1 OVSCY = 0 / Overscan region in Y                          \n",
       "HIERARCH ESO DET OUT1 PRSCX = 48 / Prescan region in X                          \n",
       "HIERARCH ESO DET OUT1 PRSCY = 0 / Prescan region in Y                           \n",
       "HIERARCH ESO DET OUT1 RON = 4.5 / [e-] Readout noise per output (ele            \n",
       "HIERARCH ESO DET OUT1 X = 2048 / X location of output                           \n",
       "HIERARCH ESO DET OUT1 Y =    1 / Y location of output                           \n",
       "HIERARCH ESO DET OUTPUTS =   1 / # of outputs                                   \n",
       "HIERARCH ESO DET OUTREF =    0 / reference output                               \n",
       "HIERARCH ESO DET RA =       0. / Apparent 00:00:00.0 RA at start                \n",
       "HIERARCH ESO DET READ CLOCK = '400k/1pt/lg' / Readout clock pattern used        \n",
       "HIERARCH ESO DET READ MODE = 'normal  ' / Readout method                        \n",
       "HIERARCH ESO DET READ NFRAM = 1 / Number of readouts buffered in sin            \n",
       "HIERARCH ESO DET READ SPEED = '1pt/400k/lg' / Readout speed                     \n",
       "HIERARCH ESO DET SHUT ID = 'VA 25mm BistableCCD Sensor1' / Shutter unique id    \n",
       "HIERARCH ESO DET SHUT TMCLOS = 0. / Time taken to close shutter                 \n",
       "HIERARCH ESO DET SHUT TMOPEN = 0. / Time taken to open shutter                  \n",
       "HIERARCH ESO DET SHUT TYPE = 'Iris on Slit' / type of shutter                   \n",
       "HIERARCH ESO DET SOFW MODE = 'Normal  ' / CCD sw operational mode               \n",
       "HIERARCH ESO DET TELE INT = 600. / Interval between two successive te           \n",
       "HIERARCH ESO DET TELE NO =   4 / # of sources active                            \n",
       "HIERARCH ESO DET TLM1 END = 153. / Telemetry value at read completion           \n",
       "HIERARCH ESO DET TLM1 ID = 'CCD Sensor1' / ID of telemetry sensor               \n",
       "HIERARCH ESO DET TLM1 NAME = 'CCD T1  ' / Description of telemetry param.       \n",
       "HIERARCH ESO DET TLM1 START = 153. / Telemetry value at read start              \n",
       "HIERARCH ESO DET TLM2 END = 154.6 / Telemetry value at read completion          \n",
       "HIERARCH ESO DET TLM2 ID = 'CCD Sensor2' / ID of telemetry sensor               \n",
       "HIERARCH ESO DET TLM2 NAME = 'CCD T2  ' / Description of telemetry param.       \n",
       "HIERARCH ESO DET TLM2 START = 154.6 / Telemetry value at read start             \n",
       "HIERARCH ESO DET TLM3 END = 284.9 / Telemetry value at read completion          \n",
       "HIERARCH ESO DET TLM3 ID = 'Box Temp' / ID of telemetry sensor                  \n",
       "HIERARCH ESO DET TLM3 NAME = 'EBOX T  ' / Description of telemetry param.       \n",
       "HIERARCH ESO DET TLM3 START = 284.9 / Telemetry value at read start             \n",
       "HIERARCH ESO DET TLM4 END = 0. / Telemetry value at read completion             \n",
       "HIERARCH ESO DET TLM4 ID = 'Vacuum  ' / ID of telemetry sensor                  \n",
       "HIERARCH ESO DET TLM4 NAME = 'Vacuum  ' / Description of telemetry param.       \n",
       "HIERARCH ESO DET TLM4 START = 0. / Telemetry value at read start                \n",
       "HIERARCH ESO DET WIN1 BINX = 1 / Binning factor along X                         \n",
       "HIERARCH ESO DET WIN1 BINY = 1 / Binning factor along Y                         \n",
       "HIERARCH ESO DET WIN1 DIT1 = 29.999995 / actual subintegration time             \n",
       "HIERARCH ESO DET WIN1 DKTM = 30.3822 / Dark current time                        \n",
       "HIERARCH ESO DET WIN1 NDIT = 1 / # of subintegrations                           \n",
       "HIERARCH ESO DET WIN1 NX = 2144 / # of pixels along X                           \n",
       "HIERARCH ESO DET WIN1 NY = 3000 / # of pixels along Y                           \n",
       "HIERARCH ESO DET WIN1 ST =   T / If T, window enabled                           \n",
       "HIERARCH ESO DET WIN1 STRX = 1 / Lower left pixel in X                          \n",
       "HIERARCH ESO DET WIN1 STRY = 1 / Lower left pixel in Y                          \n",
       "HIERARCH ESO DET WIN1 UIT1 = 30. / user defined subintegration time             \n",
       "HIERARCH ESO DET WINDOWS =   1 / # of windows readout                           \n",
       "HIERARCH ESO PRO CATG = 'CAL_SLIT_MERGE2D_UVB' / Category of pipeline product fr\n",
       "HIERARCH ESO PRO RECT BIN LAMBDA = 0.025                                        \n",
       "HIERARCH ESO PRO RECT BIN SPACE = 0.15                                          \n",
       "HIERARCH ESO PRO RECT LAMBDA MIN = 298.925                                      \n",
       "HIERARCH ESO PRO RECT LAMBDA MAX = 590.                                         \n",
       "HIERARCH ESO PRO RECT SPACE MIN = -5.30000019073486                             \n",
       "HIERARCH ESO PRO RECT SPACE MAX = 5.5                                           \n",
       "HIERARCH ESO PRO ANCESTOR = 'XSHOO.2019-10-30T13:31:59.700.fits'                \n",
       "HIERARCH ESO PRO DID = 'PRO-1.15' / Data dictionary for PRO                     \n",
       "HIERARCH ESO PRO TYPE = 'REDUCED ' / Product type                               \n",
       "HIERARCH ESO PRO TECH = 'ECHELLE,SLIT' / Observation technique                  \n",
       "HIERARCH ESO PRO SCIENCE =   F / Scientific product if T                        \n",
       "HIERARCH ESO PRO REC1 ID = 'xsh_scired_slit_stare' / Pipeline recipe (unique) id\n",
       "HIERARCH ESO PRO REC1 DRS ID = 'cpl-7.1.1' / Data Reduction System identifier   \n",
       "HIERARCH ESO PRO REC1 PIPE ID = 'xshoo/3.3.5' / Pipeline (unique) identifier    \n",
       "HIERARCH ESO PRO REC1 RAW1 NAME = 'XSHOO.2019-10-30T13_31_59.700.fits' / File na\n",
       "HIERARCH ESO PRO REC1 RAW1 CATG = 'OBJECT_SLIT_STARE_UVB' / Category of raw fram\n",
       "HIERARCH ESO PRO DATANCOM =  1 / Number of combined frames                      \n",
       "HIERARCH ESO PRO REC1 CAL1 NAME = 'SPECTRAL_FORMAT_TAB_UVB.fits' / File name of \n",
       "HIERARCH ESO PRO REC1 CAL1 CATG = 'SPECTRAL_FORMAT_TAB_UVB' / Category of calibr\n",
       "HIERARCH ESO PRO REC1 CAL1 DATAMD5 = 'cb66fee5070f774602aa02e63fb0d6d5' / MD5 si\n",
       "HIERARCH ESO PRO REC1 CAL2 NAME = 'MASTER_BIAS_UVB_1x1_400k.fits' / File name of\n",
       "HIERARCH ESO PRO REC1 CAL2 CATG = 'MASTER_BIAS_UVB' / Category of calibration fr\n",
       "HIERARCH ESO PRO REC1 CAL2 DATAMD5 = '9b77248ded328d870c190d14128276c1' / MD5 si\n",
       "HIERARCH ESO PRO REC1 CAL3 NAME = 'MASTER_FLAT_SLIT_UVB_1x1_400k_1.0x11.fits'   \n",
       "HIERARCH ESO PRO REC1 CAL3 CATG = 'MASTER_FLAT_SLIT_UVB' / Category of calibrati\n",
       "HIERARCH ESO PRO REC1 CAL3 DATAMD5 = '9e64130c809318d14f24f891c7f50c9a' / MD5 si\n",
       "HIERARCH ESO PRO REC1 CAL4 NAME= 'ORDER_TAB_EDGES_SLIT_UVB_1x1_400k_1.0x11.fits'\n",
       "HIERARCH ESO PRO REC1 CAL4 CATG = 'ORDER_TAB_EDGES_SLIT_UVB' / Category of calib\n",
       "HIERARCH ESO PRO REC1 CAL4 DATAMD5 = '26c861c360661e52dbf1e5e3930e6f4c' / MD5 si\n",
       "HIERARCH ESO PRO REC1 CAL5 NAME = 'XSH_MOD_CFG_OPT_2D_UVB.fits' / File name of c\n",
       "HIERARCH ESO PRO REC1 CAL5 CATG = 'XSH_MOD_CFG_OPT_2D_UVB' / Category of calibra\n",
       "HIERARCH ESO PRO REC1 CAL5 DATAMD5 = '973058780b61d48cd1ecd11160599b8a' / MD5 si\n",
       "HIERARCH ESO PRO REC1 PARAM1 NAME = 'keep-temp' / If 'no', temporary files are d\n",
       "HIERARCH ESO PRO REC1 PARAM1 VALUE = 'no      ' / Default: 'no'                 \n",
       "HIERARCH ESO PRO REC1 PARAM2 NAME = 'debug-level' / Additional xshooter debug le\n",
       "HIERARCH ESO PRO REC1 PARAM2 VALUE = 'none    ' / Default: 'none'               \n",
       "HIERARCH ESO PRO REC1 PARAM3 NAME = 'time-stamp' / Add timestamp to product file\n",
       "HIERARCH ESO PRO REC1 PARAM3 VALUE = 'false   ' / Default: false                \n",
       "HIERARCH ESO PRO REC1 PARAM4 NAME = 'decode-bp' / Integer representation of the \n",
       "HIERARCH ESO PRO REC1 PARAM4 VALUE = '2144337919' / Default: 2144337919         \n",
       "HIERARCH ESO PRO REC1 PARAM5 NAME = 'pre-overscan-corr' / pre-overscan correctio\n",
       "HIERARCH ESO PRO REC1 PARAM5 VALUE = '1       ' / Default: 1                    \n",
       "HIERARCH ESO PRO REC1 PARAM6 NAME = 'stack-method' / Method used to build master\n",
       "HIERARCH ESO PRO REC1 PARAM6 VALUE = 'median  ' / Default: 'median'             \n",
       "HIERARCH ESO PRO REC1 PARAM7 NAME = 'klow    ' / Kappa used to clip low level va\n",
       "HIERARCH ESO PRO REC1 PARAM7 VALUE = '5       ' / Default: 5                    \n",
       "HIERARCH ESO PRO REC1 PARAM8 NAME = 'khigh   ' / Kappa used to clip high level v\n",
       "HIERARCH ESO PRO REC1 PARAM8 VALUE = '5       ' / Default: 5                    \n",
       "HIERARCH ESO PRO REC1 PARAM9 NAME = 'background-edges-margin' / X margin to orde\n",
       "HIERARCH ESO PRO REC1 PARAM9 VALUE = '1       ' / Default: 1                    \n",
       "HIERARCH ESO PRO REC1 PARAM10 NAME = 'background-poly-deg-y' / Poly mode fit deg\n",
       "HIERARCH ESO PRO REC1 PARAM10 VALUE = '9       ' / Default: 9                   \n",
       "HIERARCH ESO PRO REC1 PARAM11 NAME = 'background-poly-deg-x' / Poly mode fit deg\n",
       "HIERARCH ESO PRO REC1 PARAM11 VALUE = '9       ' / Default: 9                   \n",
       "HIERARCH ESO PRO REC1 PARAM12 NAME = 'background-poly-kappa' / Poly mode kappa v\n",
       "HIERARCH ESO PRO REC1 PARAM12 VALUE = '10      ' / Default: 10                  \n",
       "HIERARCH ESO PRO REC1 PARAM13 NAME = 'removecrhsingle-sigmalim' / Poisson fluctu\n",
       "HIERARCH ESO PRO REC1 PARAM13 VALUE = '20      ' / Default: 20                  \n",
       "HIERARCH ESO PRO REC1 PARAM14 NAME = 'removecrhsingle-flim' / Minimum contrast b\n",
       "HIERARCH ESO PRO REC1 PARAM14 VALUE = '2       ' / Default: 2                   \n",
       "HIERARCH ESO PRO REC1 PARAM15 NAME = 'removecrhsingle-niter' / Max number of ite\n",
       "HIERARCH ESO PRO REC1 PARAM15 VALUE = '0       ' / Default: 4                   \n",
       "HIERARCH ESO PRO REC1 PARAM16 NAME = 'rectify-kernel' / Name of the Interpolatio\n",
       "HIERARCH ESO PRO REC1 PARAM16 VALUE = 'tanh    ' / Default: 'tanh'              \n",
       "HIERARCH ESO PRO REC1 PARAM17 NAME = 'rectify-radius' / Rectify Interpolation ra\n",
       "HIERARCH ESO PRO REC1 PARAM17 VALUE = '2       ' / Default: 2                   \n",
       "HIERARCH ESO PRO REC1 PARAM18 NAME = 'rectify-bin-lambda' / Wavelength step in t\n",
       "HIERARCH ESO PRO REC1 PARAM18 VALUE = '0.025   ' / Default: -1                  \n",
       "HIERARCH ESO PRO REC1 PARAM19 NAME = 'rectify-bin-slit' / Spatial step along the\n",
       "HIERARCH ESO PRO REC1 PARAM19 VALUE = '0.15    ' / Default: -1                  \n",
       "HIERARCH ESO PRO REC1 PARAM20 NAME = 'localize-method' / Localization method (MA\n",
       "HIERARCH ESO PRO REC1 PARAM20 VALUE = 'MANUAL  ' / Default: 'MANUAL'            \n",
       "HIERARCH ESO PRO REC1 PARAM21 NAME = 'localize-chunk-nb' / Number of chunks in t\n",
       "HIERARCH ESO PRO REC1 PARAM21 VALUE = '10      ' / Default: 10                  \n",
       "HIERARCH ESO PRO REC1 PARAM22 NAME = 'localize-thresh' / Threshold relative to t\n",
       "HIERARCH ESO PRO REC1 PARAM22 VALUE = '0.1     ' / Default: 0.1                 \n",
       "HIERARCH ESO PRO REC1 PARAM23 NAME = 'localize-deg-lambda' / Degree in lambda in\n",
       "HIERARCH ESO PRO REC1 PARAM23 VALUE = '0       ' / Default: 0                   \n",
       "HIERARCH ESO PRO REC1 PARAM24 NAME = 'localize-slit-position' / Object position \n",
       "HIERARCH ESO PRO REC1 PARAM24 VALUE = '0       ' / Default: 0                   \n",
       "HIERARCH ESO PRO REC1 PARAM25 NAME = 'localize-slit-hheight' / Object half heigh\n",
       "HIERARCH ESO PRO REC1 PARAM25 VALUE = '2       ' / Default: 2                   \n",
       "HIERARCH ESO PRO REC1 PARAM26 NAME = 'localize-kappa' / Kappa value for sigma cl\n",
       "HIERARCH ESO PRO REC1 PARAM26 VALUE = '3       ' / Default: 3                   \n",
       "HIERARCH ESO PRO REC1 PARAM27 NAME = 'localize-niter' / Number of iterations for\n",
       "HIERARCH ESO PRO REC1 PARAM27 VALUE = '3       ' / Default: 3                   \n",
       "HIERARCH ESO PRO REC1 PARAM28 NAME = 'localize-use-skymask' / TRUE if we want to\n",
       "HIERARCH ESO PRO REC1 PARAM28 VALUE = 'false   ' / Default: false               \n",
       "HIERARCH ESO PRO REC1 PARAM29 NAME = 'sky-subtract' / TRUE to use subtract sky s\n",
       "HIERARCH ESO PRO REC1 PARAM29 VALUE = 'false   ' / Default: true                \n",
       "HIERARCH ESO PRO REC1 PARAM30 NAME = 'sky-bspline-nbkpts-first' / Nb of break po\n",
       "HIERARCH ESO PRO REC1 PARAM30 VALUE = '3000    ' / Default: 3000                \n",
       "HIERARCH ESO PRO REC1 PARAM31 NAME = 'sky-bspline-nbkpts-second' / Nb of break p\n",
       "HIERARCH ESO PRO REC1 PARAM31 VALUE = '3000    ' / Default: 3000                \n",
       "HIERARCH ESO PRO REC1 PARAM32 NAME = 'sky-bspline-order' / Bezier spline order  \n",
       "HIERARCH ESO PRO REC1 PARAM32 VALUE = '7       ' / Default: 7                   \n",
       "HIERARCH ESO PRO REC1 PARAM33 NAME = 'sky-bspline-niter' / Nb of iterations     \n",
       "HIERARCH ESO PRO REC1 PARAM33 VALUE = '20      ' / Default: 20                  \n",
       "HIERARCH ESO PRO REC1 PARAM34 NAME = 'sky-bspline-kappa' / Kappa value used to k\n",
       "HIERARCH ESO PRO REC1 PARAM34 VALUE = '5       ' / Default: 5                   \n",
       "HIERARCH ESO PRO REC1 PARAM35 NAME = 'sky-method' / Sky subtract Method (BSPLINE\n",
       "HIERARCH ESO PRO REC1 PARAM35 VALUE = 'MEDIAN  ' / Default: 'MEDIAN'            \n",
       "HIERARCH ESO PRO REC1 PARAM36 NAME = 'bspline-sampling' / BSPLINE sampling. UNIF\n",
       "HIERARCH ESO PRO REC1 PARAM36 VALUE = 'FINE    ' / Default: 'FINE'              \n",
       "HIERARCH ESO PRO REC1 PARAM37 NAME = 'sky-median-hsize' / Half size of the runni\n",
       "HIERARCH ESO PRO REC1 PARAM37 VALUE = '20      ' / Default: 20                  \n",
       "HIERARCH ESO PRO REC1 PARAM38 NAME = 'sky-slit-edges-mask' / Size of edges mask \n",
       "HIERARCH ESO PRO REC1 PARAM38 VALUE = '1       ' / Default: 0.5                 \n",
       "HIERARCH ESO PRO REC1 PARAM39 NAME = 'sky-position1' / Central position of the s\n",
       "HIERARCH ESO PRO REC1 PARAM39 VALUE = '0       ' / Default: 0                   \n",
       "HIERARCH ESO PRO REC1 PARAM40 NAME = 'sky-hheight1' / Half size of sky window #1\n",
       "HIERARCH ESO PRO REC1 PARAM40 VALUE = '0       ' / Default: 0                   \n",
       "HIERARCH ESO PRO REC1 PARAM41 NAME = 'sky-position2' / Central position of the s\n",
       "HIERARCH ESO PRO REC1 PARAM41 VALUE = '0       ' / Default: 0                   \n",
       "HIERARCH ESO PRO REC1 PARAM42 NAME = 'sky-hheight2' / Half size of the sky windo\n",
       "HIERARCH ESO PRO REC1 PARAM42 VALUE = '0       ' / Default: 0                   \n",
       "HIERARCH ESO PRO REC1 PARAM43 NAME = 'stdextract-interp-hsize' / Half size of ma\n",
       "HIERARCH ESO PRO REC1 PARAM43 VALUE = '30      ' / Default: 30                  \n",
       "HIERARCH ESO PRO REC1 PARAM44 NAME = 'do-optextract' / TRUE if we do the optimal\n",
       "HIERARCH ESO PRO REC1 PARAM44 VALUE = 'false   ' / Default: false               \n",
       "HIERARCH ESO PRO REC1 PARAM45 NAME = 'optextract-oversample' / Oversample factor\n",
       "HIERARCH ESO PRO REC1 PARAM45 VALUE = '5       ' / Default: 5                   \n",
       "HIERARCH ESO PRO REC1 PARAM46 NAME = 'optextract-box-half-size' / Extraction box\n",
       "HIERARCH ESO PRO REC1 PARAM46 VALUE = '10      ' / Default: 10                  \n",
       "HIERARCH ESO PRO REC1 PARAM47 NAME = 'optextract-chunk-size' / Chunk size [bin] \n",
       "HIERARCH ESO PRO REC1 PARAM47 VALUE = '50      ' / Default: 50                  \n",
       "HIERARCH ESO PRO REC1 PARAM48 NAME = 'optextract-step-lambda' / Lambda step [nm]\n",
       "HIERARCH ESO PRO REC1 PARAM48 VALUE = '0.02    ' / Default: 0.02                \n",
       "HIERARCH ESO PRO REC1 PARAM49 NAME = 'optextract-clip-kappa' / Kappa for cosmics\n",
       "HIERARCH ESO PRO REC1 PARAM49 VALUE = '3       ' / Default: 3                   \n",
       "HIERARCH ESO PRO REC1 PARAM50 NAME = 'optextract-clip-frac' / Maximum bad pixels\n",
       "HIERARCH ESO PRO REC1 PARAM50 VALUE = '0.4     ' / Default: 0.4                 \n",
       "HIERARCH ESO PRO REC1 PARAM51 NAME = 'optextract-clip-niter' / Maximum number of\n",
       "HIERARCH ESO PRO REC1 PARAM51 VALUE = '2       ' / Default: 2                   \n",
       "HIERARCH ESO PRO REC1 PARAM52 NAME = 'optextract-niter' / Number of iterations  \n",
       "HIERARCH ESO PRO REC1 PARAM52 VALUE = '1       ' / Default: 1                   \n",
       "HIERARCH ESO PRO REC1 PARAM53 NAME = 'optextract-method' / Extraction method GAU\n",
       "HIERARCH ESO PRO REC1 PARAM53 VALUE = 'GAUSSIAN' / Default: 'GAUSSIAN'          \n",
       "HIERARCH ESO PRO REC1 PARAM54 NAME = 'cut-uvb-spectrum' / TRUE if recipe cuts th\n",
       "HIERARCH ESO PRO REC1 PARAM54 VALUE = 'true    ' / Default: true                \n",
       "HIERARCH ESO PRO REC1 PARAM55 NAME = 'generate-SDP-format' / TRUE if additional \n",
       "HIERARCH ESO PRO REC1 PARAM55 VALUE = 'false   ' / Default: false               \n",
       "HIERARCH ESO PRO REC1 PARAM56 NAME = 'dummy-association-keys' / Sets the number \n",
       "HIERARCH ESO PRO REC1 PARAM56 VALUE = '0       ' / Default: 0                   \n",
       "HIERARCH ESO OCS DET1 IMGNAME = 'XSHOOTER_SLT_ARC_UVB_' / Data File Name.       \n",
       "HIERARCH ESO SEQ ARM = 'UVB     ' / Instrument Arm                              \n",
       "HIERARCH ESO QC NPIXSAT = 213. / Number of saturated pixels                     \n",
       "HIERARCH ESO QC FPIXSAT = 3.466796875E-05 / Fraction of saturated pixels        \n",
       "HIERARCH ESO QC VRAD BARYCOR = 0. / Barycentric radial velocity correction      \n",
       "HIERARCH ESO QC VRAD HELICOR = 0. / Heliocentric radial velocity correction     \n",
       "CHECKSUM= 'SKb3VJb0SJb0SJb0'   / HDU checksum updated 2020-05-07T11:48:58       \n",
       "DATASUM = '4122052104'         / data unit checksum updated 2020-05-07T11:48:58 "
      ]
     },
     "execution_count": 7,
     "metadata": {},
     "output_type": "execute_result"
    }
   ],
   "source": [
    "head0_merge2d"
   ]
  },
  {
   "cell_type": "code",
   "execution_count": null,
   "metadata": {},
   "outputs": [],
   "source": []
  },
  {
   "cell_type": "markdown",
   "metadata": {},
   "source": [
    "## coadd2d"
   ]
  },
  {
   "cell_type": "code",
   "execution_count": 11,
   "metadata": {},
   "outputs": [],
   "source": [
    "coadd2d_file = os.path.join(path, 'CAL_SLIT_ORDER2D_UVB.fits')"
   ]
  },
  {
   "cell_type": "code",
   "execution_count": 12,
   "metadata": {},
   "outputs": [
    {
     "name": "stdout",
     "output_type": "stream",
     "text": [
      "Filename: /scratch/REDUX/VLT/XShooter/UVB/Wavecal/CAL_SLIT_ORDER2D_UVB.fits\n",
      "No.    Name      Ver    Type      Cards   Dimensions   Format\n",
      "  0  ORD13_FLUX    1 PrimaryHDU     487   (454, 73)   float32   \n",
      "  1  ORD13_ERRS    1 ImageHDU        33   (454, 73)   float32   \n",
      "  2  ORD13_QUAL    1 ImageHDU        33   (454, 73)   float32   \n",
      "  3  ORD14_FLUX    1 ImageHDU       348   (1780, 73)   float32   \n",
      "  4  ORD14_ERRS    1 ImageHDU        34   (1780, 73)   float32   \n",
      "  5  ORD14_QUAL    1 ImageHDU        34   (1780, 73)   float32   \n",
      "  6  ORD15_FLUX    1 ImageHDU       348   (1667, 73)   float32   \n",
      "  7  ORD15_ERRS    1 ImageHDU        34   (1667, 73)   float32   \n",
      "  8  ORD15_QUAL    1 ImageHDU        34   (1667, 73)   float32   \n",
      "  9  ORD16_FLUX    1 ImageHDU       348   (1562, 73)   float32   \n",
      " 10  ORD16_ERRS    1 ImageHDU        34   (1562, 73)   float32   \n",
      " 11  ORD16_QUAL    1 ImageHDU        34   (1562, 73)   float32   \n",
      " 12  ORD17_FLUX    1 ImageHDU       348   (1447, 73)   float32   \n",
      " 13  ORD17_ERRS    1 ImageHDU        34   (1447, 73)   float32   \n",
      " 14  ORD17_QUAL    1 ImageHDU        34   (1447, 73)   float32   \n",
      " 15  ORD18_FLUX    1 ImageHDU       348   (1350, 73)   float32   \n",
      " 16  ORD18_ERRS    1 ImageHDU        34   (1350, 73)   float32   \n",
      " 17  ORD18_QUAL    1 ImageHDU        34   (1350, 73)   float32   \n",
      " 18  ORD19_FLUX    1 ImageHDU       348   (1250, 73)   float32   \n",
      " 19  ORD19_ERRS    1 ImageHDU        34   (1250, 73)   float32   \n",
      " 20  ORD19_QUAL    1 ImageHDU        34   (1250, 73)   float32   \n",
      " 21  ORD20_FLUX    1 ImageHDU       348   (1164, 73)   float32   \n",
      " 22  ORD20_ERRS    1 ImageHDU        34   (1164, 73)   float32   \n",
      " 23  ORD20_QUAL    1 ImageHDU        34   (1164, 73)   float32   \n",
      " 24  ORD21_FLUX    1 ImageHDU       348   (1096, 73)   float32   \n",
      " 25  ORD21_ERRS    1 ImageHDU        34   (1096, 73)   float32   \n",
      " 26  ORD21_QUAL    1 ImageHDU        34   (1096, 73)   float32   \n",
      " 27  ORD22_FLUX    1 ImageHDU       348   (1015, 73)   float32   \n",
      " 28  ORD22_ERRS    1 ImageHDU        34   (1015, 73)   float32   \n",
      " 29  ORD22_QUAL    1 ImageHDU        34   (1015, 73)   float32   \n",
      " 30  ORD23_FLUX    1 ImageHDU       348   (939, 73)   float32   \n",
      " 31  ORD23_ERRS    1 ImageHDU        34   (939, 73)   float32   \n",
      " 32  ORD23_QUAL    1 ImageHDU        34   (939, 73)   float32   \n",
      " 33  ORD24_FLUX    1 ImageHDU       348   (844, 73)   float32   \n",
      " 34  ORD24_ERRS    1 ImageHDU        34   (844, 73)   float32   \n",
      " 35  ORD24_QUAL    1 ImageHDU        34   (844, 73)   float32   \n"
     ]
    }
   ],
   "source": [
    "coadd2d = fits.open(coadd2d_file)\n",
    "coadd2d.info()"
   ]
  },
  {
   "cell_type": "code",
   "execution_count": null,
   "metadata": {},
   "outputs": [],
   "source": []
  }
 ],
 "metadata": {
  "kernelspec": {
   "display_name": "Python 3 (ipykernel)",
   "language": "python",
   "name": "python3"
  },
  "language_info": {
   "codemirror_mode": {
    "name": "ipython",
    "version": 3
   },
   "file_extension": ".py",
   "mimetype": "text/x-python",
   "name": "python",
   "nbconvert_exporter": "python",
   "pygments_lexer": "ipython3",
   "version": "3.9.9"
  }
 },
 "nbformat": 4,
 "nbformat_minor": 4
}
