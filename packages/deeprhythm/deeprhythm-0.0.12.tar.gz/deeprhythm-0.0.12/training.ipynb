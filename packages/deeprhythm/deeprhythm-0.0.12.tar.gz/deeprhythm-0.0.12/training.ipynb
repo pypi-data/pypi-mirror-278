{
 "cells": [
  {
   "cell_type": "code",
   "execution_count": 1,
   "metadata": {},
   "outputs": [],
   "source": [
    "import sys\n",
    "sys.path.append('src')\n",
    "\n",
    "from deeprhythm.model.predictor import DeepRhythmPredictor\n"
   ]
  },
  {
   "cell_type": "code",
   "execution_count": 2,
   "metadata": {},
   "outputs": [
    {
     "name": "stdout",
     "output_type": "stream",
     "text": [
      "Model weights already exist.\n",
      "mps\n"
     ]
    }
   ],
   "source": [
    "pred = DeepRhythmPredictor()\n",
    "print(pred.device)"
   ]
  },
  {
   "cell_type": "code",
   "execution_count": 6,
   "metadata": {},
   "outputs": [
    {
     "data": {
      "text/plain": [
       "(80.0, 0.8815348744392395)"
      ]
     },
     "execution_count": 6,
     "metadata": {},
     "output_type": "execute_result"
    }
   ],
   "source": [
    "pred.predict('/Users/mitch/Just the Way It Is.flac', include_confidence=True)"
   ]
  },
  {
   "cell_type": "code",
   "execution_count": null,
   "metadata": {},
   "outputs": [],
   "source": [
    "from deeprhythm.model.train import train_cnn_cont\n",
    "\n",
    "data_path = '/media/bleu/bulkdata2/deeprhythmdata/hcqm-split.hdf5'\n",
    "train_cnn_cont(data_path, 'deeprhythm-cont', start_weights='deeprhythm-cont-best.pth', batch_size=512)"
   ]
  },
  {
   "cell_type": "code",
   "execution_count": null,
   "metadata": {},
   "outputs": [],
   "source": [
    "from deeprhythm.model.train import train_cnn\n",
    "data_path = '/media/bleu/bulkdata2/deeprhythmdata/hcqm-split.hdf5'\n",
    "\n",
    "train_cnn(data_path, 'deeprhythm-2.3', start_weights='deeprhythm-2.2-best.pth',  batch_size=512)"
   ]
  },
  {
   "cell_type": "code",
   "execution_count": 13,
   "metadata": {},
   "outputs": [
    {
     "name": "stdout",
     "output_type": "stream",
     "text": [
      "MPS available: True\n"
     ]
    }
   ],
   "source": [
    "import torch\n",
    "mps_available = torch.backends.mps.is_available()\n",
    "print(f\"MPS available: {mps_available}\")"
   ]
  }
 ],
 "metadata": {
  "kernelspec": {
   "display_name": "autoawq",
   "language": "python",
   "name": "python3"
  },
  "language_info": {
   "codemirror_mode": {
    "name": "ipython",
    "version": 3
   },
   "file_extension": ".py",
   "mimetype": "text/x-python",
   "name": "python",
   "nbconvert_exporter": "python",
   "pygments_lexer": "ipython3",
   "version": "3.11.7"
  }
 },
 "nbformat": 4,
 "nbformat_minor": 2
}
