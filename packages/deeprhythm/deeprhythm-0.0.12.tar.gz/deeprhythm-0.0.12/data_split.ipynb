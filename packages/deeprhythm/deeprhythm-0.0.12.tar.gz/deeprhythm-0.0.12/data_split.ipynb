{
 "cells": [
  {
   "cell_type": "code",
   "execution_count": 1,
   "metadata": {},
   "outputs": [],
   "source": [
    "import sys\n",
    "sys.path.append('src')"
   ]
  },
  {
   "cell_type": "code",
   "execution_count": 2,
   "metadata": {},
   "outputs": [
    {
     "name": "stdout",
     "output_type": "stream",
     "text": [
      "Model weights already exist.\n",
      "[Errno 2] No such file or directory: 'data/Jaws.flac' data/Jaws.flac\n"
     ]
    },
    {
     "name": "stderr",
     "output_type": "stream",
     "text": [
      "/Users/mitch/deeprhythm/src/deeprhythm/utils.py:63: UserWarning: PySoundFile failed. Trying audioread instead.\n",
      "  audio, _ = librosa.load(filename, sr=sr)\n",
      "/Users/mitch/miniconda3/envs/mlx/lib/python3.11/site-packages/librosa/core/audio.py:183: FutureWarning: librosa.core.audio.__audioread_load\n",
      "\tDeprecated as of librosa version 0.10.0.\n",
      "\tIt will be removed in librosa version 1.0.\n",
      "  y, sr_native = __audioread_load(path, offset, duration, dtype)\n"
     ]
    },
    {
     "ename": "AttributeError",
     "evalue": "'NoneType' object has no attribute 'to'",
     "output_type": "error",
     "traceback": [
      "\u001b[0;31m---------------------------------------------------------------------------\u001b[0m",
      "\u001b[0;31mAttributeError\u001b[0m                            Traceback (most recent call last)",
      "Cell \u001b[0;32mIn[2], line 4\u001b[0m\n\u001b[1;32m      1\u001b[0m \u001b[38;5;28;01mfrom\u001b[39;00m \u001b[38;5;21;01msrc\u001b[39;00m\u001b[38;5;21;01m.\u001b[39;00m\u001b[38;5;21;01mdeeprhythm\u001b[39;00m\u001b[38;5;21;01m.\u001b[39;00m\u001b[38;5;21;01mmodel\u001b[39;00m\u001b[38;5;21;01m.\u001b[39;00m\u001b[38;5;21;01mpredictor\u001b[39;00m \u001b[38;5;28;01mimport\u001b[39;00m DeepRhythmPredictor\n\u001b[1;32m      3\u001b[0m model \u001b[38;5;241m=\u001b[39m DeepRhythmPredictor()\n\u001b[0;32m----> 4\u001b[0m \u001b[43mmodel\u001b[49m\u001b[38;5;241;43m.\u001b[39;49m\u001b[43mpredict\u001b[49m\u001b[43m(\u001b[49m\u001b[38;5;124;43m'\u001b[39;49m\u001b[38;5;124;43mdata/Jaws.flac\u001b[39;49m\u001b[38;5;124;43m'\u001b[39;49m\u001b[43m)\u001b[49m\n",
      "File \u001b[0;32m~/deeprhythm/src/deeprhythm/model/predictor.py:33\u001b[0m, in \u001b[0;36mDeepRhythmPredictor.predict\u001b[0;34m(self, filename)\u001b[0m\n\u001b[1;32m     31\u001b[0m \u001b[38;5;28;01mdef\u001b[39;00m \u001b[38;5;21mpredict\u001b[39m(\u001b[38;5;28mself\u001b[39m, filename):\n\u001b[1;32m     32\u001b[0m     clips \u001b[38;5;241m=\u001b[39m load_and_split_audio(filename, sr\u001b[38;5;241m=\u001b[39m\u001b[38;5;241m22050\u001b[39m)\n\u001b[0;32m---> 33\u001b[0m     input_batch \u001b[38;5;241m=\u001b[39m compute_hcqm(\u001b[43mclips\u001b[49m\u001b[38;5;241;43m.\u001b[39;49m\u001b[43mto\u001b[49m(device\u001b[38;5;241m=\u001b[39m\u001b[38;5;28mself\u001b[39m\u001b[38;5;241m.\u001b[39mdevice), \u001b[38;5;241m*\u001b[39m\u001b[38;5;28mself\u001b[39m\u001b[38;5;241m.\u001b[39mspecs)\u001b[38;5;241m.\u001b[39mpermute(\u001b[38;5;241m0\u001b[39m,\u001b[38;5;241m3\u001b[39m,\u001b[38;5;241m1\u001b[39m,\u001b[38;5;241m2\u001b[39m)\n\u001b[1;32m     34\u001b[0m     \u001b[38;5;28mself\u001b[39m\u001b[38;5;241m.\u001b[39mmodel\u001b[38;5;241m.\u001b[39meval()\n\u001b[1;32m     35\u001b[0m     \u001b[38;5;28;01mwith\u001b[39;00m torch\u001b[38;5;241m.\u001b[39mno_grad():\n",
      "\u001b[0;31mAttributeError\u001b[0m: 'NoneType' object has no attribute 'to'"
     ]
    }
   ],
   "source": [
    "from src.deeprhythm.model.predictor import DeepRhythmPredictor\n",
    "\n",
    "model = DeepRhythmPredictor()\n",
    "model.predict('data/Jaws.flac')"
   ]
  },
  {
   "cell_type": "code",
   "execution_count": 1,
   "metadata": {},
   "outputs": [
    {
     "data": {
      "text/html": [
       "<div>\n",
       "<style scoped>\n",
       "    .dataframe tbody tr th:only-of-type {\n",
       "        vertical-align: middle;\n",
       "    }\n",
       "\n",
       "    .dataframe tbody tr th {\n",
       "        vertical-align: top;\n",
       "    }\n",
       "\n",
       "    .dataframe thead th {\n",
       "        text-align: right;\n",
       "    }\n",
       "</style>\n",
       "<table border=\"1\" class=\"dataframe\">\n",
       "  <thead>\n",
       "    <tr style=\"text-align: right;\">\n",
       "      <th></th>\n",
       "      <th>filename</th>\n",
       "      <th>genre</th>\n",
       "      <th>source</th>\n",
       "      <th>num_clips</th>\n",
       "      <th>bpm</th>\n",
       "    </tr>\n",
       "  </thead>\n",
       "  <tbody>\n",
       "    <tr>\n",
       "      <th>0</th>\n",
       "      <td>yarr/Birdy-Skinny-Love.wav</td>\n",
       "      <td>Pop</td>\n",
       "      <td>yarr</td>\n",
       "      <td>25.0</td>\n",
       "      <td>85.776775</td>\n",
       "    </tr>\n",
       "    <tr>\n",
       "      <th>1</th>\n",
       "      <td>yarr/Outkast-Chonkyfire.wav</td>\n",
       "      <td>Rap</td>\n",
       "      <td>yarr</td>\n",
       "      <td>46.0</td>\n",
       "      <td>92.152814</td>\n",
       "    </tr>\n",
       "    <tr>\n",
       "      <th>2</th>\n",
       "      <td>yarr/Phil-Collins-We-Said-Hello-Goodbye-2016-R...</td>\n",
       "      <td>Pop, Rock</td>\n",
       "      <td>yarr</td>\n",
       "      <td>32.0</td>\n",
       "      <td>142.900462</td>\n",
       "    </tr>\n",
       "    <tr>\n",
       "      <th>3</th>\n",
       "      <td>yarr/Red-Hot-Chili-Peppers-Under-the-Bridge.wav</td>\n",
       "      <td>Pop</td>\n",
       "      <td>yarr</td>\n",
       "      <td>33.0</td>\n",
       "      <td>85.895612</td>\n",
       "    </tr>\n",
       "    <tr>\n",
       "      <th>4</th>\n",
       "      <td>yarr/The-Prodigy-Out-of-Space.wav</td>\n",
       "      <td>Electronic</td>\n",
       "      <td>yarr</td>\n",
       "      <td>37.0</td>\n",
       "      <td>147.187469</td>\n",
       "    </tr>\n",
       "  </tbody>\n",
       "</table>\n",
       "</div>"
      ],
      "text/plain": [
       "                                            filename       genre source  \\\n",
       "0                         yarr/Birdy-Skinny-Love.wav         Pop   yarr   \n",
       "1                        yarr/Outkast-Chonkyfire.wav         Rap   yarr   \n",
       "2  yarr/Phil-Collins-We-Said-Hello-Goodbye-2016-R...   Pop, Rock   yarr   \n",
       "3    yarr/Red-Hot-Chili-Peppers-Under-the-Bridge.wav         Pop   yarr   \n",
       "4                  yarr/The-Prodigy-Out-of-Space.wav  Electronic   yarr   \n",
       "\n",
       "   num_clips         bpm  \n",
       "0       25.0   85.776775  \n",
       "1       46.0   92.152814  \n",
       "2       32.0  142.900462  \n",
       "3       33.0   85.895612  \n",
       "4       37.0  147.187469  "
      ]
     },
     "execution_count": 1,
     "metadata": {},
     "output_type": "execute_result"
    }
   ],
   "source": [
    "import os\n",
    "import pandas as pd\n",
    "dataset_dir = '/media/bleu/bulkdata2/deeprhythmdata'\n",
    "\n",
    "full_df = pd.read_csv('bpm_manifest.csv')\n",
    "full_df.drop(columns=[col for col in full_df.columns if 'Unnamed' in col], inplace=True)\n",
    "full_df.head()\n"
   ]
  },
  {
   "cell_type": "code",
   "execution_count": 2,
   "metadata": {},
   "outputs": [
    {
     "data": {
      "text/plain": [
       "(1061, 5118, 293, 670, 2355)"
      ]
     },
     "execution_count": 2,
     "metadata": {},
     "output_type": "execute_result"
    }
   ],
   "source": [
    "\n",
    "# Splitting the full dataframe into separate dataframes for each source\n",
    "df_slakh = full_df[full_df['source'] == 'slakh']\n",
    "df_fma = full_df[full_df['source'] == 'fma']\n",
    "df_giantsteps = full_df[full_df['source'] == 'giantsteps']\n",
    "df_arcbeam = full_df[full_df['source'] == 'arcbeam']\n",
    "df_yarr = full_df[full_df['source'] == 'yarr']\n",
    "len(df_slakh), len(df_fma), len(df_giantsteps), len(df_arcbeam), len(df_yarr)"
   ]
  },
  {
   "cell_type": "code",
   "execution_count": 3,
   "metadata": {},
   "outputs": [],
   "source": [
    "def split_dataframe_direct(df, proportions):\n",
    "    \"\"\"\n",
    "    Shuffle and split a DataFrame into three parts based on given proportions.\n",
    "\n",
    "    Parameters:\n",
    "    - df: The pandas DataFrame to split.\n",
    "    - proportions: A list or tuple of three proportions. The sum must be equal to 1.\n",
    "\n",
    "    Returns:\n",
    "    - Three pandas DataFrames corresponding to the given proportions.\n",
    "    \"\"\"\n",
    "    train_ratio, test_ratio, validate_ratio = proportions\n",
    "    total_ratio = train_ratio + test_ratio + validate_ratio\n",
    "    assert abs(total_ratio - 1) < 1e-6, \"Ratios must sum to 1\"\n",
    "    # Shuffle the DataFrame\n",
    "    df_shuffled = df.sample(frac=1).reset_index(drop=True)\n",
    "\n",
    "    # Calculate split indices\n",
    "    first_split = int(proportions[0] * len(df))\n",
    "    second_split = first_split + int(proportions[1] * len(df))\n",
    "\n",
    "    # Split the DataFrame\n",
    "    df_first = df_shuffled.iloc[:first_split]\n",
    "    df_second = df_shuffled.iloc[first_split:second_split]\n",
    "    df_third = df_shuffled.iloc[second_split:]\n",
    "\n",
    "    return df_first, df_second, df_third"
   ]
  },
  {
   "cell_type": "code",
   "execution_count": 5,
   "metadata": {},
   "outputs": [
    {
     "data": {
      "text/plain": [
       "(7596, 948, 953)"
      ]
     },
     "execution_count": 5,
     "metadata": {},
     "output_type": "execute_result"
    }
   ],
   "source": [
    "dataframes = [df_slakh, df_arcbeam, df_fma, df_giantsteps, df_yarr]\n",
    "full_train, full_val, full_test = pd.DataFrame(), pd.DataFrame(), pd.DataFrame()\n",
    "\n",
    "for df in dataframes:\n",
    "    train, val, test = split_dataframe_direct(df, (0.8, 0.1, 0.1))\n",
    "    full_train = pd.concat([full_train, train])\n",
    "    full_val = pd.concat([full_val, val])\n",
    "    full_test = pd.concat([full_test, test])\n",
    "\n",
    "full_train.to_csv(os.path.join(dataset_dir, 'train.csv'))\n",
    "full_val.to_csv(os.path.join(dataset_dir, 'val.csv'))\n",
    "full_test.to_csv(os.path.join(dataset_dir, 'test.csv'))\n",
    "len(full_train), len(full_val), len(full_test)"
   ]
  }
 ],
 "metadata": {
  "kernelspec": {
   "display_name": "autoawq",
   "language": "python",
   "name": "python3"
  },
  "language_info": {
   "codemirror_mode": {
    "name": "ipython",
    "version": 3
   },
   "file_extension": ".py",
   "mimetype": "text/x-python",
   "name": "python",
   "nbconvert_exporter": "python",
   "pygments_lexer": "ipython3",
   "version": "3.11.7"
  }
 },
 "nbformat": 4,
 "nbformat_minor": 2
}
