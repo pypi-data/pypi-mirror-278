{
 "cells": [
  {
   "cell_type": "markdown",
   "metadata": {},
   "source": [
    "# How to set the UB matrix directly\n",
    "\n",
    "**NOTE**: work-in-progress\n",
    "\n",
    "$UB$ is the 3x3 orientation matrix used to transform coordinates between\n",
    "reciprocal space directions (of the crystal lattice planes) and the rotational\n",
    "axes of the diffractometer.\n",
    "\n",
    "It is possible to set $UB$ directly, as shown next.\n",
    "Alternatively, $UB$ can be calculated from two non-parallel reflections, using\n",
    "the method of Busing and Levy (*Acta Cryst* **22** (1967) 457)."
   ]
  },
  {
   "cell_type": "markdown",
   "metadata": {},
   "source": [
    "## Set UB\n",
    "\n",
    "For a diffractometer object named `diffractometer`, set $UB$ at `diffractometer.operator.solver.UB`, such as:\n",
    "\n",
    "```py\n",
    "diffractometer.operator.solver.UB = [\n",
    "    [0.5, 6.24, -0.5],\n",
    "    [-0.5, -0.5, 6.24],\n",
    "    [-6.24, -0.5, -0.5],\n",
    "]\n",
    "```"
   ]
  },
  {
   "cell_type": "markdown",
   "metadata": {},
   "source": [
    "## Working example\n",
    "\n",
    "First, create a diffractometer object that uses the `\"hkl_soleil\"` solver with\n",
    "the `\"hkl\"` computation engine.  This solver provides support for many\n",
    "diffractometer geometries.  This example will use the simulated 4-circle\n",
    "geometry from the solver's `\"E4CV\"`."
   ]
  },
  {
   "cell_type": "code",
   "execution_count": 1,
   "metadata": {},
   "outputs": [],
   "source": [
    "from hklpy2 import SimulatedE4CV\n",
    "\n",
    "e4cv = SimulatedE4CV(\"\", name=\"e4cv\")"
   ]
  },
  {
   "cell_type": "markdown",
   "metadata": {},
   "source": [
    "### Defaults\n",
    "The diffractometer object starts with a default sample.  The structure is cubic ($a=b=c$, 90 degree corners)."
   ]
  },
  {
   "cell_type": "code",
   "execution_count": 2,
   "metadata": {},
   "outputs": [
    {
     "data": {
      "text/plain": [
       "Sample(name='cubic', lattice=Lattice(a=1, b=1, c=1, alpha=90.0, beta=90.0, gamma=90.0))"
      ]
     },
     "execution_count": 2,
     "metadata": {},
     "output_type": "execute_result"
    }
   ],
   "source": [
    "e4cv.sample"
   ]
  },
  {
   "cell_type": "markdown",
   "metadata": {},
   "source": [
    "This is the sample the solver will be using.\n",
    "\n",
    "$U$ is the orientation of the sample's crystal lattice as mounted on the diffractometer\n",
    "sample holder.  The default is to assume $U=I$, where $I$ is the 3x3 identity\n",
    "matrix.  \n",
    "\n",
    "$U$ is provided by the *solver*, in this case `\"hkl_soleil\"`.  From the\n",
    "diffractometer object, the solver's default sample $U$ is accessed through a\n",
    "couple software layers:"
   ]
  },
  {
   "cell_type": "code",
   "execution_count": 3,
   "metadata": {},
   "outputs": [
    {
     "data": {
      "text/plain": [
       "[[1.0, 0.0, 0.0], [0.0, 1.0, 0.0], [0.0, 0.0, 1.0]]"
      ]
     },
     "execution_count": 3,
     "metadata": {},
     "output_type": "execute_result"
    }
   ],
   "source": [
    "e4cv.operator.solver.U"
   ]
  },
  {
   "cell_type": "markdown",
   "metadata": {},
   "source": [
    "The default $UB$ (without knowing how the crystal planes are oriented with\n",
    "respect to the diffractometer) of this cubic crystal is $(2\\pi/a) I$ where $I$\n",
    "is the 3x3 identity matrix and $a$ is the lattice parameter.  Like $U$, this is\n",
    "provided by the *solver*, in this case `\"hkl_soleil\"`."
   ]
  },
  {
   "cell_type": "code",
   "execution_count": 4,
   "metadata": {},
   "outputs": [
    {
     "data": {
      "text/plain": [
       "[[6.28318530718, -0.0, -0.0],\n",
       " [0.0, 6.28318530718, -0.0],\n",
       " [0.0, 0.0, 6.28318530718]]"
      ]
     },
     "execution_count": 4,
     "metadata": {},
     "output_type": "execute_result"
    }
   ],
   "source": [
    "e4cv.operator.solver.UB"
   ]
  },
  {
   "cell_type": "markdown",
   "metadata": {},
   "source": [
    "$UB$ is used to transform *(hkl)* to angles (method: `forward()`) and angles to\n",
    "*(hkl)* (method: `inverse()`).  These transformations are fundamental to\n",
    "diffractometer operations, so they are provided to the diffractometer object\n",
    "directly.\n",
    "\n",
    "Here, we compute the angles for the (111) orientation:"
   ]
  },
  {
   "cell_type": "code",
   "execution_count": 5,
   "metadata": {},
   "outputs": [
    {
     "data": {
      "text/plain": [
       "SimulatedE4CVRealPos(omega=60.000000002716, chi=35.264389682252, phi=44.999999999738, tth=120.000000005433)"
      ]
     },
     "execution_count": 5,
     "metadata": {},
     "output_type": "execute_result"
    }
   ],
   "source": [
    "e4cv.forward(1, 1, 1)"
   ]
  },
  {
   "cell_type": "code",
   "execution_count": 6,
   "metadata": {},
   "outputs": [
    {
     "data": {
      "text/plain": [
       "'bissector'"
      ]
     },
     "execution_count": 6,
     "metadata": {},
     "output_type": "execute_result"
    }
   ],
   "source": [
    "e4cv.operator.solver.mode"
   ]
  },
  {
   "cell_type": "markdown",
   "metadata": {},
   "source": [
    "Now, convert *(hkl)* from these angles.  Because we have truncated the numerical\n",
    "precision, we should not expect the precise values of (1.0, 1.0, 1.0)."
   ]
  },
  {
   "cell_type": "code",
   "execution_count": 7,
   "metadata": {},
   "outputs": [
    {
     "data": {
      "text/plain": [
       "SimulatedE4CVPseudoPos(h=-1.003252265133, k=0.993463529784, l=-1.003252265133)"
      ]
     },
     "execution_count": 7,
     "metadata": {},
     "output_type": "execute_result"
    }
   ],
   "source": [
    "e4cv.inverse(-60, -35, 45, -120)"
   ]
  },
  {
   "cell_type": "markdown",
   "metadata": {},
   "source": [
    "## Set UB to new matrix\n",
    "\n",
    "The solver's $UB$ matrix can be re-defined by providing a new Python matrix.\n",
    "Here is a matrix for a cubic sample, oriented previously:\n",
    "\n",
    "```\n",
    "[[0.545455316412, -6.239788968842, -0.495930309978],\n",
    " [-0.547615630691, -0.543471652084, 6.235639164201],\n",
    " [-6.235463558747, -0.498103654451, -0.591011669061]]\n",
    "```"
   ]
  },
  {
   "cell_type": "code",
   "execution_count": 8,
   "metadata": {},
   "outputs": [
    {
     "data": {
      "text/plain": [
       "[[0.5454561359, -6.239786441844, -0.49593056545],\n",
       " [-0.547617660448, -0.543473530637, 6.235639727849],\n",
       " [-6.235461050162, -0.498101063505, -0.591009918402]]"
      ]
     },
     "execution_count": 8,
     "metadata": {},
     "output_type": "execute_result"
    }
   ],
   "source": [
    "e4cv.operator.solver.UB = [\n",
    "    [0.545455316412, -6.239788968842, -0.495930309978],\n",
    "    [-0.547615630691, -0.543471652084, 6.235639164201],\n",
    "    [-6.235463558747, -0.498103654451, -0.591011669061]\n",
    "]\n",
    "e4cv.operator.solver.UB"
   ]
  },
  {
   "cell_type": "code",
   "execution_count": 9,
   "metadata": {},
   "outputs": [
    {
     "data": {
      "text/plain": [
       "[[0.086812079408, -0.993092986426, -0.078930242493],\n",
       " [-0.087156096879, -0.086496568538, 0.992432445262],\n",
       " [-0.992404896021, -0.079275872384, -0.094063055512]]"
      ]
     },
     "execution_count": 9,
     "metadata": {},
     "output_type": "execute_result"
    }
   ],
   "source": [
    "e4cv.operator.solver.U"
   ]
  },
  {
   "cell_type": "code",
   "execution_count": 10,
   "metadata": {},
   "outputs": [
    {
     "data": {
      "text/plain": [
       "SimulatedE4CVPseudoPos(h=0.821953663396, k=0.989926119534, l=1.159500990198)"
      ]
     },
     "execution_count": 10,
     "metadata": {},
     "output_type": "execute_result"
    }
   ],
   "source": [
    "e4cv.inverse(-60, -35, 45, -120)"
   ]
  },
  {
   "cell_type": "code",
   "execution_count": 11,
   "metadata": {},
   "outputs": [
    {
     "data": {
      "text/plain": [
       "SimulatedE4CVRealPos(omega=-59.999921375969, chi=-28.211225311916, phi=40.202361982144, tth=-119.999842751938)"
      ]
     },
     "execution_count": 11,
     "metadata": {},
     "output_type": "execute_result"
    }
   ],
   "source": [
    "e4cv.forward(1, 1, 1)"
   ]
  },
  {
   "cell_type": "markdown",
   "metadata": {},
   "source": [
    "-----\n",
    "\n",
    "This is for another howto"
   ]
  },
  {
   "cell_type": "code",
   "execution_count": 12,
   "metadata": {},
   "outputs": [],
   "source": [
    "# # temporary sample\n",
    "# import math\n",
    "# e4cv.add_sample(\"vibranium\", 2*math.pi)"
   ]
  },
  {
   "cell_type": "code",
   "execution_count": 13,
   "metadata": {},
   "outputs": [
    {
     "data": {
      "text/plain": [
       "[[0.545455121825, -6.239786696648, -0.495928474853],\n",
       " [-0.547615435332, -0.543471167634, 6.235640129207],\n",
       " [-6.235461334285, -0.498100449782, -0.591007438011]]"
      ]
     },
     "execution_count": 13,
     "metadata": {},
     "output_type": "execute_result"
    }
   ],
   "source": [
    "r100 = e4cv.add_reflection((1, 0, 0), (-145.451, 5, -5, 69.0966), name=\"(100)\")\n",
    "r010 = e4cv.add_reflection((0, 1, 0), (-145.451, 5, 85, 69.0966), name=\"(010)\")\n",
    "r001 = e4cv.add_reflection((0, 0, 1), (-145.451, -85, -95, 69.0966))\n",
    "e4cv.operator.calcUB(r100, r010)\n",
    "e4cv.operator.solver.UB\n"
   ]
  },
  {
   "cell_type": "code",
   "execution_count": 14,
   "metadata": {},
   "outputs": [
    {
     "data": {
      "text/plain": [
       "SimulatedE4CVRealPos(omega=-150.000014867083, chi=4.999999955784, phi=-4.999297289891, tth=59.999970265834)"
      ]
     },
     "execution_count": 14,
     "metadata": {},
     "output_type": "execute_result"
    }
   ],
   "source": [
    "e4cv.forward(1, 0, 0)"
   ]
  },
  {
   "cell_type": "code",
   "execution_count": 15,
   "metadata": {},
   "outputs": [
    {
     "data": {
      "text/plain": [
       "SimulatedE4CVRealPos(omega=-120.000001897699, chi=-34.931775605417, phi=-44.822655370896, tth=119.999996204601)"
      ]
     },
     "execution_count": 15,
     "metadata": {},
     "output_type": "execute_result"
    }
   ],
   "source": [
    "e4cv.forward(1, -1, 1)"
   ]
  },
  {
   "cell_type": "code",
   "execution_count": 16,
   "metadata": {},
   "outputs": [
    {
     "name": "stdout",
     "output_type": "stream",
     "text": [
      "e4cv.sample=Sample(name='cubic', lattice=Lattice(a=1, b=1, c=1, alpha=90.0, beta=90.0, gamma=90.0))\n",
      "e4cv.sample=Sample(name='cubic', lattice=Lattice(a=0.8954, b=0.9552, c=0.9222, alpha=86.6391, beta=82.9091, gamma=94.5459))\n"
     ]
    }
   ],
   "source": [
    "r004 = e4cv.add_reflection((1, -1, 1), (-120, -35, -45, 120))\n",
    "print(f\"{e4cv.sample=!r}\")\n",
    "e4cv.operator.refine_lattice()\n",
    "print(f\"{e4cv.sample=!r}\")"
   ]
  }
 ],
 "metadata": {
  "kernelspec": {
   "display_name": "bluesky_2024_2",
   "language": "python",
   "name": "python3"
  },
  "language_info": {
   "codemirror_mode": {
    "name": "ipython",
    "version": 3
   },
   "file_extension": ".py",
   "mimetype": "text/x-python",
   "name": "python",
   "nbconvert_exporter": "python",
   "pygments_lexer": "ipython3",
   "version": "3.11.0"
  }
 },
 "nbformat": 4,
 "nbformat_minor": 2
}
