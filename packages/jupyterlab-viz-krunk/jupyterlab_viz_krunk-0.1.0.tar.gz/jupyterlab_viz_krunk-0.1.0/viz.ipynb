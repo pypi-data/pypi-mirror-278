{
 "cells": [
  {
   "cell_type": "markdown",
   "id": "2af1612e-41eb-41d6-8e55-614b41462d1e",
   "metadata": {},
   "source": [
    "<span style=\"float:right;\">\n",
    "\n",
    "```graphviz\n",
    "digraph {\n",
    "node [shape=rect style=\"rounded\"]\n",
    "a -> b\n",
    "b -> c\n",
    "a -> c\n",
    "}\n",
    "```\n",
    "\n",
    "</span>"
   ]
  },
  {
   "cell_type": "markdown",
   "id": "357ec704-ec58-4649-b14b-714faa24a8a1",
   "metadata": {},
   "source": [
    "```graphviz\n",
    "digraph rounded_record {\n",
    "    //rankdir=LR\n",
    "    node [shape=rect style=\"rounded\"]\n",
    "    A -> B\n",
    "}\n",
    "```"
   ]
  },
  {
   "cell_type": "markdown",
   "id": "d445d7c7-9f7f-46b3-a3eb-81b283cd71ce",
   "metadata": {},
   "source": [
    "```graphviz\n",
    "digraph {\n",
    "  graph [rankdir=\"LR\"]\n",
    "  node [shape=\"circle\"]\n",
    "  a [label=<<i>A</i>>, color=\"red\"]\n",
    "  b [label=<<b>B</b>>, color=\"green\"]\n",
    "  a -> b [label=\"1\"]\n",
    "  b -> c:name [label=\"2\"]\n",
    "  subgraph cluster_1 {\n",
    "    c [label=<<table><tr><td port=\"name\">C</td></tr></table>>]\n",
    "  }\n",
    "}\n",
    "```"
   ]
  },
  {
   "cell_type": "markdown",
   "id": "ba095b74-cdda-468f-acf7-a8ff7240350d",
   "metadata": {},
   "source": [
    "```graphviz\n",
    "aaaerkf\n",
    "werfmkrf\n",
    "werkrelfm\n",
    "```"
   ]
  },
  {
   "cell_type": "markdown",
   "id": "3fbbcf65-499f-40e7-a002-d118ad03d768",
   "metadata": {},
   "source": [
    "```graphviz\n",
    "digraph pre{\n",
    "  a [_type=process label=\"{1. Process\\l | Something}\"]\n",
    "  b [_type=process label=\"{2. Process\\l | Something else}\"]\n",
    "  c [_type=subprocess label=\"do it\"]\n",
    "  d [_type=database label=\"lots of data\"]\n",
    "  e [_type=database label=\"a bit of data\"]\n",
    "  f [_type=inputoutput label=\"inOut\"]\n",
    "  g [_type=file label=\"nail file\"]\n",
    "  h [_type=external label=\"outside\"]  \n",
    "\n",
    " a->b->c->d->e->f->g->h\n",
    "}\n",
    "BEG_G{\n",
    "  $G.newrank=\"true\";\n",
    "}\n",
    "N{\n",
    "  $.color=\"#4271C6\";  // default\n",
    "}\n",
    "N[_type==\"process\"]{\n",
    "  $.shape=\"Mrecord\";\n",
    "  $.style=\"filled\";\n",
    "  $.fillcolor=\"#E1F4FF\";\n",
    "  // maybe redo $.label\n",
    "}\n",
    "N[_type==\"subprocess\"]{\n",
    "  $.shape=\"record\";\n",
    "  $.style=\"filled\";\n",
    "  $.color=\"#FFFFFF\";\n",
    "  $.fillcolor=\"#A5A5A5\";\n",
    "  $.label=sprintf(\"|%s|\", $.label);  // embed in pipes\n",
    "}\n",
    "N[_type==\"database\"]{\n",
    "  $.shape=\"cylinder\";\n",
    "  $.color=\"#18589A\";\n",
    "}\n",
    "N[_type==\"inputoutput\"]{\n",
    "  $.shape=\"polygon\";\n",
    "  $.style='filled';\n",
    "  $.fontcolor=\"white\",\n",
    "  $.ixedsize=\"true\";\n",
    "  $.skew=\"0.3\";\n",
    "  $.margin=\"0\";\n",
    "  $.width=\"2\";\n",
    "}\n",
    "N[_type==\"file\"]{\n",
    "  $.shape=\"folder\";\n",
    "}\n",
    "N[_type==\"external\"]{\n",
    "  $.shape=\"box3d\";\n",
    "}\n",
    "\n",
    "```"
   ]
  }
 ],
 "metadata": {
  "kernelspec": {
   "display_name": "Python 3 (ipykernel)",
   "language": "python",
   "name": "python3"
  },
  "language_info": {
   "codemirror_mode": {
    "name": "ipython",
    "version": 3
   },
   "file_extension": ".py",
   "mimetype": "text/x-python",
   "name": "python",
   "nbconvert_exporter": "python",
   "pygments_lexer": "ipython3",
   "version": "3.11.5"
  }
 },
 "nbformat": 4,
 "nbformat_minor": 5
}
