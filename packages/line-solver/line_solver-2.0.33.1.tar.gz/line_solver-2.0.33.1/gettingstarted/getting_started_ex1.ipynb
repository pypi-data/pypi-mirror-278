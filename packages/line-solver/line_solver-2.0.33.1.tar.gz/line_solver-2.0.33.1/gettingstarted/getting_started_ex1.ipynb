{
 "cells": [
  {
   "cell_type": "markdown",
   "metadata": {},
   "source": [
    "https://github.com/imperial-qore/line-solver/wiki/Getting-started#example-1-a-mm1-queue"
   ]
  },
  {
   "cell_type": "code",
   "metadata": {
    "ExecuteTime": {
     "end_time": "2024-06-11T06:22:41.497707Z",
     "start_time": "2024-06-11T06:22:40.605800Z"
    }
   },
   "source": [
    "from line_solver import *\n",
    "GlobalConstants.setVerbose(VerboseLevel.STD)"
   ],
   "outputs": [],
   "execution_count": 1
  },
  {
   "cell_type": "code",
   "metadata": {
    "ExecuteTime": {
     "end_time": "2024-06-11T06:22:41.517462Z",
     "start_time": "2024-06-11T06:22:41.499347Z"
    }
   },
   "source": [
    "model = Network('M/M/1')\n",
    "# Block 1: nodes\n",
    "source = Source(model, 'mySource')\n",
    "queue = Queue(model, 'myQueue', SchedStrategy.FCFS)\n",
    "sink = Sink(model, 'mySink')\n",
    "# Block 2: classes\n",
    "oclass = OpenClass(model, 'myClass')\n",
    "source.setArrival(oclass, Exp(1))\n",
    "queue.setService(oclass, Exp(2))\n",
    "# Block 3: topology\n",
    "model.link(Network.serialRouting(source, queue, sink))"
   ],
   "outputs": [],
   "execution_count": 2
  },
  {
   "cell_type": "code",
   "source": [
    "# Block 4: solution\n",
    "AvgTable = SolverJMT(model, 'seed', 23000).getAvgTable()"
   ],
   "metadata": {
    "collapsed": false,
    "ExecuteTime": {
     "end_time": "2024-06-11T06:22:42.725374Z",
     "start_time": "2024-06-11T06:22:41.518808Z"
    }
   },
   "outputs": [
    {
     "name": "stdout",
     "output_type": "stream",
     "text": [
      "JMT Model: /tmp/workspace/jsim/13652243879154893418/model.jsim\n",
      "JMT Analysis completed. Runtime: 0.973 seconds\n",
      "    Station JobClass      QLen     Util     RespT    ResidT      ArvR  \\\n",
      "0  mySource  myClass  0.000000  0.00000  0.000000  0.000000  0.000000   \n",
      "1   myQueue  myClass  0.955501  0.48736  0.954293  0.954293  0.998942   \n",
      "\n",
      "       Tput  \n",
      "0  0.998942  \n",
      "1  0.999868  \n"
     ]
    }
   ],
   "execution_count": 3
  },
  {
   "cell_type": "code",
   "source": [
    "# select a particular table row\n",
    "ARow = tget(AvgTable, queue, oclass)"
   ],
   "metadata": {
    "collapsed": false,
    "ExecuteTime": {
     "end_time": "2024-06-11T06:22:42.737808Z",
     "start_time": "2024-06-11T06:22:42.726291Z"
    }
   },
   "outputs": [
    {
     "name": "stdout",
     "output_type": "stream",
     "text": [
      "   Station JobClass      QLen     Util     RespT    ResidT      ArvR      Tput\n",
      "1  myQueue  myClass  0.955501  0.48736  0.954293  0.954293  0.998942  0.999868\n"
     ]
    }
   ],
   "execution_count": 4
  },
  {
   "cell_type": "code",
   "source": [
    "# select a particular table row by node and class label\n",
    "ARow = tget(AvgTable, 'myQueue', 'myClass')"
   ],
   "metadata": {
    "collapsed": false,
    "ExecuteTime": {
     "end_time": "2024-06-11T06:22:42.839114Z",
     "start_time": "2024-06-11T06:22:42.739410Z"
    }
   },
   "outputs": [
    {
     "name": "stdout",
     "output_type": "stream",
     "text": [
      "   Station JobClass      QLen     Util     RespT    ResidT      ArvR      Tput\n",
      "1  myQueue  myClass  0.955501  0.48736  0.954293  0.954293  0.998942  0.999868\n"
     ]
    }
   ],
   "execution_count": 5
  }
 ],
 "metadata": {
  "kernelspec": {
   "display_name": "Python 3",
   "language": "python",
   "name": "python3"
  },
  "language_info": {
   "codemirror_mode": {
    "name": "ipython",
    "version": 3
   },
   "file_extension": ".py",
   "mimetype": "text/x-python",
   "name": "python",
   "nbconvert_exporter": "python",
   "pygments_lexer": "ipython3",
   "version": "3.6.4"
  }
 },
 "nbformat": 4,
 "nbformat_minor": 2
}
