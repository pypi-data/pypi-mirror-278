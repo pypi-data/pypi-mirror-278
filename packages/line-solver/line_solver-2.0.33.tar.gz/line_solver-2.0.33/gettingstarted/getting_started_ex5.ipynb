{
 "cells": [
  {
   "cell_type": "markdown",
   "metadata": {},
   "source": [
    "WARNING: this example is not yet fully functional\n",
    "https://github.com/imperial-qore/line-solver/wiki/Getting-started#example-5-modelling-a-re-entrant-line"
   ]
  },
  {
   "cell_type": "code",
   "metadata": {
    "ExecuteTime": {
     "end_time": "2024-06-10T05:47:24.742512Z",
     "start_time": "2024-06-10T05:47:24.739025Z"
    }
   },
   "source": [
    "from line_solver import *\n",
    "GlobalConstants.setVerbose(VerboseLevel.STD)"
   ],
   "outputs": [],
   "execution_count": 6
  },
  {
   "cell_type": "code",
   "metadata": {
    "ExecuteTime": {
     "end_time": "2024-06-10T05:47:24.917900Z",
     "start_time": "2024-06-10T05:47:24.747131Z"
    }
   },
   "source": [
    "model = Network('RL')\n",
    "queue = Queue(model, 'Queue', SchedStrategy.FCFS)\n",
    "K = 3\n",
    "N = (1, 0, 0)\n",
    "jobclass = []\n",
    "for k in range(K):\n",
    "    jobclass.append(ClosedClass(model, 'Class' + str(k+1), N[k], queue))\n",
    "    queue.setService(jobclass[k], Erlang.fitMeanAndOrder(1+k, 2))\n",
    "P = model.initRoutingMatrix()\n",
    "P.set(jobclass[0], jobclass[1], queue, queue, 1.0)\n",
    "P.set(jobclass[1], jobclass[2], queue, queue, 1.0)\n",
    "P.set(jobclass[2], jobclass[0], queue, queue, 1.0)\n",
    "model.link(P)"
   ],
   "outputs": [],
   "execution_count": 7
  },
  {
   "cell_type": "code",
   "source": "ncAvgTable = SolverNC(model).getAvgTable()",
   "metadata": {
    "collapsed": false,
    "ExecuteTime": {
     "end_time": "2024-06-10T05:47:25.066690Z",
     "start_time": "2024-06-10T05:47:24.919868Z"
    }
   },
   "outputs": [
    {
     "name": "stdout",
     "output_type": "stream",
     "text": [
      "  Station JobClass      QLen      Util  RespT    ResidT  ArvR  Tput\n",
      "0   Queue   Class1  0.166667  0.166667    1.0  0.333333   3.0   1.0\n",
      "1   Queue   Class2  0.333333  0.333333    2.0  0.666667   1.0   2.0\n",
      "2   Queue   Class3  0.500000  0.500000    3.0  1.000000   2.0   3.0\n"
     ]
    },
    {
     "name": "stderr",
     "output_type": "stream",
     "text": [
      "isStateValid will ignore some states of station 0, define a unique initial state to address this problem.\n"
     ]
    }
   ],
   "execution_count": 8
  },
  {
   "cell_type": "code",
   "source": "ncAvgSysTable = SolverNC(model).getAvgSysTable()",
   "metadata": {
    "collapsed": false,
    "ExecuteTime": {
     "end_time": "2024-06-10T05:47:25.173926Z",
     "start_time": "2024-06-10T05:47:25.068384Z"
    }
   },
   "outputs": [
    {
     "name": "stdout",
     "output_type": "stream",
     "text": [
      "    Chain              JobClasses  SysRespT  SysTput\n",
      "0  Chain0  (Class1 Class2 Class3)       2.0      6.0\n"
     ]
    }
   ],
   "execution_count": 9
  },
  {
   "cell_type": "code",
   "source": [
    "jobclass[0].completes = False\n",
    "jobclass[1].completes = False\n",
    "ncAvgSysTable2 = SolverNC(model).getAvgSysTable()"
   ],
   "metadata": {
    "collapsed": false,
    "ExecuteTime": {
     "end_time": "2024-06-10T05:47:25.264495Z",
     "start_time": "2024-06-10T05:47:25.176255Z"
    }
   },
   "outputs": [
    {
     "name": "stdout",
     "output_type": "stream",
     "text": [
      "    Chain              JobClasses  SysRespT  SysTput\n",
      "0  Chain0  (Class1 Class2 Class3)       6.0      3.0\n"
     ]
    }
   ],
   "execution_count": 10
  }
 ],
 "metadata": {
  "kernelspec": {
   "display_name": "Python 3",
   "language": "python",
   "name": "python3"
  },
  "language_info": {
   "codemirror_mode": {
    "name": "ipython",
    "version": 3
   },
   "file_extension": ".py",
   "mimetype": "text/x-python",
   "name": "python",
   "nbconvert_exporter": "python",
   "pygments_lexer": "ipython3",
   "version": "3.6.4"
  }
 },
 "nbformat": 4,
 "nbformat_minor": 2
}
