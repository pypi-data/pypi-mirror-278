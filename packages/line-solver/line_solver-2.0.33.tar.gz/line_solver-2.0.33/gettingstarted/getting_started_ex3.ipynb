{
 "cells": [
  {
   "cell_type": "markdown",
   "metadata": {},
   "source": [
    "WARNING: this example is not yet fully functional\n",
    "https://github.com/imperial-qore/line-solver/wiki/Getting-started#example-3-machine-interference-problem"
   ]
  },
  {
   "cell_type": "code",
   "metadata": {
    "ExecuteTime": {
     "end_time": "2024-06-05T13:19:23.388650Z",
     "start_time": "2024-06-05T13:19:22.474574Z"
    }
   },
   "source": [
    "from line_solver import *\n",
    "GlobalConstants.setVerbose(VerboseLevel.STD)"
   ],
   "outputs": [],
   "execution_count": 1
  },
  {
   "cell_type": "code",
   "metadata": {
    "ExecuteTime": {
     "end_time": "2024-06-05T13:19:23.409144Z",
     "start_time": "2024-06-05T13:19:23.390433Z"
    }
   },
   "source": [
    "model = Network('MRP')\n",
    "# Block 1: nodes\n",
    "delay = Delay(model, 'WorkingState')\n",
    "queue = Queue(model, 'RepairQueue', SchedStrategy.FCFS)\n",
    "queue.setNumberOfServers(2)\n",
    "# Block 2: classes\n",
    "cclass = ClosedClass(model, 'Machines', 3, delay)\n",
    "delay.setService(cclass, Exp(0.5))\n",
    "queue.setService(cclass, Exp(4.0))\n",
    "# Block 3: topology\n",
    "model.link(Network.serialRouting(delay, queue))"
   ],
   "outputs": [],
   "execution_count": 2
  },
  {
   "cell_type": "code",
   "source": [
    "# Block 4: solution\n",
    "solver = SolverCTMC(model)\n",
    "ctmcAvgTable = solver.getAvgTable()"
   ],
   "metadata": {
    "collapsed": false,
    "ExecuteTime": {
     "end_time": "2024-06-05T13:19:23.628231Z",
     "start_time": "2024-06-05T13:19:23.410393Z"
    }
   },
   "outputs": [
    {
     "name": "stdout",
     "output_type": "stream",
     "text": [
      "CTMC Analysis completed. Runtime: 0.012 seconds\n",
      "        Station  JobClass      QLen      Util     RespT    ResidT  ArvR  \\\n",
      "0  WorkingState  Machines  2.664839  2.664839  2.000000  2.000000   0.0   \n",
      "1   RepairQueue  Machines  0.335161  0.166552  0.251543  0.251543   0.0   \n",
      "\n",
      "       Tput  \n",
      "0  1.332419  \n",
      "1  1.332419  \n"
     ]
    }
   ],
   "execution_count": 3
  },
  {
   "cell_type": "code",
   "source": [
    "# TODO: buggy result, the last state should be 0 0 1 2\n",
    "StateSpace = solver.getStateSpace()\n",
    "print(\"\\nStateSpace =\")\n",
    "for i in range(len(StateSpace)):\n",
    "    StateSpace[i].printStateVector()"
   ],
   "metadata": {
    "collapsed": false,
    "ExecuteTime": {
     "end_time": "2024-06-05T13:19:23.636394Z",
     "start_time": "2024-06-05T13:19:23.629885Z"
    }
   },
   "outputs": [
    {
     "name": "stdout",
     "output_type": "stream",
     "text": [
      "\n",
      "StateSpace =\n",
      "3 \n",
      "0 \n",
      "\n",
      "2 \n",
      "0 1 \n",
      "\n",
      "1 \n",
      "0 0 2 \n",
      "\n",
      "0 \n",
      "0 0 0 2 \n",
      "\n"
     ]
    }
   ],
   "execution_count": 4
  },
  {
   "cell_type": "code",
   "source": [
    "InfGen = solver.getGenerator()\n",
    "print(\"\\nInfGen =\")\n",
    "print(InfGen)\n",
    "\n",
    "# TBC\n",
    "# model.printInfGen(InfGen,StateSpace)\n",
    "#\n",
    "# [StateSpace,nodeStateSpace] = solver.getStateSpace()\n",
    "# nodeStateSpace{delay}\n",
    "# nodeStateSpace{queue}"
   ],
   "metadata": {
    "collapsed": false,
    "ExecuteTime": {
     "end_time": "2024-06-05T13:19:23.831836Z",
     "start_time": "2024-06-05T13:19:23.638648Z"
    }
   },
   "outputs": [
    {
     "name": "stdout",
     "output_type": "stream",
     "text": [
      "\n",
      "InfGen =\n",
      "| -1.5  1.5  0.0  0.0 |\n",
      "| 4.0  -5.0  1.0  0.0 |\n",
      "| 0.0  8.0  -8.5  0.5 |\n",
      "| 0.0  0.0  8.0  -8.0 |\n",
      "\n"
     ]
    }
   ],
   "execution_count": 5
  }
 ],
 "metadata": {
  "kernelspec": {
   "display_name": "Python 3",
   "language": "python",
   "name": "python3"
  },
  "language_info": {
   "codemirror_mode": {
    "name": "ipython",
    "version": 3
   },
   "file_extension": ".py",
   "mimetype": "text/x-python",
   "name": "python",
   "nbconvert_exporter": "python",
   "pygments_lexer": "ipython3",
   "version": "3.6.4"
  }
 },
 "nbformat": 4,
 "nbformat_minor": 2
}
