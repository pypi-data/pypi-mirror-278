{
 "cells": [
  {
   "cell_type": "markdown",
   "id": "ae6d2846-4574-4d62-8980-c0923ff0fdc7",
   "metadata": {
    "ExecuteTime": {
     "end_time": "2024-05-04T17:42:34.100413400Z",
     "start_time": "2024-05-04T17:42:34.081403Z"
    },
    "collapsed": true,
    "jupyter": {
     "outputs_hidden": true
    }
   },
   "source": [
    "# Using Databases in PyXMIP\n",
    "\n",
    "![a](https://img.shields.io/badge/Subject:-Databases-blue)\n",
    "![b](https://img.shields.io/badge/Difficulty:-Easy-green)\n",
    "![c](https://img.shields.io/badge/Author:-Eliza_Diggins-green)\n",
    "\n",
    "---\n",
    "\n",
    "In this example guide, we're going to walk through the use / interaction with ``pyXMIP``'s database classes.\n"
   ]
  },
  {
   "cell_type": "markdown",
   "id": "06525c58-7cca-4acd-8c24-2b655f9dca15",
   "metadata": {},
   "source": [
    "## Contents\n",
    "\n",
    "\n",
    "# Accessing Databases\n",
    "\n",
    "---\n",
    "\n",
    "In ``pyXMIP``, databases are represented by classes in the ``pyxmip.structures.databases`` module. There are various types of database, ranging from local databases (local catalogs) to remote databases like NED and SIMBAD. The purpose of the ``databases`` module is to provide an easy, intuitive link between the user and the database-specific querying and managing tasks than are necessary to successfully interact with the relevant data.\n",
    "\n",
    "## Local Databases\n",
    "\n",
    "Local databases are instances where a user might choose to load a catalog of their own to cross-reference against. To demonstrate, we'll use the eROSITA Hard band catalog for the ERASS 1 survey as our database. The firsting thing to do is to load the data into ``pyXMIP``. If you're trying to follow along, you can find the eRASS 1 data [here](https://erosita.mpe.mpg.de/dr1/AllSkySurveyData_dr1/Catalogues_dr1/MerloniA_DR1/eRASS1_Hard.tar.gz). Once it's been unzipped, you should have a file ``eRASS1_Hard.v1.0.fits``. Let's go ahead and load the file into a database!\n"
   ]
  },
  {
   "cell_type": "code",
   "execution_count": 1,
   "id": "79ff0486-3451-4256-9e05-c8482fea89b5",
   "metadata": {
    "ExecuteTime": {
     "start_time": "2024-05-05T17:08:31.371250Z"
    }
   },
   "source": [
    "import pyXMIP as pyxm\n",
    "from pyXMIP.utilities.logging import mainlog\n",
    "\n",
    "mainlog.verbosity = 2\n",
    "\n",
    "# -- read the table into memory as a SourceTable -- #\n",
    "catalog = pyxm.SourceTable.read(\"data/eRASS1_Hard.v1.0.fits\")\n",
    "\n",
    "print(f\"The catalog has length {len(catalog)}.\")"
   ],
   "outputs": []
  },
  {
   "cell_type": "markdown",
   "id": "9ea86146-fb4d-453c-af99-c4e295290394",
   "metadata": {},
   "source": [
    "We can now load the table as a database using the ``pyxm.LocalDatabase`` class:"
   ]
  },
  {
   "cell_type": "code",
   "execution_count": 2,
   "id": "014848e4-5445-4365-94ad-ed747adb015b",
   "metadata": {},
   "source": [
    "database = pyxm.LocalDatabase(catalog, \"example_database\")"
   ],
   "outputs": []
  },
  {
   "cell_type": "markdown",
   "id": "f87f7d2f-893e-4977-8403-af3e613ebc6b",
   "metadata": {},
   "source": [
    "### Basic Properties of Local Databases\n",
    "\n",
    "Congrats, you've just loaded a table as a ``LocalDatabase``! Let's start exploring the database.\n",
    "\n",
    "The second parameter we passed above is the ``name`` of the ``LocalDatabase`` instance. We can access it using ``database.name``."
   ]
  },
  {
   "cell_type": "code",
   "execution_count": 3,
   "id": "7703ec18-521b-49dd-b58a-bb6f606dc055",
   "metadata": {},
   "source": [
    "print(database.name)"
   ],
   "outputs": []
  },
  {
   "cell_type": "markdown",
   "id": "619db129-ce56-42fe-a572-bd05c3e0b065",
   "metadata": {},
   "source": [
    "These local databases operate much like normal ``SourceTable`` objects; you can access the raw data using ``database.table``. What makes these objects useful is that you can immediately perform all of ``pyXMIP``'s core functionality for cross-matching. \n",
    "\n",
    "The first thing to demonstrate is **querying** the database. This allows us to pull all instances within a given radius. Let's try pulling all of the matches within 1 degree of the galactic center:"
   ]
  },
  {
   "cell_type": "code",
   "execution_count": 4,
   "id": "e2a62deb-56c9-499c-aa30-8a94256bf869",
   "metadata": {},
   "source": [
    "from astropy.coordinates import SkyCoord\n",
    "import astropy.units as u\n",
    "\n",
    "query_data = database.query_radius(\n",
    "    SkyCoord(0, 0, unit=\"deg\", frame=\"galactic\"), 1 * u.deg\n",
    ")"
   ],
   "outputs": []
  },
  {
   "cell_type": "code",
   "execution_count": 5,
   "id": "aba42c81-2042-4155-b02a-d933df234607",
   "metadata": {},
   "source": [
    "query_data"
   ],
   "outputs": []
  },
  {
   "cell_type": "markdown",
   "id": "1f52cd1f-8f15-405b-b9eb-c847403d4e5a",
   "metadata": {},
   "source": [
    "---\n",
    "\n",
    "## Remote Databases\n",
    "\n",
    "---\n",
    "\n",
    "As you might expect, the transition from the ``LocalDatabase`` class to the ``RemoteDatabase`` class includes a moderate increase in complexity. Just like local databases, remote databases are used for querying, cross matching, and creating Poisson atlases (all of these topics are covered in other guides). The only major differences are:\n",
    "\n",
    "- Query remote databases requires sending / receiving HTTP information from the database. This can take a lot longer.\n",
    "- Different online databases might have quite a number of settings / configurations for getting / receiving their data.\n",
    "- Remote databases are generally much much larger and therefore cannot be reasonably converted to local databases.\n",
    "\n",
    "For these reasons, there are a few differences in the implementation of remote databases versus the local database.\n",
    "\n",
    "- Many of the common remote databases are **built-in** to the ``pyXMIP`` infrastructure.\n",
    "  - Unlike local databases, where you can load the database from a table; if you need to create your own remote database, you will need to write a    ``RemoteDatabase`` class. Doing so is beyond the scope of this brief example; however, details can be found elsewhere in the documentation.\n",
    "- Each remote database has a ``.query_config`` attribute (which can be set as a kwarg when initializing the database).\n",
    "  - This is a ``dict`` containing various settings to configure for your particular need. The exact details may vary from database to database.\n",
    "  - **Example:** In the NED database, by default, the cross-matching table will only return the match name, RA, DEC, and object type. This can be changed by setting the ``kept_columns`` value in the ``query_config``.\n",
    "\n",
    "Nonetheless, remote databases operate in much the same way that ``LocalDatabases`` do. \n"
   ]
  },
  {
   "cell_type": "code",
   "execution_count": 6,
   "id": "708e0602-b49d-4643-a2c4-0b33d5b49e0c",
   "metadata": {},
   "source": [
    "from pyXMIP.structures.databases import NED"
   ],
   "outputs": []
  },
  {
   "cell_type": "code",
   "execution_count": 7,
   "id": "cba9d9a8-a6d5-416e-98b9-488506fb8891",
   "metadata": {},
   "source": [
    "from astropy.coordinates import SkyCoord\n",
    "import astropy.units as u\n",
    "\n",
    "database = NED()\n",
    "query_data = database.query_radius(\n",
    "    SkyCoord(0, 0, unit=\"deg\", frame=\"galactic\"), 1 * u.arcmin\n",
    ")"
   ],
   "outputs": []
  },
  {
   "cell_type": "code",
   "execution_count": 8,
   "id": "783780b3-19ff-4878-8aa8-6ff61f94a48a",
   "metadata": {},
   "source": [
    "query_data[:5]"
   ],
   "outputs": []
  },
  {
   "cell_type": "markdown",
   "id": "dc5e07c9-aa72-4d65-9eab-e4b756fbcadb",
   "metadata": {},
   "source": [
    "Notice that these remote databases are **much larger** and therefore may take a long time to respond for a given search radius.\n",
    "\n",
    "Unlike ``LocalDatabases``, which read a schema directly from the source table or are provided a schema by the user, remote databases **must** be provided with a schema.\n",
    "\n",
    "- For the various built-in databases (NED, SIMBAD, etc.) there are \"standard\" schema stored in the ``database_class.default_query_schema`` attribute.\n",
    "  - Generally, these don't need to be overridden, but if you need to, a custom schema can be supplied to the ``__init__`` method when instantiating the instance.\n",
    " \n",
    "As an example; "
   ]
  },
  {
   "cell_type": "code",
   "execution_count": 12,
   "id": "7db08047-1854-4eba-81a6-b184c243b5e6",
   "metadata": {},
   "source": [
    "# Initialize a \"standard\" NED instance.\n",
    "ned_database_standard = NED()\n",
    "\n",
    "# Make and edit a copy of the default schema.\n",
    "default_ned_schema = NED.default_query_schema\n",
    "default_ned_schema.column_map[\"TYPE\"] = \"something new\"\n",
    "\n",
    "# Initialize a custom NED instance.\n",
    "ned_database_custom = NED(\"NED_custom\", query_schema=default_ned_schema)\n",
    "\n",
    "# Compare the schema\n",
    "print(ned_database_standard.name, ned_database_custom.name)\n",
    "print(\n",
    "    ned_database_standard.query_schema.column_map,\n",
    "    ned_database_custom.query_schema.column_map,\n",
    ")"
   ],
   "outputs": []
  },
  {
   "cell_type": "markdown",
   "id": "c8b9f2b8-1a68-4475-821f-e04f981db05a",
   "metadata": {},
   "source": [
    "As you can see, the schema are now different. In general, it's not super useful to edit the query schema, but other settings (particularly ``query_config``) operate the same way and may need to be overridden in various applications."
   ]
  },
  {
   "cell_type": "markdown",
   "id": "593a2bda-9034-4143-9f3b-4ff568ac83c7",
   "metadata": {},
   "source": [
    "# Beyond Simple Queries\n",
    "\n",
    "---\n",
    "\n",
    "Now that you've been aquainted with the two basic types of databases and how to perform queries from them, it's now worth looking at some of the more advanced methods which exist for these classes.\n",
    "\n",
    "##"
   ]
  },
  {
   "cell_type": "markdown",
   "id": "41c87932-65f8-473b-a0b1-1ca789e691c1",
   "metadata": {},
   "source": [
    "## What is a database?\n",
    "\n",
    "---\n",
    "\n",
    "Databases are contained in the ``pyxmip.structures.databases`` module and form a backbone for interacting with both local and external sources of catalog information. Under the hood, these are simply wrappers for the case-specific querying behavior of individual types and instances of databases.\n",
    "\n",
    "All databases, regardless of type are descended from the abstract class the ``databases.SourceDatabase`` class. "
   ]
  },
  {
   "cell_type": "code",
   "execution_count": null,
   "id": "8210a47f-462f-44ec-bfb9-ce183563cd5c",
   "metadata": {
    "ExecuteTime": {
     "end_time": "2024-05-05T03:59:00.068135800Z",
     "start_time": "2024-05-05T03:59:00.026134900Z"
    }
   },
   "source": [],
   "outputs": []
  }
 ],
 "metadata": {
  "kernelspec": {
   "display_name": "Python 3 (ipykernel)",
   "language": "python",
   "name": "python3"
  },
  "language_info": {
   "codemirror_mode": {
    "name": "ipython",
    "version": 3
   },
   "file_extension": ".py",
   "mimetype": "text/x-python",
   "name": "python",
   "nbconvert_exporter": "python",
   "pygments_lexer": "ipython3",
   "version": "3.11.6"
  }
 },
 "nbformat": 4,
 "nbformat_minor": 5
}
