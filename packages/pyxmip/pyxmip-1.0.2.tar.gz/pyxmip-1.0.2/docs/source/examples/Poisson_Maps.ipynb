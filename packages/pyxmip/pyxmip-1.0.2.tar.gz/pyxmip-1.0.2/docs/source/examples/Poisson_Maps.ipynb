{
 "cells": [
  {
   "cell_type": "markdown",
   "id": "19eccb8481e5ec67",
   "metadata": {
    "collapsed": false,
    "jupyter": {
     "outputs_hidden": false
    }
   },
   "source": [
    "# Poisson Mapping \n",
    "\n",
    "![a](https://img.shields.io/badge/Subject:-Reduction_Processes-blue)\n",
    "![b](https://img.shields.io/badge/Difficult:-medium-blue)\n",
    "![c](https://img.shields.io/badge/Author:-Eliza_Diggins-green)\n",
    "\n",
    "In the pyXMIP package, a special reduction procedure (called ``PoissonPointReduction``) can be used during match reduction. The idea behind this reduction is that, for some object types and databases, there is a chance that (within a given radius) a match to such an object could occur randomly. This probability, which is Poisson distributed, is critical for correctly identifying spurious matches, but it can be difficult to get. In this notebook, we're going to walk through all the ins and outs of Poisson Mapping; the process pyXMIP uses to obtain those probabilities.\n",
    "\n",
    "## Contents\n",
    "\n",
    "---\n",
    "\n",
    "- [Introduction](#Introduction)\n",
    "  - [Representing Poisson Maps](#Representing-Poisson-Maps)\n",
    "  - [Poisson Atlases](#Poisson-Atlases)\n",
    "    - [Building the Counts Table](#The-Counts-Table)\n",
    "    - [Map HDUs](#Map-HDUs)\n",
    "  - [Poisson Maps](#Poisson-Maps)\n",
    "- [Constructing Poisson Maps](#Constructing-Poisson-Maps)\n",
    "  - [Density Estimation](#Density-Estimation)\n",
    "    - [Maximum a Posteriori (MAP) Estimation](#Maximum-a-Posteriori-Regression)\n",
    "    - [K-Nearest Neighbors (KNN) Estimation](#K-Nearest-Neighbor-Regression)\n",
    "    - [R-Nearest Neighbors (RNN) Estimation](#R-Nearest-Neighbor-Regression) \n",
    "---"
   ]
  },
  {
   "cell_type": "markdown",
   "id": "53455640-5ef1-471e-9ccd-a77851c55d11",
   "metadata": {
    "ExecuteTime": {
     "end_time": "2024-04-07T22:17:35.973666400Z",
     "start_time": "2024-04-07T22:17:35.918670300Z"
    },
    "collapsed": false,
    "jupyter": {
     "outputs_hidden": false
    }
   },
   "source": [
    "# Introduction\n",
    "\n",
    "The Poisson distribution describes the likelihood that a given event with frequency $\\omega$ will occur $k$ number of times in a period / space $\\Delta$. It takes the form\n",
    "\n",
    "$$ P(k | \\omega,\\Delta) = \\frac{(\\omega \\Delta)^{k}\\exp\\left(-\\omega \\Delta\\right)}{k!}. $$\n",
    "\n",
    "In the context of pyXMIP, the question becomes \"Given a catalog source at some $\\textbf{r}$ on the sky and a possible match at $\\textbf{r}'$, what's the probability that $\\textbf{r}'$ would occur randomly given the type of source and the database it was matched from. Let $\\delta$ be the separation on the sky between the two points and $\\lambda(\\phi,\\theta)$ be the **density of that source type** on the sky (specific to the given database). Then the probability that the match happened randomly is\n",
    "\n",
    "$$ P_{\\mathrm{random}}(\\textbf{r}'|\\textbf{r}) = P_{\\mathrm{Poisson}}(k \\ge 1 | \\delta, \\lambda) = 1- \\exp\\left[-2\\pi(1-\\cos(\\delta))\\lambda(\\textbf{r})\\right] \\underbrace{\\approx}_{\\delta \\ll 1} 1- \\exp\\left[-\\pi\\delta^2\\lambda(\\textbf{r})\\right].$$\n",
    "\n",
    "Thus, if we can figure out the **density function** $\\lambda(\\textbf{r})$, it is actually quite easy to conduct this calculation!"
   ]
  },
  {
   "cell_type": "markdown",
   "id": "10e2efb9-fda5-4dcb-a275-8dc028ef1a39",
   "metadata": {
    "collapsed": false,
    "jupyter": {
     "outputs_hidden": false
    }
   },
   "source": [
    "This special function, $\\lambda(\\textbf{r})$ is called the **Poisson Map** for the given database and source type. A great deal of sophistication has gone into the determination of the Poisson map, but on its surface, its a relatively simple idea!\n",
    "\n",
    "---"
   ]
  },
  {
   "cell_type": "markdown",
   "id": "06c9b010-9e11-4a5f-85d6-deb0f179c044",
   "metadata": {},
   "source": [
    "## Representing Poisson Maps\n",
    "\n",
    "![](https://healpix.jpl.nasa.gov/images/healpixGridRefinement.jpg)\n",
    "\n",
    "The first step in representing functions on the sky is to determine how we're going to store them for interpolation. On a Euclidean space, this is a relatively simple undertaking: we just use a grid. On a spherical surface, it's not quite as simple. \n",
    "\n",
    "The solution used in pyXMIP is what are called HEALPix grids. HEALPix is a scheme for breaking up the sky into tiles of equal area so that the entire sky is covered. You can read more details about HEALPix [here](https://healpix.jpl.nasa.gov/). For our uses, there are a few key things worth knowing.\n",
    "\n",
    "![](https://healpix.jpl.nasa.gov/images/exampleEarthTopo.jpg)![](https://healpix.jpl.nasa.gov/images/exampleCMB.jpg)\n",
    "\n",
    "- HEALPix grids may have any of a number of different resolutions. This is dictated by the $N_{\\mathrm{side}}$ parameter\n",
    "  $$ N_{\\mathrm{side}} = 2^k, \\; k\\in \\mathbb{N}$$\n",
    "\n",
    "- The area of a given tile is\n",
    "\n",
    "  $$ \\Omega_{\\mathrm{pix}} = \\theta_{\\mathrm{pix}}^2 = \\frac{3}{\\pi} \\left(\\frac{1.097 \\mathrm{sr}}{N_{\\mathrm{sides}}^2}\\right) $$\n",
    "  \n",
    "## Poisson Atlases\n",
    "\n",
    "The ``PoissonAtlas`` class is the critical class for representing sets of Poisson maps. On its surface, ``PoissonAtlas`` instances simply wrap ``.fits`` files containing 2 sets of extensions:\n",
    "\n",
    "- A ``BinTable`` extension ``COUNTS`` (only 1)\n",
    "  - The ``COUNTS`` is built by randomly sampling from points on the sky. For each point, the database is queried for all the objects within angular\n",
    "    radius $\\delta$. The numbers of each object type are then counted and written to the ``COUNTS`` table. This is the raw data that eventually becomes     a Poisson map.\n",
    "    \n",
    "- ``ImageArray`` extensions with the names of different types of astronomical objects. (As may as there are object types).\n",
    "  - Each of these ``ImageArray`` objects is a $1\\times N_{\\mathrm{pix}}$ array containing the finished Poisson maps once we have completed the process      of calculating them.\n",
    "\n",
    "From the ``PoissonAtlas`` class, you can add points to ``COUNTS``, re-construct a Poisson map on disk, or extract a map for use. This tutorial will show all of these things."
   ]
  },
  {
   "cell_type": "code",
   "execution_count": 3,
   "id": "a71ef089-213e-4d75-b41c-00ba35e86ec3",
   "metadata": {},
   "source": [
    "from pyXMIP.structures.databases import SIMBAD, NED\n",
    "import matplotlib.pyplot as plt\n",
    "import matplotlib as mpl\n",
    "import numpy as np\n",
    "from rich.pretty import (\n",
    "    pprint as print,\n",
    ")  # This can be skipped if you don't have rich installed.\n",
    "\n",
    "# -- Opening the atlases attached to two of our database classes -- #\n",
    "\n",
    "ned_atlas, simbad_atlas = NED.get_poisson_atlas(), SIMBAD.get_poisson_atlas()\n",
    "print(\n",
    "    f\"There are {len(ned_atlas.get_points())} count entries in NED and {len(simbad_atlas.get_points())} in SIMBAD.\"\n",
    ")"
   ],
   "outputs": []
  },
  {
   "cell_type": "markdown",
   "id": "2099068c-c61d-46d6-a77e-43707aa7aa0e",
   "metadata": {},
   "source": [
    "### The Counts Table\n",
    "\n",
    "The first stage in generating maps is to fill the ``COUNTS`` table in a given atlas. In pyXMIP, all of the available remote databases (SIMBAD, NED, etc.) already have built-in ``PoissonAtlas`` instances with large ``COUNTS`` tables; however, it is sometimes advantageous to add new points, or reset a table. Additionally, if you are generating a ``PoissonAtlas`` from scratch, the ``COUNTS`` table will have to be generated.\n",
    "\n",
    "To start, let's take a look at an existing ``COUNTS`` table:"
   ]
  },
  {
   "cell_type": "code",
   "execution_count": 4,
   "id": "9dab23c1-b755-427d-9e78-b0e0dd55ea67",
   "metadata": {},
   "source": [
    "ned_atlas.get_points()[:5]"
   ],
   "outputs": []
  },
  {
   "cell_type": "markdown",
   "id": "1ae70286-617e-43d8-91a9-84fd9930b2c2",
   "metadata": {},
   "source": [
    "As you can see there are a bunch of columns corresponding to each of the recognized object types in the given database. In this case, we're looking at IPAC-NED, so there are quite a number of object types. In each row, the number represents the **number of objects in the point sample**. Information about the point sample is contained in the final 5 columns. ``RAD`` provides the size of the sample area (radius in arcmin), and ``PIX_ID`` corresponds to the HEALPix location of that search. \n",
    "\n",
    "What if we want to add more points to our atlas to improve the statistics? That's easily achieved:"
   ]
  },
  {
   "cell_type": "code",
   "execution_count": 5,
   "id": "e1b1e8b7-6608-40d4-bad6-2b7e4d0a375c",
   "metadata": {},
   "source": [
    "import astropy.units as u\n",
    "\n",
    "# Adding new points to the PoissonAtlas instances.\n",
    "#\n",
    "# 300 -> number of samples, 1 arcmin -> size of search area, thread_kw -> threaded querying for speed.\n",
    "#\n",
    "ned_atlas.sample_from_database(\n",
    "    300, 1 * u.arcmin, thread_kw={\"max_workers\": 50, \"chunk_size\": 20}\n",
    ")\n",
    "simbad_atlas.sample_from_database(\n",
    "    500, 1 * u.arcmin, thread_kw={\"max_workers\": 30, \"chunk_size\": 20}\n",
    ")"
   ],
   "outputs": []
  },
  {
   "cell_type": "code",
   "execution_count": 6,
   "id": "abfc98b5-5d8d-4734-aeab-0e521d3687b4",
   "metadata": {},
   "source": [
    "print(\n",
    "    f\"There are {len(ned_atlas.get_points())} count entries in NED and {len(simbad_atlas.get_points())} in SIMBAD.\"\n",
    ")"
   ],
   "outputs": []
  },
  {
   "cell_type": "markdown",
   "id": "e230765a-7b5f-4c0a-88ce-991ab89004e4",
   "metadata": {},
   "source": [
    "We can also get a general idea of the point densities by directly accessing the tables:"
   ]
  },
  {
   "cell_type": "code",
   "execution_count": 7,
   "id": "9c907209-414e-4d62-82b7-6d7a3b05e93a",
   "metadata": {},
   "source": [
    "from pyXMIP.utilities.geo import convert_skycoord\n",
    "from pyXMIP.utilities.plot import set_style\n",
    "from astropy.coordinates import SkyCoord\n",
    "from matplotlib.colors import SymLogNorm\n",
    "\n",
    "set_style()  # --> Enforce pyXMIP custom style guide.\n",
    "\n",
    "# -- pull a default poisson map's data -- #\n",
    "atlas = SIMBAD.get_default_poisson_atlas()\n",
    "\n",
    "# Fetch the point data.\n",
    "point_data = atlas.get_points()\n",
    "\n",
    "# -- pull the raw point data out of the map -- #\n",
    "x, y, N, R = point_data[\"RA\"], point_data[\"DEC\"], point_data[\"*\"], point_data[\"RAD\"]\n",
    "positions = SkyCoord(ra=x, dec=y, unit=\"deg\")\n",
    "density = N / (np.pi * (R**2))\n",
    "\n",
    "# --> convert the sky positions to the convention for plotting in matplotlib.\n",
    "x, y = convert_skycoord(positions, \"latlon\")\n",
    "\n",
    "# -- plot -- #\n",
    "figure = plt.figure(figsize=(12, 5))\n",
    "ax = figure.add_subplot(111, projection=\"mollweide\")\n",
    "ax.set_facecolor(\"k\")\n",
    "norm = SymLogNorm(vmin=0, vmax=np.amax(density), linthresh=1)\n",
    "cmap = plt.cm.gnuplot\n",
    "\n",
    "ax.scatter(x, y, c=cmap(norm(density)), s=5, alpha=0.85)\n",
    "\n",
    "plt.colorbar(\n",
    "    plt.cm.ScalarMappable(norm=norm, cmap=cmap),\n",
    "    ax=ax,\n",
    "    label=r\"$\\log \\Sigma$, $\\left[\\mathrm{counts\\; arcmin^{-2}}\\right]$\",\n",
    ")\n",
    "_ = ax.set_xlabel(r\"RA, $\\mathrm{deg}$\")\n",
    "_ = ax.set_ylabel(\"DEC, $\\mathrm{deg}$\")"
   ],
   "outputs": []
  },
  {
   "cell_type": "markdown",
   "id": "00da7a08-9468-4796-a0b9-238fdac36fb5",
   "metadata": {},
   "source": [
    "So far so good! We've seen how the ``COUNTS`` table works and how we can plot it, now it's time to explore what we can do with it in the long-run."
   ]
  },
  {
   "cell_type": "markdown",
   "id": "27c6552c-aad1-4f50-9834-0f60232fe883",
   "metadata": {},
   "source": [
    "### Map HDUs\n",
    "\n",
    "For the sake of completeness, it's worth briefly mentioning the other component of a ``SkyAtlas`` (the parent class of ``PoissonAtlas``): ``MapHDU``s. \n",
    "\n",
    "For those unfamiliar with the ``fits`` file format, ``HDU`` are **Heirarchical Data Units**, and store data in the ``fits`` system. We've already encountered one: ``COUNTS``. The other HDU's in the ``PoissonAtlas`` file are actually images; more accurately, they're ``HEALPix`` maps. We can load them as ``Map`` classes to use for various useful processes as discussed below. For now, we'll simply show some basic properties of them."
   ]
  },
  {
   "cell_type": "code",
   "execution_count": 8,
   "id": "73ce7f52-0a9f-469a-a9cc-20c3785ba6d0",
   "metadata": {},
   "source": [
    "# Accessing properties of the HEALPix grids:\n",
    "atlas = SIMBAD.get_poisson_atlas()\n",
    "print(\n",
    "    f\"The SIMBAD atlas has N={atlas.NPIX} pixels, corresponding to N_SIDES={atlas.NSIDE}.\"\n",
    ")\n",
    "\n",
    "# What maps are available?\n",
    "print(f\"There are {len(atlas.map_names)} map(s): {atlas.map_names}.\")\n",
    "\n",
    "# What's the native coordinate system of this object?\n",
    "print(f\"The native coordinate system is {atlas.CSYS}\")"
   ],
   "outputs": []
  },
  {
   "cell_type": "markdown",
   "id": "896b2ba1-2224-4187-a89c-34958fe1d27a",
   "metadata": {},
   "source": [
    "---\n",
    "\n",
    "## Poisson Maps\n",
    "\n",
    "We're now well and truly aquainted with the ``PoissonAtlas`` class; it's now time to meet it's constituent class: ``Map``.\n",
    "\n",
    "The ``Map`` class is effectively a **function on the sky**. In the backend, it turns a ``HEALPix`` grid into a callable function! Let's explore some\n",
    "of the simpler functionality of these maps to get aquainted.\n"
   ]
  },
  {
   "cell_type": "code",
   "execution_count": 9,
   "id": "c3dc76ba-fba3-4828-89f2-b8e418a8080d",
   "metadata": {},
   "source": [
    "atlas = NED.get_poisson_atlas()\n",
    "\n",
    "# What maps are available?\n",
    "print(f\"The available maps are {atlas.map_names}\")\n",
    "\n",
    "# load a map\n",
    "irs_map = atlas.get_map(\"IrS\")"
   ],
   "outputs": []
  },
  {
   "cell_type": "markdown",
   "id": "ba30bfba-dba6-4882-91da-ad520b1fa08a",
   "metadata": {},
   "source": [
    "Just like ``Atlas`` types, ``Map`` types have the typical ``HEALPix`` parameters:"
   ]
  },
  {
   "cell_type": "code",
   "execution_count": 10,
   "id": "4062fb8d-3b04-408a-a895-4b76c4e2862e",
   "metadata": {},
   "source": [
    "print(\n",
    "    f\"The NED IrS has N={irs_map.NPIX} pixels, corresponding to N_SIDES={irs_map.NSIDE}.\"\n",
    ")\n",
    "print(f\"The NED IrS map was last edited on {irs_map.ED}.\")\n",
    "# print(f\"The NED IrS map was building using {irs_map.METH}.\")"
   ],
   "outputs": []
  },
  {
   "cell_type": "markdown",
   "id": "283a4a01-14f7-49f6-a214-99a1d6e41094",
   "metadata": {},
   "source": [
    "Let's consider an example. At $\\mathrm{RA} = 0 \\;\\mathrm{rad}$ and $\\mathrm{DEC} = 0\\; \\mathrm{rad}$, what's the likelihood of finding 3 IrS sources within an area of radius $\\delta = 5\\; \\mathrm{arcmin}$?\n",
    "\n",
    "$$ P(k=3,\\phi_0,\\theta_0,\\delta) = (\\pi\\delta^2 \\lambda(\\phi_0,\\theta_0))^{3} \\exp\\left(-\\pi\\delta^2 \\lambda(\\phi_0,\\theta_0)\\right) / 3! $$"
   ]
  },
  {
   "cell_type": "code",
   "execution_count": 11,
   "id": "430834b3-42a6-49fa-9e37-92e49cde2b09",
   "metadata": {},
   "source": [
    "position = SkyCoord(ra=0, dec=0, unit=\"rad\")\n",
    "\n",
    "# compute the density\n",
    "density = irs_map(position)\n",
    "print(f\"The density at (0,0) is {np.round(density,decimals=3)} counts / arcmin^2\")\n",
    "\n",
    "# area\n",
    "rate = np.pi * (5) ** 2 * density\n",
    "\n",
    "# value\n",
    "prob = (rate**3) * np.exp(-rate) / (6)\n",
    "\n",
    "print(f\"The probability is {prob}. The expected value is {rate}.\")"
   ],
   "outputs": []
  },
  {
   "cell_type": "markdown",
   "id": "e45ed9d6-dad5-4475-a72c-40ca4a47277d",
   "metadata": {},
   "source": [
    "You can also visualize maps quite easily. Let's look at a simple example:"
   ]
  },
  {
   "cell_type": "code",
   "execution_count": 53,
   "id": "e7dccc29-4f21-45e6-9cfd-1a51fa61850e",
   "metadata": {},
   "source": [
    "# -- fetch an atlas -- #\n",
    "atlas = NED.get_poisson_atlas()\n",
    "\n",
    "# -- build a map -- #\n",
    "psn_map = atlas.build_poisson_map(\n",
    "    \"IrS\",\n",
    "    method=\"RNN\",\n",
    "    training_kw={\"training_fraction\": 0.75},\n",
    "    param_kw={\"radius\": [0.5, 0.6, 0.7, 0.8, 1, 2], \"weights\": [\"distance\"]},\n",
    "    inplace=True,\n",
    ")"
   ],
   "outputs": []
  },
  {
   "cell_type": "markdown",
   "id": "c60f5be0-9e30-4a0b-8264-6a25ae936237",
   "metadata": {},
   "source": [
    "We can now access the map we generated:"
   ]
  },
  {
   "cell_type": "code",
   "execution_count": 54,
   "id": "db3a6669-cbd6-4418-b112-969f3712f357",
   "metadata": {},
   "source": [
    "map = atlas.get_map(\"IrS\")\n",
    "\n",
    "import healpy as hp\n",
    "\n",
    "hp.mollview(map.data, flip=\"geo\")\n",
    "plt.show()"
   ],
   "outputs": []
  },
  {
   "cell_type": "markdown",
   "id": "5404557f-3ff4-4ded-a3e5-ea4ee8579cde",
   "metadata": {},
   "source": [
    "We can also change the coordinate system if we want:"
   ]
  },
  {
   "cell_type": "code",
   "execution_count": 55,
   "id": "d9b9a70c-a35b-4946-b95a-39d751b77bf0",
   "metadata": {},
   "source": [
    "map.transform_map_coordinates(\"Galactic\", inplace=True)\n",
    "\n",
    "hp.mollview(map.data, flip=\"geo\")\n",
    "plt.show()"
   ],
   "outputs": []
  },
  {
   "cell_type": "markdown",
   "id": "057066e3-0a64-4ef2-ac0e-62c865cf64c6",
   "metadata": {},
   "source": [
    "---\n",
    "\n",
    "# Constructing Poisson Maps\n",
    "\n",
    "---\n",
    "\n",
    "![d](https://img.shields.io/badge/Difficult:-tricky-orange)\n",
    "\n",
    "For most basic uses, the information presented is already more than sufficient. For the most part, Poisson maps are drawn upon behind the scenes and don't need to be messed with. There are some scenarios in which you'll need a more sophisticated understanding:\n",
    "\n",
    "- Creating your own databases with linked Poisson Atlases.\n",
    "- Fine-grain control of the statistics.\n",
    "- Further development.\n",
    "\n",
    "In this section, we're going to discuss the nitty-gritty of generating Poisson maps."
   ]
  },
  {
   "cell_type": "markdown",
   "id": "137d33be-eca8-42c5-8509-e3d7a78d8f6c",
   "metadata": {},
   "source": [
    "## Density Estimation\n",
    "\n",
    "As described above, ``PoissonAtlas`` objects have a ``COUNTS`` table with the Poisson counts data. The question becomes how we generate the corresponding Poisson maps given these samples. This problem is an example of a generic set of problems known as density estimation problems. PyXMIP provides for a variety of different approaches which are summarized below.\n",
    "\n",
    "To begin, let's get a visual sense of what needs to happen. To start, let's open the ``SIMBAD`` ``PoissonAtlas`` class and look at the distribution of points."
   ]
  },
  {
   "cell_type": "code",
   "execution_count": 12,
   "id": "f16c7b44-c2ae-4dcd-8795-7d09ef173635",
   "metadata": {},
   "source": [
    "from pyXMIP.utilities.geo import convert_skycoord\n",
    "from pyXMIP.utilities.plot import set_style\n",
    "from astropy.coordinates import SkyCoord\n",
    "from matplotlib.colors import SymLogNorm\n",
    "\n",
    "set_style()  # --> Enforce pyXMIP custom style guide.\n",
    "\n",
    "# -- pull a default poisson map's data -- #\n",
    "atlas = SIMBAD.get_default_poisson_atlas()\n",
    "\n",
    "# Fetch the point data.\n",
    "point_data = atlas.get_points()\n",
    "\n",
    "# -- pull the raw point data out of the map -- #\n",
    "x, y, N, R = point_data[\"RA\"], point_data[\"DEC\"], point_data[\"*\"], point_data[\"RAD\"]\n",
    "positions = SkyCoord(ra=x, dec=y, unit=\"deg\")\n",
    "density = N / (np.pi * (R**2))\n",
    "\n",
    "# --> convert the sky positions to the convention for plotting in matplotlib.\n",
    "x, y = convert_skycoord(positions, \"latlon\")\n",
    "\n",
    "# -- plot -- #\n",
    "figure = plt.figure(figsize=(12, 5))\n",
    "ax = figure.add_subplot(111, projection=\"mollweide\")\n",
    "ax.set_facecolor(\"k\")\n",
    "norm = SymLogNorm(vmin=0, vmax=np.amax(density), linthresh=1)\n",
    "cmap = plt.cm.gnuplot\n",
    "\n",
    "ax.scatter(x, y, c=cmap(norm(density)), s=5, alpha=0.85)\n",
    "\n",
    "plt.colorbar(\n",
    "    plt.cm.ScalarMappable(norm=norm, cmap=cmap),\n",
    "    ax=ax,\n",
    "    label=r\"$\\log \\Sigma_\\star$, $\\left[\\mathrm{counts\\; arcmin^{-2}}\\right]$\",\n",
    ")\n",
    "_ = ax.set_xlabel(r\"RA, $\\mathrm{deg}$\")\n",
    "_ = ax.set_ylabel(\"DEC, $\\mathrm{deg}$\")"
   ],
   "outputs": []
  },
  {
   "cell_type": "markdown",
   "id": "513d40ef-aec9-4379-8735-e3d2c6064b5d",
   "metadata": {},
   "source": [
    "Based on this plot, it's quite clear that the stellar density peaks around the galactic plane (as one would expect!). The problem is that, for a HEALPix grid of this size, we're likely to always have some blank spots. What we'd like to do is interpolate these points over the entire sphere to get a smooth distribution of points.\n",
    "\n",
    "PyXMIP implements a variety of methods for doing this:\n",
    "\n",
    "**Map Generation Methods**:\n",
    "\n",
    "- [Maximum A Posteriori (MAP)](#Maximum-A-Posteriori-(MAP))\n",
    "\n",
    "---\n",
    "\n",
    "### Maximum A Posteriori Regression\n",
    "\n",
    "Maximum *a posteriori* estimation is a **Bayesian** technique which provides **point-estimates** for the correct poisson density $\\lambda(\\phi,\\theta)$ at each of the ``HEALPix`` cells.\n",
    "\n",
    "Under the hood, MAP is actually quite complex because (depending on what information the user provides), it can either be very easy of quite difficult. There are two key-word arguments that can be passed with the MAP method:\n",
    "\n",
    "- ``model``: A ``callable``  $f(\\phi,\\theta;\\mathbf{\\Theta})$, where $\\mathbf{\\Theta}$ is a vector of additional parameters.\n",
    "  - The ``model`` kwarg allows the user to get a Baysian fit to the Poisson distribution with\n",
    "    $$ \\lambda(\\phi,\\theta) = f(\\phi,\\theta,\\mathbf{\\Theta}_{\\mathrm{MAP}}). $$\n",
    "    This may be useful if you're confident you know the model $f$ and you want to use that as a constraint on the resulting map.\n",
    "  - When in use, this leads to a non-local Bayesian solver because we are now no longer able to address the problem cell-by-cell.\n",
    "  - **Not Yet Implemented**\n",
    " \n",
    "    \n",
    "- ``prior``: A ``callable`` function $p(\\phi,\\theta,\\mathbf{\\Theta})$ which provides the spatially variable prior for the parameters $\\mathbf{\\Theta}$.\n",
    "  - **Not Yet Implemented**\n",
    "\n",
    "\n",
    "**Pros and Cons**:\n",
    "\n",
    "- *Pros*:\n",
    "  - Very quick method and easy to check that things make sense.\n",
    "  - No need for training or cross validation. No fiddling necessary.\n",
    "  - Allows a robust confidence interval on $\\lambda$.\n",
    "- *Cons*:\n",
    "  - Local (when ``model=None``). Thus, only useful when ``COUNTS`` is quite large.\n",
    "  - Requires complex, non-linear methods to solve when either ``prior`` or ``model`` is specified. \n",
    "\n",
    "\n",
    "**Usage**:\n",
    "\n",
    "Let's take a look at a very simple example without priors or a model:"
   ]
  },
  {
   "cell_type": "code",
   "execution_count": 27,
   "id": "230a96f5-3793-4a49-b04a-769f14717dfd",
   "metadata": {},
   "source": [
    "atlas = SIMBAD.get_default_poisson_atlas()\n",
    "psn_map = atlas.build_poisson_map(\"*\", method=\"MAP\", inplace=False)"
   ],
   "outputs": []
  },
  {
   "cell_type": "code",
   "execution_count": 38,
   "id": "c6e1b0f8-ada7-46e0-b447-e751506d9248",
   "metadata": {},
   "source": [
    "import healpy as hp\n",
    "\n",
    "hp.mollview(psn_map.map, cmap=\"gnuplot\", title=\"\", flip=\"geo\")\n",
    "plt.show()"
   ],
   "outputs": []
  },
  {
   "cell_type": "markdown",
   "id": "e99d74c1-98e9-47c6-a11c-e9d23274439a",
   "metadata": {},
   "source": [
    "MAP is really at it's best for very common object types:"
   ]
  },
  {
   "cell_type": "code",
   "execution_count": 41,
   "id": "057940c2-c490-47d3-b493-053551423bff",
   "metadata": {},
   "source": [
    "# -- pull a default poisson map's data -- #\n",
    "from pyXMIP.structures.databases import NED\n",
    "\n",
    "atlas = NED.get_default_poisson_atlas()\n",
    "psn_map = atlas.build_poisson_map(\"IrS\", method=\"MAP\", inplace=False)\n",
    "\n",
    "import healpy as hp\n",
    "\n",
    "hp.mollview(psn_map.map, cmap=\"gnuplot\", flip=\"geo\")\n",
    "hp.graticule()\n",
    "plt.show()"
   ],
   "outputs": []
  },
  {
   "cell_type": "markdown",
   "id": "c30ba258-c7bc-414e-9392-8e9c68da259a",
   "metadata": {},
   "source": [
    "So now we can see what's going on here. The MAP estimator is a point-estimate, it doesn't smooth the map. This doesn't mean that it's not useful. If you have a rich enough set of data, it might be one of the most accurate options!"
   ]
  },
  {
   "cell_type": "markdown",
   "id": "d44eb34c-1fd5-4b96-ad0e-c57cfe9fd521",
   "metadata": {},
   "source": [
    "---\n",
    "\n",
    "### K-Nearest Neighbor Regression\n",
    "\n",
    "The $k$-nearest neighbors approach (KNN) is a fully implemented machine learning approach to density estimation. We highly suggest you read the API documentation on all of the options.\n",
    "\n",
    "In general terms, KNN can be implemented with between 1 and 3 steps:\n",
    "\n",
    "- **Cross-Validation**: Controlled by the ``cross-validatate`` kwarg. If ``True``, then a portion of the training set is held for cross-validation of\n",
    "  the relevant hyper-parameters. In this case, ``n_neighbors`` or ``weights``.\n",
    "  - CV parameters can be provided in ``training_kw`` and the parameter grid to run the CV on is specified in ``param_kw``.\n",
    " \n",
    "- **Training**: Fits the regressor to the available data. Additional training kwargs are added via ``training_kw``.\n",
    "  - The most useful kwarg is ``training_fraction``, which determines what fraction of the available data is used for training versus testing.\n",
    "\n",
    "- **Interpolation**: Use the fitted model to interpolate over all of the ``HEALPix`` grids.\n",
    "\n",
    "\n",
    "It should be noted that you can also enforce a ``score_threshold`` or ``cv_threshold`` to require a specific score before allowing the process to proceed. Additionally ``inplace=False`` allows you to validate the map without it being written immediately to the underlying ``.fits`` file."
   ]
  },
  {
   "cell_type": "code",
   "execution_count": 42,
   "id": "67e08f03-c131-417e-81bb-4c706fab7f38",
   "metadata": {},
   "source": [
    "# -- fetch the atlas -- #\n",
    "atlas = NED.get_poisson_atlas()\n",
    "\n",
    "# -- build the Poisson Map -- #\n",
    "psn_map = atlas.build_poisson_map(\n",
    "    \"IrS\",  # The object type to model.\n",
    "    method=\"KNN\",  # Method to use: KNN\n",
    "    training_kw={\"training_fraction\": 0.5},  # training kwargs.\n",
    "    param_kw={\n",
    "        \"n_neighbors\": [3, 4, 5, 6],\n",
    "        \"weights\": [\"distance\"],\n",
    "    },  # parameter kwargs.\n",
    "    inplace=False,  # Not writing to .fits\n",
    ")"
   ],
   "outputs": []
  },
  {
   "cell_type": "markdown",
   "id": "6a19df16-bb78-4bfe-a595-75f38cbd7213",
   "metadata": {},
   "source": [
    "**That was easy!** Let's take a look at why pyXMIP is telling us:\n",
    "\n",
    "- The first logging output tells us that we're generating a KNN map of object type *.\n",
    "- The first thing that happens is that the regression model is cross-validated to determine the optimal number of neighbors $n$ to use.\n",
    "- Then the model trains against the data.\n",
    "\n",
    "Now, let's investigate what came out of this!"
   ]
  },
  {
   "cell_type": "code",
   "execution_count": 38,
   "id": "2a2dd1e1-4ba2-4031-930e-9c754b20d5b0",
   "metadata": {},
   "source": [
    "# look at the output from the map!\n",
    "print(psn_map)"
   ],
   "outputs": []
  },
  {
   "cell_type": "markdown",
   "id": "86c8c3bd-97aa-41b2-a86d-4a51180e2c09",
   "metadata": {},
   "source": [
    "**NOTE**: if you set ``inplace=True``, then the map will be written directly to disk and you will need to retrieve it with ``atlas.get_map('*')``. In some cases, you may just want to get the HEALPix grid back immediately, in which case, you can use ``inplace=False``.\n",
    "\n",
    "Let's go ahead and look at this map!"
   ]
  },
  {
   "cell_type": "code",
   "execution_count": 47,
   "id": "ae2108dc-ae03-4598-9822-51923183f84e",
   "metadata": {},
   "source": [
    "import healpy as hp\n",
    "\n",
    "d = psn_map.map\n",
    "hp.mollview(d, cmap=\"gnuplot\", flip=\"geo\", notext=True, title=\"\")\n",
    "hp.graticule()\n",
    "plt.show()"
   ],
   "outputs": []
  },
  {
   "cell_type": "markdown",
   "id": "2d0a58df-1360-4a5c-aa49-412f0cff07e0",
   "metadata": {},
   "source": [
    "---\n",
    "\n",
    "### R-Nearest Neighbor Regression\n",
    "\n",
    "R-Nearest Neightbor Regression (RNN) is very similar to KNN but with a minor twist: RNN uses a constant circular size to search for points instead of finding it's nearest neighbors. All of the parameters are the same except instead of ``n_neighbors``, we now use ``radius``.\n"
   ]
  },
  {
   "cell_type": "code",
   "execution_count": 48,
   "id": "590cff6d-c3ee-4978-92a6-bd3b17961f50",
   "metadata": {},
   "source": [
    "atlas = NED.get_poisson_atlas()\n",
    "psn_map = atlas.build_poisson_map(\n",
    "    \"IrS\",\n",
    "    method=\"RNN\",\n",
    "    training_kw={\"training_fraction\": 0.5},\n",
    "    param_kw={\"radius\": [0.5, 0.6, 0.7, 0.8, 1, 2], \"weights\": [\"distance\"]},\n",
    "    inplace=False,\n",
    ")\n",
    "import healpy as hp\n",
    "\n",
    "hp.mollview(psn_map.map, cmap=\"gnuplot\", flip=\"geo\", notext=True, title=\"\")\n",
    "hp.graticule()\n",
    "plt.show()"
   ],
   "outputs": []
  }
 ],
 "metadata": {
  "kernelspec": {
   "display_name": "Python 3 (ipykernel)",
   "language": "python",
   "name": "python3"
  },
  "language_info": {
   "codemirror_mode": {
    "name": "ipython",
    "version": 3
   },
   "file_extension": ".py",
   "mimetype": "text/x-python",
   "name": "python",
   "nbconvert_exporter": "python",
   "pygments_lexer": "ipython3",
   "version": "3.11.6"
  }
 },
 "nbformat": 4,
 "nbformat_minor": 5
}
