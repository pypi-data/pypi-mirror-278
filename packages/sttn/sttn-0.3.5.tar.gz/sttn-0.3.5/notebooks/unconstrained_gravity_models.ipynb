{
 "cells": [
  {
   "cell_type": "code",
   "execution_count": 134,
   "metadata": {},
   "outputs": [],
   "source": [
    "import warnings\n",
    "warnings.simplefilter(action='ignore', category=FutureWarning)\n",
    "\n",
    "import pandas as pd\n",
    "import statsmodels.api as sm\n",
    "import numpy as np\n",
    "import geopandas as gpd\n",
    "import networkx as nx\n",
    "from ipfn import ipfn\n",
    "# import pycombo\n",
    "from sklearn.linear_model import LinearRegression\n",
    "from sklearn.metrics import normalized_mutual_info_score as nmi\n",
    "from matplotlib import pyplot as plt\n",
    "from sklearn.metrics import mean_squared_error\n",
    "import seaborn as sns\n",
    "pd.options.mode.chained_assignment = None  # default='warn'\n",
    "from sttn.data.lehd import OriginDestinationEmploymentDataProvider\n",
    "provider = OriginDestinationEmploymentDataProvider()\n",
    "\n",
    "import math\n",
    "from sttn.network import SpatioTemporalNetwork\n",
    "from sttn.utils import add_distance\n",
    "import warnings\n",
    "warnings.filterwarnings('ignore')\n",
    "%matplotlib inline"
   ]
  },
  {
   "cell_type": "code",
   "execution_count": 135,
   "metadata": {},
   "outputs": [],
   "source": [
    "# data format: city, state usps code, list of counties\n",
    "cities = [\n",
    "    ('New York City', 'ny', ['New York County, NY', 'Queens County, NY','Kings County, NY','Bronx County, NY','Richmond County, NY']),\n",
    "    ('Los Angeles', 'ca', ['Los Angeles County, CA']),\n",
    "    ('Chicago', 'il', ['Cook County, IL']),\n",
    "    ('Houston', 'tx', ['Harris County, TX']),\n",
    "    ('Boston', 'ma', ['Suffolk County, MA', 'Middlesex County, MA']),\n",
    "    ('Phoenix', 'az', ['Maricopa County, AZ']),\n",
    "    ('Philadelphia', 'pa', ['Philadelphia County, PA']),\n",
    "    ('San Antonio', 'tx', ['Bexar County, TX']),\n",
    "    ('San Diego', 'ca', ['San Diego County, CA']),\n",
    "    ('Dallas', 'tx', ['Dallas County, TX']),\n",
    "    ('San Jose', 'ca', ['Santa Clara County, CA']),\n",
    "    ('Austin', 'tx', ['Travis County, TX']),\n",
    "]"
   ]
  },
  {
   "cell_type": "code",
   "execution_count": 126,
   "metadata": {},
   "outputs": [
    {
     "name": "stdout",
     "output_type": "stream",
     "text": [
      "mkdir: cannot create directory ‘cities’: File exists\r\n"
     ]
    }
   ],
   "source": [
    "!mkdir cities\n",
    "job_column = 'S000'\n",
    "comp_aggs={job_column: 'sum'}\n",
    "for city, state, conties in cities:\n",
    "    state_network = provider.get_data(state=state, year=2018)\n",
    "    city_network = state_network.filter_nodes(state_network.nodes.county.isin(conties))\n",
    "    \n",
    "    with_distance = add_distance(city_network).edges\n",
    "    with_distance = with_distance.loc[(with_distance.SE01 > 0) & \n",
    "                                              (with_distance.SE02 > 0) &\n",
    "                                              (with_distance.SE03 > 0)]\n",
    "#     with_weights = compute_weights(city_network, column)\n",
    "    \n",
    "    city_jobs = city_network.agg_adjacent_edges(aggs=comp_aggs, outgoing=False).rename(columns={job_column: 'jobs'}).reset_index()\n",
    "    city_pop = city_network.agg_adjacent_edges(aggs=comp_aggs, outgoing=True).rename(columns={job_column: 'residence'}).reset_index()\n",
    "    \n",
    "    city_dist = with_distance.merge(city_jobs, on='destination')\n",
    "    city_cum = city_dist.merge(city_pop, on='origin')\n",
    "    city_cum.to_csv('cities/%s.csv'%city,index=False)"
   ]
  },
  {
   "cell_type": "markdown",
   "metadata": {},
   "source": [
    "### unconstrained power law"
   ]
  },
  {
   "cell_type": "code",
   "execution_count": 183,
   "metadata": {},
   "outputs": [],
   "source": [
    "import scipy.optimize as optimize\n",
    "def power_law(x, a,b):\n",
    "    return a*(x**b)\n",
    "def unconstrained_model(data, separate_income=False):\n",
    "    y_target = ['S000']  # target = total commute if no income segregation\n",
    "    data.loc[data.distance == 0, 'distance'] = 0.2\n",
    "    origin = df.groupby(['origin']).agg({'S000':sum}).reset_index()\n",
    "    origin.columns = ['origin','S000residence']\n",
    "    destination = df.groupby(['destination']).agg({'S000':sum}).reset_index()\n",
    "    destination.columns = ['destination','S000jobs']\n",
    "    data = data.merge(origin,on=['origin'])\n",
    "    data = data.merge(destination,on=['destination'])\n",
    "    \n",
    "    if separate_income == True:\n",
    "        \n",
    "        y_target = ['SE01', 'SE02', 'SE03'] # target = individual income commute if income segregation\n",
    "        origin = df.groupby(['origin']).agg({'SE01':sum,'SE02':sum,'SE03':sum}).reset_index()\n",
    "        origin.columns = ['origin','SE01residence','SE02residence','SE03residence']\n",
    "        destination = df.groupby(['destination']).agg({'SE01':sum,'SE02':sum,'SE03':sum}).reset_index()\n",
    "        destination.columns = ['destination','SE01jobs','SE02jobs','SE03jobs']\n",
    "        data = data.merge(origin,on=['origin'])\n",
    "        data = data.merge(destination,on=['destination'])\n",
    "    dataF = []\n",
    "    for target in y_target:\n",
    "        X = data.distance.values\n",
    "        y = data[target]/(data[target+'jobs']*data[target+'residence'])\n",
    "        pars, cov = optimize.curve_fit(f=power_law, xdata=X, ydata=y, bounds=(-np.inf, np.inf))\n",
    "#         print(pars)\n",
    "        data[target+'a'] = pars[0]\n",
    "        data[target+'b'] = pars[1]\n",
    "        data[target+'pred'] = data[target+'a']*(data['distance']**data[target+'b'])*data[target+'jobs']*data[target+'residence']\n",
    "    return data\n",
    "\n",
    "        "
   ]
  },
  {
   "cell_type": "code",
   "execution_count": 184,
   "metadata": {},
   "outputs": [
    {
     "name": "stdout",
     "output_type": "stream",
     "text": [
      "mkdir: cannot create directory ‘unconstrainPowerlawPredictionResultsCT/’: File exists\r\n"
     ]
    }
   ],
   "source": [
    "!mkdir unconstrainPowerlawPredictionResultsCT/\n",
    "import os\n",
    "cities = os.listdir('cities/')\n",
    "for city in cities:\n",
    "    df = pd.read_csv('cities/'+city)\n",
    "    df = unconstrained_model(df,separate_income=False)\n",
    "    df.to_csv('unconstrainPowerlawPredictionResultsCT/'+city,index=False)\n"
   ]
  },
  {
   "cell_type": "code",
   "execution_count": 128,
   "metadata": {},
   "outputs": [
    {
     "name": "stdout",
     "output_type": "stream",
     "text": [
      "mkdir: cannot create directory ‘unconstrainPowerlawPredictionResultsCTIncome/’: File exists\r\n"
     ]
    }
   ],
   "source": [
    "!mkdir unconstrainPowerlawPredictionResultsCTIncome/\n",
    "import os\n",
    "cities = os.listdir('cities/')\n",
    "for city in cities:\n",
    "    df = pd.read_csv('cities/'+city)\n",
    "    df = unconstrained_model(df,separate_income=True)\n",
    "    df.to_csv('unconstrainPowerlawPredictionResultsCTIncome/'+city,index=False)\n"
   ]
  },
  {
   "cell_type": "markdown",
   "metadata": {},
   "source": [
    "### full power law"
   ]
  },
  {
   "cell_type": "code",
   "execution_count": 185,
   "metadata": {},
   "outputs": [],
   "source": [
    "\n",
    "X = df[['distance','jobs','residence']].values\n",
    "y = df['S000'].values\n",
    "def power_law(x,k,a,b,c):\n",
    "    return k*(x[:,0]**a)*(x[:,1]**b)*(x[:,2]**c)\n",
    "def unconstrained_model(data, separate_income=False):\n",
    "    data.loc[data.distance == 0, 'distance'] = 0.2\n",
    "    y_target = ['S000']  # target = total commute if no income segregation.2\n",
    "    origin = df.groupby(['origin']).agg({'S000':sum}).reset_index()\n",
    "    origin.columns = ['origin','S000residence']\n",
    "    destination = df.groupby(['destination']).agg({'S000':sum}).reset_index()\n",
    "    destination.columns = ['destination','S000jobs']\n",
    "    data = data.merge(origin,on=['origin'])\n",
    "    data = data.merge(destination,on=['destination'])\n",
    "    if separate_income == True:\n",
    "        \n",
    "        y_target = ['SE01', 'SE02', 'SE03'] # target = individual income commute if income segregation\n",
    "        origin = df.groupby(['origin']).agg({'SE01':sum,'SE02':sum,'SE03':sum}).reset_index()\n",
    "        origin.columns = ['origin','SE01residence','SE02residence','SE03residence']\n",
    "        destination = df.groupby(['destination']).agg({'SE01':sum,'SE02':sum,'SE03':sum}).reset_index()\n",
    "        destination.columns = ['destination','SE01jobs','SE02jobs','SE03jobs']\n",
    "        data = data.merge(origin,on=['origin'])\n",
    "        data = data.merge(destination,on=['destination'])\n",
    "    dataF = []\n",
    "    for target in y_target:\n",
    "        X = data[['distance',target+'jobs',target+'residence']].values\n",
    "        y = data[target].values\n",
    "        pars, cov = optimize.curve_fit(f=power_law, xdata=X, ydata=y, bounds=(-np.inf, np.inf))\n",
    "#         print(pars)\n",
    "        data[target+'k'] = pars[0]\n",
    "        data[target+'a'] = pars[1]\n",
    "        data[target+'b'] = pars[2]\n",
    "        data[target+'c'] = pars[3]\n",
    "        data[target+'pred'] = data[target+'k']*(data['distance']**data[target+'a'])*\\\n",
    "                        (data[target+'jobs']**data[target+'b'])*(data[target+'residence']**data[target+'c'])\n",
    "    return data\n",
    "\n",
    "        "
   ]
  },
  {
   "cell_type": "code",
   "execution_count": 187,
   "metadata": {},
   "outputs": [
    {
     "name": "stdout",
     "output_type": "stream",
     "text": [
      "mkdir: cannot create directory ‘unconstrainFullPowerlawPredictionResultsCT/’: File exists\r\n"
     ]
    }
   ],
   "source": [
    "!mkdir unconstrainFullPowerlawPredictionResultsCT/\n",
    "import os\n",
    "cities = os.listdir('cities/')\n",
    "for city in cities:\n",
    "    df = pd.read_csv('cities/'+city)\n",
    "    df = unconstrained_model(df,separate_income=False)\n",
    "    df.to_csv('unconstrainFullPowerlawPredictionResultsCT/'+city,index=False)\n"
   ]
  },
  {
   "cell_type": "code",
   "execution_count": 186,
   "metadata": {},
   "outputs": [
    {
     "name": "stdout",
     "output_type": "stream",
     "text": [
      "mkdir: cannot create directory ‘unconstrainFullPowerlawPredictionResultsCTIncome/’: File exists\r\n"
     ]
    }
   ],
   "source": [
    "!mkdir unconstrainFullPowerlawPredictionResultsCTIncome/\n",
    "import os\n",
    "cities = os.listdir('cities/')\n",
    "for city in cities:\n",
    "    df = pd.read_csv('cities/'+city)\n",
    "    df = unconstrained_model(df,separate_income=True)\n",
    "    df.to_csv('unconstrainFullPowerlawPredictionResultsCTIncome/'+city,index=False)\n"
   ]
  },
  {
   "cell_type": "markdown",
   "metadata": {},
   "source": [
    "### expotential"
   ]
  },
  {
   "cell_type": "code",
   "execution_count": 175,
   "metadata": {},
   "outputs": [],
   "source": [
    "import scipy.optimize as optimize\n",
    "def power_law(x, a,b):\n",
    "    return a*(np.e**(b*x))\n",
    "def unconstrained_model(data, separate_income=False):\n",
    "    y_target = ['S000']  # target = total commute if no income segregation\n",
    "    data.loc[data.distance == 0, 'distance'] = 0.2\n",
    "    origin = df.groupby(['origin']).agg({'S000':sum}).reset_index()\n",
    "    origin.columns = ['origin','S000residence']\n",
    "    destination = df.groupby(['destination']).agg({'S000':sum}).reset_index()\n",
    "    destination.columns = ['destination','S000jobs']\n",
    "    data = data.merge(origin,on=['origin'])\n",
    "    data = data.merge(destination,on=['destination'])\n",
    "    if separate_income == True:\n",
    "        \n",
    "        y_target = ['SE01', 'SE02', 'SE03'] \n",
    "        origin = df.groupby(['origin']).agg({'SE01':sum,'SE02':sum,'SE03':sum}).reset_index()\n",
    "        origin.columns = ['origin','SE01residence','SE02residence','SE03residence']\n",
    "        destination = df.groupby(['destination']).agg({'SE01':sum,'SE02':sum,'SE03':sum}).reset_index()\n",
    "        destination.columns = ['destination','SE01jobs','SE02jobs','SE03jobs']\n",
    "        data = data.merge(origin,on=['origin'])\n",
    "        data = data.merge(destination,on=['destination'])\n",
    "    dataF = []\n",
    "    for target in y_target:\n",
    "        X = data.distance.values\n",
    "        y = data[target]/(data[target+'jobs']*data[target+'residence'])\n",
    "        pars, cov = optimize.curve_fit(f=power_law, xdata=X, ydata=y, bounds=(-np.inf, np.inf))\n",
    "#         print(pars)\n",
    "        data[target+'a'] = pars[0]\n",
    "        data[target+'b'] = pars[1]\n",
    "        data[target+'pred'] = data[target+'a']*(np.e**(data['distance']*data[target+'b']))*data[target+'jobs']*data[target+'residence']\n",
    "    return data\n",
    "\n",
    "        "
   ]
  },
  {
   "cell_type": "code",
   "execution_count": 181,
   "metadata": {},
   "outputs": [
    {
     "name": "stdout",
     "output_type": "stream",
     "text": [
      "mkdir: cannot create directory ‘unconstrainExpPredictionResultsCT/’: File exists\r\n"
     ]
    }
   ],
   "source": [
    "!mkdir unconstrainExpPredictionResultsCT/\n",
    "import os\n",
    "cities = os.listdir('cities/')\n",
    "for city in cities:\n",
    "    df = pd.read_csv('cities/'+city)\n",
    "    df = unconstrained_model(df,separate_income=False)\n",
    "    df.to_csv('unconstrainExpPredictionResultsCT/'+city,index=False)\n"
   ]
  },
  {
   "cell_type": "code",
   "execution_count": 132,
   "metadata": {},
   "outputs": [
    {
     "name": "stdout",
     "output_type": "stream",
     "text": [
      "mkdir: cannot create directory ‘unconstrainExpPredictionResultsCTIncome/’: File exists\r\n"
     ]
    }
   ],
   "source": [
    "!mkdir unconstrainExpPredictionResultsCTIncome/\n",
    "import os\n",
    "cities = os.listdir('cities/')\n",
    "for city in cities:\n",
    "    df = pd.read_csv('cities/'+city)\n",
    "    df = unconstrained_model(df,separate_income=True)\n",
    "    df.to_csv('unconstrainExpPredictionResultsCTIncome/'+city,index=False)\n"
   ]
  },
  {
   "cell_type": "code",
   "execution_count": null,
   "metadata": {},
   "outputs": [],
   "source": []
  }
 ],
 "metadata": {
  "kernelspec": {
   "display_name": "py38",
   "language": "python",
   "name": "py38"
  },
  "language_info": {
   "codemirror_mode": {
    "name": "ipython",
    "version": 3
   },
   "file_extension": ".py",
   "mimetype": "text/x-python",
   "name": "python",
   "nbconvert_exporter": "python",
   "pygments_lexer": "ipython3",
   "version": "3.8.10"
  }
 },
 "nbformat": 4,
 "nbformat_minor": 2
}
