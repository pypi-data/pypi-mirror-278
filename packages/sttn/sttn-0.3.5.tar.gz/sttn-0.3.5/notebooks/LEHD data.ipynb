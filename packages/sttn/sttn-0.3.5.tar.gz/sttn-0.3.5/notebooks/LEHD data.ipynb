{
 "cells": [
  {
   "cell_type": "code",
   "execution_count": 1,
   "id": "c6e2672c",
   "metadata": {},
   "outputs": [],
   "source": [
    "cities = [\n",
    "    ('New York City', 'ny', ['New York County, NY', 'Queens County, NY','Kings County, NY','Bronx County, NY','Richmond County, NY']),\n",
    "#     ('Los Angeles', 'ca', ['Los Angeles County, CA']),\n",
    "#     ('Chicago', 'il', ['Cook County, IL']),\n",
    "#     ('Houston', 'tx', ['Harris County, TX']),\n",
    "#     ('Boston', 'ma', ['Suffolk County, MA', 'Middlesex County, MA']),\n",
    "#     ('Phoenix', 'az', ['Maricopa County, AZ']),\n",
    "#     ('Philadelphia', 'pa', ['Philadelphia County, PA']),\n",
    "#     ('San Antonio', 'tx', ['Bexar County, TX']),\n",
    "#     ('San Diego', 'ca', ['San Diego County, CA']),\n",
    "#     ('Dallas', 'tx', ['Dallas County, TX']),\n",
    "#     ('San Jose', 'ca', ['Santa Clara County, CA']),\n",
    "#     ('Austin', 'tx', ['Travis County, TX']),\n",
    "]"
   ]
  },
  {
   "cell_type": "code",
   "execution_count": 3,
   "id": "8f394c82",
   "metadata": {},
   "outputs": [
    {
     "name": "stdout",
     "output_type": "stream",
     "text": [
      "Processing New York City\n"
     ]
    }
   ],
   "source": [
    "from sttn.data.lehd import OriginDestinationEmploymentDataProvider\n",
    "provider = OriginDestinationEmploymentDataProvider()\n",
    "\n",
    "for city, state, conties in cities:\n",
    "    print('Processing {city}'.format(city=city))\n",
    "    state_network = provider.get_data(state=state, year=2018)\n",
    "    city_network = state_network.filter_nodes(state_network.nodes.county.isin(conties))\n",
    "    agg_city_network = city_network.agg_parallel_edges(column_aggs={'S000': 'sum'})"
   ]
  },
  {
   "cell_type": "code",
   "execution_count": 7,
   "id": "c806b34a",
   "metadata": {},
   "outputs": [],
   "source": [
    "multigraph = agg_city_network.to_multigraph()"
   ]
  },
  {
   "cell_type": "code",
   "execution_count": 14,
   "id": "1055dc9e",
   "metadata": {},
   "outputs": [
    {
     "data": {
      "text/plain": [
       "AtlasView({0: {'S000': 5}})"
      ]
     },
     "execution_count": 14,
     "metadata": {},
     "output_type": "execute_result"
    }
   ],
   "source": [
    "# the flow is stored in the edge attribute\n",
    "multigraph[36005000100][36047001800]"
   ]
  }
 ],
 "metadata": {
  "kernelspec": {
   "display_name": "Python 3 (ipykernel)",
   "language": "python",
   "name": "python3"
  },
  "language_info": {
   "codemirror_mode": {
    "name": "ipython",
    "version": 3
   },
   "file_extension": ".py",
   "mimetype": "text/x-python",
   "name": "python",
   "nbconvert_exporter": "python",
   "pygments_lexer": "ipython3",
   "version": "3.8.6"
  }
 },
 "nbformat": 4,
 "nbformat_minor": 5
}
