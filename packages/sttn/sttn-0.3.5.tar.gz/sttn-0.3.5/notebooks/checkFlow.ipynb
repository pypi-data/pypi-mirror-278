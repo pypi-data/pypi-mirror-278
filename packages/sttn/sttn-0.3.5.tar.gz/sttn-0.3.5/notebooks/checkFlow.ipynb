{
 "cells": [
  {
   "cell_type": "code",
   "execution_count": 8,
   "id": "b0d41b00",
   "metadata": {},
   "outputs": [],
   "source": [
    "import warnings\n",
    "warnings.filterwarnings('ignore')\n",
    "\n",
    "import pandas as pd\n",
    "import statsmodels.api as sm\n",
    "import numpy as np\n",
    "import geopandas as gpd\n",
    "from matplotlib import pyplot as plt\n",
    "import matplotlib.ticker\n",
    "from haversine import haversine_vector, Unit\n",
    "pd.options.mode.chained_assignment = None  # default='warn'\n",
    "from sttn.data.lehd import OriginDestinationEmploymentDataProvider\n",
    "from sklearn.metrics import mean_squared_error\n",
    "from sklearn.preprocessing import MinMaxScaler\n",
    "from sklearn.model_selection import train_test_split\n",
    "provider = OriginDestinationEmploymentDataProvider()\n",
    "from sklearn.model_selection import StratifiedKFold\n",
    "from sklearn.model_selection import KFold\n",
    "from sklearn.model_selection import train_test_split\n",
    "import scipy.optimize as optimize\n",
    "import seaborn as sns\n",
    "\n",
    "import math\n",
    "from sttn.network import SpatioTemporalNetwork\n",
    "from sttn.utils import add_distance\n",
    "import os\n",
    "%matplotlib inline"
   ]
  },
  {
   "cell_type": "code",
   "execution_count": 18,
   "id": "fc5ec499",
   "metadata": {},
   "outputs": [],
   "source": [
    "cities = [\n",
    "#     ('New York City',  [\n",
    "#         'Kings County, NY','Queens County, NY', 'New York County, NY','Bronx County, NY',\n",
    "# 'Richmond County, NY','Westchester County, NY','Bergen County, NJ','Hudson County, NJ',\n",
    "# 'Passaic County, NJ','Putnam County, NY',\n",
    "#         'Rockland County, NY','Suffolk County, NY',\n",
    "# 'Nassau County, NY','Middlesex County, NJ','Monmouth County, NJ','Ocean County, NJ',\n",
    "# 'Somerset County, NJ','Essex County, NJ','Union County, NJ','Morris County, NJ',\n",
    "# 'Sussex County, NJ','Hunterdon County, NJ','Pike County, PA'\n",
    "#     ]),\n",
    "    \n",
    "    ('Los Angeles', ['Los Angeles County, CA', 'Kern County, CA',\n",
    "                     'Orange County, CA',\n",
    "                     'San Bernardino County, CA', 'Ventura County, CA', 'San Luis Obispo County, CA'\n",
    "                    ]),\n",
    "#     ('Chicago', [\n",
    "#         'Cook County, IL','DeKalb County, IL','DuPage County, IL','Grundy County, IL',\n",
    "# 'Kankakee County, IL','Kane County, IL','Kendall County, IL','McHenry County, IL','Will County, IL',\n",
    "#         'Jasper County, IN','Lake County, IN','Newton County, IN',\n",
    "# 'Porter County, IN','Lake County, IL', 'Kenosha County, WI'\n",
    "#     ]),\n",
    "    ('Philadelphia', ['Philadelphia County, PA','Delaware County, PA', 'Bucks County, PA',\n",
    "                     'Montgomery County, PA', 'Camden County, NJ','Burlington County, NJ', 'Gloucester County, NJ'])\n",
    "\n",
    "    \n",
    "#     ('Dallas',  ['Collin County, TX','Dallas County, TX','Denton County, TX','Ellis County, TX',\n",
    "#                     'Hunt County, TX','Kaufman County, TX','Rockwall County, TX',\n",
    "#                  'Johnson County, TX',\n",
    "#                  'Parker County, TX','Tarrant County, TX','Wise County, TX'\n",
    "#                 ]),\n",
    "#     ('Atlanta', ['Barrow County, GA','Bartow County, GA', 'Butts County, GA','Carroll County, GA',\n",
    "#                 'Cherokee County, GA', 'Clayton County, GA', 'Cobb County, GA', 'Coweta County, GA',\n",
    "#                 'Dawson County, GA', 'DeKalb County, GA', 'Douglas County, GA', 'Fayette County, GA',\n",
    "#                  'Forsyth County, GA', 'Fulton County, GA','Gwinnett County, GA', 'Haralson County, GA',\n",
    "#                 'Heard County, GA', 'Henry County, GA', 'Jasper County, GA', 'Lamar County, GA',\n",
    "#                  'Meriwether County, GA', 'Morgan County, GA', 'Newton County, GA', 'Paulding County, GA',\n",
    "#                 'Pickens County, GA', 'Pike County, GA', 'Rockdale County, GA', 'Spalding County, GA', \n",
    "#                  'Walton County, GA']),\n",
    "#     ('DC', ['Frederick County, MD','Montgomery County, MD', 'Washington, DC','Calvert County, MD',\n",
    "#             'Charles County, MD', \"Prince George's County, MD\",' Arlington County, VA', 'Clarke County, VA',\n",
    "#             'Culpeper County, VA', 'Fairfax County, VA', 'Fauquier County, VA', 'Loudoun County, VA',\n",
    "#             'Prince William County, VA', 'Woodbridge, VA', 'Rappahannock County, VA', 'Spotsylvania County, VA',\n",
    "#             'Stafford County, VA', 'Warren County, VA', 'Alexandria County, VA', 'Fairfax County, VA', \n",
    "#              'Falls Church County, VA', 'Fredericksburg County, VA', 'Manassas County, VA', \n",
    "#              'Manassas Park County, VA', 'Jefferson County, WV']),\n",
    "#     ('San Francisco', ['Alameda County, CA', 'Contra Costa County, CA', 'Marin County, CA', \n",
    "#                        'San Francisco County, CA', 'San Mateo County, CA'])\n",
    "]"
   ]
  },
  {
   "cell_type": "code",
   "execution_count": 19,
   "id": "e2017dee",
   "metadata": {},
   "outputs": [],
   "source": [
    "def rwacbystate(state):\n",
    "    if os.path.exists('racwac/%s.csv'%state):\n",
    "        pass\n",
    "    else:\n",
    "        rac = pd.read_csv('https://lehd.ces.census.gov/data/lodes/LODES7/%s/rac/%s_rac_S000_JT00_2019.csv.gz'%(state,state),\n",
    "                        compression='gzip')\n",
    "        rac = rac[['h_geocode','C000','CE01','CE03']]\n",
    "        rac = rac.rename(columns={'h_geocode':'ct','C000':'S000residence',\n",
    "                                  'CE01':'SE01residence','CE03':'SE03residence'})\n",
    "        wac = pd.read_csv('https://lehd.ces.census.gov/data/lodes/LODES7/%s/wac/%s_wac_S000_JT00_2019.csv.gz'%(state,state),\n",
    "                        compression='gzip')\n",
    "        wac = wac[['w_geocode','C000','CE01','CE03']]\n",
    "        wac = wac.rename(columns={'w_geocode':'ct','C000':'S000jobs',\n",
    "                                  'CE01':'SE01jobs','CE03':'SE03jobs'})\n",
    "        df = rac.merge(wac,on='ct',how='outer').fillna(0)\n",
    "        df.to_csv('racwac/%s.csv'%state,index=False)\n",
    "        print(state,'rac, wac downloaded')"
   ]
  },
  {
   "cell_type": "code",
   "execution_count": 20,
   "id": "5efe9380",
   "metadata": {},
   "outputs": [],
   "source": [
    "def xwalkbystate(state):\n",
    "    if os.path.exists('xwalk/%s.csv'%state):\n",
    "        pass\n",
    "    else:\n",
    "        xwalk = pd.read_csv('https://lehd.ces.census.gov/data/lodes/LODES7/%s/%s_xwalk.csv.gz'%(state,state),\n",
    "                        compression='gzip')\n",
    "        \n",
    "#         xwalk = xwalk[['tabblk2010','ctyname','blklatdd','blklondd']]\n",
    "        xwalk = xwalk.rename(columns={'tabblk2010':'ct'})\n",
    "        xwalk['ctyname'] = xwalk['ctyname'].apply(lambda x: x.split(',')[0])\n",
    "        xwalk.to_csv('xwalk/%s.csv'%state,index=False)\n",
    "        print(state,'xwalk downloaded')"
   ]
  },
  {
   "cell_type": "code",
   "execution_count": 21,
   "id": "de193eeb",
   "metadata": {},
   "outputs": [],
   "source": [
    "def odbystate(state):\n",
    "    if os.path.exists('od/%s.csv'%state):\n",
    "        pass\n",
    "    else:\n",
    "        odaux = pd.read_csv('https://lehd.ces.census.gov/data/lodes/LODES7/%s/od/%s_od_aux_JT00_2019.csv.gz'%(state,state),\n",
    "                        compression='gzip')\n",
    "        odmain = pd.read_csv('https://lehd.ces.census.gov/data/lodes/LODES7/%s/od/%s_od_main_JT00_2019.csv.gz'%(state,state),\n",
    "                        compression='gzip')\n",
    "        od = pd.concat([odaux,odmain])\n",
    "        od = od[['w_geocode', 'h_geocode','S000','SE01','SE02', 'SE03']]\n",
    "        od = od.rename(columns={'w_geocode':'origin','h_geocode':'destination'})\n",
    "        od.to_csv('od/%s.csv'%state,index=False)\n",
    "        "
   ]
  },
  {
   "cell_type": "code",
   "execution_count": 22,
   "id": "3d8825f0",
   "metadata": {},
   "outputs": [
    {
     "data": {
      "text/plain": [
       "'San Luis Obispo County, CA'"
      ]
     },
     "execution_count": 22,
     "metadata": {},
     "output_type": "execute_result"
    }
   ],
   "source": [
    "county"
   ]
  },
  {
   "cell_type": "code",
   "execution_count": 23,
   "id": "5df21382",
   "metadata": {},
   "outputs": [
    {
     "ename": "NameError",
     "evalue": "name 'ctynamename' is not defined",
     "output_type": "error",
     "traceback": [
      "\u001b[0;31m---------------------------------------------------------------------------\u001b[0m",
      "\u001b[0;31mNameError\u001b[0m                                 Traceback (most recent call last)",
      "\u001b[0;32m<ipython-input-23-6d6ec2e165aa>\u001b[0m in \u001b[0;36m<module>\u001b[0;34m\u001b[0m\n\u001b[1;32m      1\u001b[0m \u001b[0mctyname\u001b[0m \u001b[0;34m=\u001b[0m \u001b[0mcounty\u001b[0m\u001b[0;34m.\u001b[0m\u001b[0msplit\u001b[0m\u001b[0;34m(\u001b[0m\u001b[0;34m','\u001b[0m\u001b[0;34m)\u001b[0m\u001b[0;34m[\u001b[0m\u001b[0;36m0\u001b[0m\u001b[0;34m]\u001b[0m\u001b[0;34m\u001b[0m\u001b[0;34m\u001b[0m\u001b[0m\n\u001b[0;32m----> 2\u001b[0;31m \u001b[0mctynamename\u001b[0m\u001b[0;34m\u001b[0m\u001b[0;34m\u001b[0m\u001b[0m\n\u001b[0m",
      "\u001b[0;31mNameError\u001b[0m: name 'ctynamename' is not defined"
     ]
    }
   ],
   "source": [
    "ctyname = county.split(',')[0]\n",
    "ctynamename"
   ]
  },
  {
   "cell_type": "code",
   "execution_count": 24,
   "id": "18b31189",
   "metadata": {},
   "outputs": [
    {
     "data": {
      "text/plain": [
       "'ca'"
      ]
     },
     "execution_count": 24,
     "metadata": {},
     "output_type": "execute_result"
    }
   ],
   "source": [
    "state = county.split(',')[1].strip().lower()\n",
    "state"
   ]
  },
  {
   "cell_type": "code",
   "execution_count": 26,
   "id": "8b011cc7",
   "metadata": {},
   "outputs": [
    {
     "name": "stdout",
     "output_type": "stream",
     "text": [
      "Los Angeles\n",
      "ca\n",
      "(6468909, 6)\n",
      "(6468909, 12)\n",
      "(6468909, 16)\n",
      "Philadelphia\n",
      "pa\n",
      "nj\n",
      "(1722344, 6)\n",
      "(1722344, 12)\n",
      "(1722344, 16)\n"
     ]
    }
   ],
   "source": [
    "target_columns = ['S000','SE01','SE03']\n",
    "for city, counties in cities:\n",
    "    print(city)\n",
    "    odConcat = pd.DataFrame()\n",
    "    wacracConcat = pd.DataFrame()\n",
    "    xwalkConcat = pd.DataFrame()\n",
    "    ctlst = []\n",
    "    stateDict = {}\n",
    "    \n",
    "    # process county,state to a dict\n",
    "    for county in counties:\n",
    "        ctyname = county.split(',')[0]\n",
    "        state = county.split(',')[1].strip().lower()\n",
    "        stateDict[state] = stateDict.get(state,[]) + [ctyname]\n",
    "    # read rac, wac, xwalk by state\n",
    "    for state in stateDict.keys():\n",
    "        print(state)\n",
    "        rwacbystate(state)\n",
    "        xwalkbystate(state)\n",
    "        odbystate(state)\n",
    "        statexwalk = pd.read_csv('xwalk/%s.csv'%state)\n",
    "        statexwalk = statexwalk.loc[statexwalk['ctyname'].isin(stateDict[state])]\n",
    "        ctlst += statexwalk['ct'].values.tolist()\n",
    "        xwalkConcat = pd.concat([xwalkConcat,statexwalk],axis=0)\n",
    "        \n",
    "        \n",
    "        od = pd.read_csv('od/%s.csv'%state)\n",
    "        od.columns = ['origin', 'destination', 'S000flow', 'SE01flow', 'SE02flow', 'SE03flow']        \n",
    "        odConcat = pd.concat([odConcat,od],axis=0)\n",
    "        \n",
    "#         wacrac = pd.read_csv('racwac/%s.csv'%state)\n",
    "#         wacracConcat = pd.concat([wacracConcat,wacrac],axis=0)\n",
    "        rac = odConcat.groupby(['origin']).agg({'S000flow':sum,'SE01flow':sum,'SE03flow':sum}).reset_index()\n",
    "        rac.columns = ['ct','S000residence','SE01residence','SE03residence']\n",
    "        wac = odConcat.groupby(['destination']).agg({'S000flow':sum,'SE01flow':sum,'SE03flow':sum}).reset_index()\n",
    "        wac.columns = ['ct','S000jobs','SE01jobs','SE03jobs']\n",
    "        wacracConcat = rac.merge(wac,on='ct',how='outer').fillna(0)\n",
    "        \n",
    "    odConcat = odConcat.loc[odConcat['origin'].isin(ctlst)]\n",
    "    odConcat = odConcat.loc[odConcat['destination'].isin(ctlst)]\n",
    "    print(odConcat.shape)\n",
    "    # add rac, wac\n",
    "    odConcat = odConcat.merge(wacracConcat[['ct','S000residence','SE01residence',\n",
    "                                           'SE03residence']],left_on='origin',right_on='ct')\n",
    "    del odConcat['ct']\n",
    "    odConcat = odConcat.merge(wacracConcat[['ct','S000jobs','SE01jobs',\n",
    "                                           'SE03jobs']],left_on='destination',right_on='ct')\n",
    "    del odConcat['ct']\n",
    "    print(odConcat.shape)\n",
    "    \n",
    "    # add lat, lon\n",
    "    odConcat = odConcat.merge(xwalkConcat[['ct','blklatdd','blklondd']],left_on='origin',right_on='ct')\n",
    "    odConcat = odConcat.rename(columns={'blklatdd':'olat','blklondd':'olng'})\n",
    "    del odConcat['ct']\n",
    "    odConcat = odConcat.merge(xwalkConcat[['ct','blklatdd','blklondd']],left_on='destination',right_on='ct')\n",
    "    odConcat = odConcat.rename(columns={'blklatdd':'dlat','blklondd':'dlng'})\n",
    "    del odConcat['ct']\n",
    "    print(odConcat.shape)\n",
    "    \n",
    "    # calculate distance\n",
    "    from_points = list(zip(odConcat.olat, odConcat.olng))\n",
    "    to_points = list(zip(odConcat.dlat, odConcat.dlng))\n",
    "    odConcat['distance'] = haversine_vector(from_points, to_points, Unit.KILOMETERS)\n",
    "    \n",
    "    # replace 0 distance by the shortest distance\n",
    "    \n",
    "#     odConcat.drop(['olat', 'olng', 'dlat', 'dlng'], axis=1, inplace=True)\n",
    "    odConcat_above = odConcat.loc[odConcat.distance > 0]\n",
    "    odConcat_below = odConcat.loc[odConcat.distance == 0]\n",
    "    del odConcat_below['distance']\n",
    "    misDistance = odConcat_above.groupby(['origin']).agg({'distance':min})\n",
    "    misDistance['distance'] = misDistance['distance']\n",
    "    odConcat_below = odConcat_below.merge(misDistance,on=['origin'])\n",
    "    odConcat = pd.concat([odConcat_above,odConcat_below],axis=0)\n",
    "    \n",
    "    odConcat.to_csv('processedOD/%s.csv'%city)"
   ]
  },
  {
   "cell_type": "code",
   "execution_count": null,
   "id": "4f1167f2",
   "metadata": {},
   "outputs": [],
   "source": []
  }
 ],
 "metadata": {
  "kernelspec": {
   "display_name": "geo37",
   "language": "python",
   "name": "geo37"
  },
  "language_info": {
   "codemirror_mode": {
    "name": "ipython",
    "version": 3
   },
   "file_extension": ".py",
   "mimetype": "text/x-python",
   "name": "python",
   "nbconvert_exporter": "python",
   "pygments_lexer": "ipython3",
   "version": "3.7.11"
  }
 },
 "nbformat": 4,
 "nbformat_minor": 5
}
