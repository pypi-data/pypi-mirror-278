{
 "cells": [
  {
   "cell_type": "markdown",
   "source": [
    "# SciQLop - Simple Virtual product example"
   ],
   "metadata": {
    "collapsed": false
   },
   "id": "6f3290fecf474c92"
  },
  {
   "cell_type": "code",
   "outputs": [],
   "source": [
    "from SciQLop.backend import TimeRange\n",
    "from datetime import datetime, timedelta\n",
    "import numpy as np\n",
    "from SciQLop.backend.pipelines_model.easy_provider import  EasyScalar\n"
   ],
   "metadata": {},
   "id": "f937d3c3-dc2e-4f3e-be56-383c6db70086",
   "execution_count": 0
  },
  {
   "cell_type": "markdown",
   "source": [
    "## 1. Generator function\n",
    "To create a simple virtual product, we need to create a function that returns the data, the time axis and take as input the start and stop time of the requested data.\n"
   ],
   "metadata": {
    "collapsed": false
   },
   "id": "98d282f227bd6578"
  },
  {
   "cell_type": "code",
   "outputs": [],
   "source": [
    "def my_product_gen(start: datetime, stop: datetime) -> (np.ndarray, np.ndarray):\n",
    "    x = np.arange(round(start.timestamp()/5)*5, round(stop.timestamp()/5)*5, 5, dtype=np.float64)\n",
    "    return x, np.cos(x/100)\n",
    "    "
   ],
   "metadata": {
    "collapsed": false
   },
   "id": "86f7f07b6c78dec5"
  },
  {
   "cell_type": "markdown",
   "source": [
    "## 2. Register the function as a virtual product\n",
    "Now that we have the function, we can create the virtual product using the EasyScalar class. "
   ],
   "metadata": {
    "collapsed": false
   },
   "id": "cea029a7caca6ad2"
  },
  {
   "cell_type": "code",
   "outputs": [],
   "source": [
    "my_product = EasyScalar(\n",
    "    path = \"examples/my_product\",\n",
    "    get_data_callback=my_product_gen,\n",
    "    component_name=\"my_product\",\n",
    "    metadata={},\n",
    "    cacheable=True\n",
    ")"
   ],
   "metadata": {
    "collapsed": false
   },
   "id": "8ca92a084d1cdf73"
  },
  {
   "cell_type": "markdown",
   "source": [
    "## 3. Plot the product\n",
    "Once the product is created, we can plot it using the plot method of the plot panel or graphically by dragging and dropping the product on any plot panel."
   ],
   "metadata": {
    "collapsed": false
   },
   "id": "49d948e6595f423a"
  },
  {
   "cell_type": "code",
   "outputs": [],
   "source": [
    "p = main_window.new_plot_panel()\n",
    "p.time_range = TimeRange(datetime.now().timestamp(), (datetime.now()+timedelta(seconds=100)).timestamp())\n",
    "\n",
    "p.plot(\n",
    "    my_product.path\n",
    ")"
   ],
   "metadata": {
    "collapsed": false
   },
   "id": "b344ce68a63298c7"
  }
 ],
 "metadata": {
  "kernelspec": {
   "display_name": "Python 3 (ipykernel)",
   "language": "python",
   "name": "python3"
  },
  "language_info": {
   "codemirror_mode": {
    "name": "ipython",
    "version": 3
   },
   "file_extension": ".py",
   "mimetype": "text/x-python",
   "name": "python",
   "nbconvert_exporter": "python",
   "pygments_lexer": "ipython3",
   "version": "3.10.13"
  },
  "widgets": {
   "application/vnd.jupyter.widget-state+json": {
    "state": {},
    "version_major": 2,
    "version_minor": 0
   }
  }
 },
 "nbformat": 4,
 "nbformat_minor": 5
}
