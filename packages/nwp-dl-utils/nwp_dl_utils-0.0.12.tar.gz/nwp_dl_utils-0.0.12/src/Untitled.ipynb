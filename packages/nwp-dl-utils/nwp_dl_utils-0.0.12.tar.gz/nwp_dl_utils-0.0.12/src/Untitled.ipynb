{
 "cells": [
  {
   "cell_type": "code",
   "execution_count": 6,
   "id": "ba6e1b7b",
   "metadata": {},
   "outputs": [],
   "source": [
    "import logging\n",
    "import datetime"
   ]
  },
  {
   "cell_type": "code",
   "execution_count": 17,
   "id": "e2c63283",
   "metadata": {},
   "outputs": [],
   "source": [
    "logging.basicConfig(\n",
    "    level=logging.INFO,\n",
    "    format=f\"%(asctime)s - %(levelname)s - %(name)s - %(threadName)s - %(message)s\",\n",
    ")\n",
    "logging.Formatter.formatTime = (\n",
    "    lambda self, record, datefmt=None: datetime.datetime.fromtimestamp(\n",
    "        record.created, datetime.timezone.utc\n",
    "    )\n",
    "    .astimezone()\n",
    "    .isoformat(sep=\" \", timespec=\"seconds\")\n",
    ")\n",
    "logger = logging.getLogger()\n",
    "\n",
    "logging.getLogger().setLevel(logging.DEBUG)"
   ]
  },
  {
   "cell_type": "code",
   "execution_count": 8,
   "id": "9a631bc7",
   "metadata": {},
   "outputs": [],
   "source": [
    "import pandas as pd\n",
    "import numpy as np"
   ]
  },
  {
   "cell_type": "code",
   "execution_count": 9,
   "id": "a9023abe",
   "metadata": {},
   "outputs": [],
   "source": [
    "ts = [pd.to_datetime('2017-12-21T00:00:00Z'), pd.to_datetime('2017-12-23T00:00:00Z')]\n",
    "lats = [58.8806,58.12]\n",
    "lons = [10.2103,10.01]"
   ]
  },
  {
   "cell_type": "code",
   "execution_count": 15,
   "id": "1be536ec",
   "metadata": {},
   "outputs": [],
   "source": [
    "import importlib"
   ]
  },
  {
   "cell_type": "code",
   "execution_count": 20,
   "id": "c2b73c81",
   "metadata": {},
   "outputs": [
    {
     "data": {
      "text/plain": [
       "<module 'nwp_dl_utils.metno.mywavewam' from '/Users/volkerh/src/nwp-dl-utils/src/nwp_dl_utils/metno/mywavewam.py'>"
      ]
     },
     "execution_count": 20,
     "metadata": {},
     "output_type": "execute_result"
    }
   ],
   "source": [
    "# import nwp_dl_utils.metno.mywavewam\n",
    "importlib.reload(nwp_dl_utils.metno.mywavewam)"
   ]
  },
  {
   "cell_type": "code",
   "execution_count": 22,
   "id": "20d436fe",
   "metadata": {},
   "outputs": [
    {
     "name": "stderr",
     "output_type": "stream",
     "text": [
      "2023-03-06 11:13:13+01:00 - DEBUG - root - MainThread - Constructing URL\n",
      "2023-03-06 11:13:13+01:00 - INFO - root - MainThread - Opening Dataset at https://thredds.met.no/thredds/dodsC/fou-hi/mywavewam800s_be\n",
      "2023-03-06 11:16:46+01:00 - DEBUG - root - MainThread - Getting Spatial Indices\n",
      "2023-03-06 11:16:47+01:00 - DEBUG - root - MainThread - Getting Temporal Indices\n",
      "2023-03-06 11:16:47+01:00 - INFO - root - MainThread - Timeslice 1/2 (2017-12-21 00:00:00+00:00))\n",
      "2023-03-06 11:16:47+01:00 - DEBUG - root - MainThread - Variable wind_speed\n",
      "2023-03-06 11:16:47+01:00 - DEBUG - root - MainThread - Variable wind_to_direction\n",
      "2023-03-06 11:16:47+01:00 - DEBUG - root - MainThread - Variable sea_surface_wave_significant_height\n",
      "2023-03-06 11:16:47+01:00 - DEBUG - root - MainThread - Variable sea_surface_wave_to_direction\n",
      "2023-03-06 11:16:47+01:00 - DEBUG - root - MainThread - Variable sea_surface_wave_peak_period_from_variance_spectral_density\n",
      "2023-03-06 11:16:47+01:00 - INFO - root - MainThread - Timeslice 2/2 (2017-12-23 00:00:00+00:00))\n",
      "2023-03-06 11:16:47+01:00 - DEBUG - root - MainThread - Variable wind_speed\n",
      "2023-03-06 11:16:47+01:00 - DEBUG - root - MainThread - Variable wind_to_direction\n",
      "2023-03-06 11:16:47+01:00 - DEBUG - root - MainThread - Variable sea_surface_wave_significant_height\n",
      "2023-03-06 11:16:47+01:00 - DEBUG - root - MainThread - Variable sea_surface_wave_to_direction\n",
      "2023-03-06 11:16:47+01:00 - DEBUG - root - MainThread - Variable sea_surface_wave_peak_period_from_variance_spectral_density\n"
     ]
    }
   ],
   "source": [
    "data = nwp_dl_utils.metno.mywavewam.load_to_sequence(ts, lats, lons)"
   ]
  },
  {
   "cell_type": "code",
   "execution_count": 23,
   "id": "f8ab42ae",
   "metadata": {},
   "outputs": [
    {
     "data": {
      "text/plain": [
       "{'wind_speed': [4.611094951629639, 14.10683536529541],\n",
       " 'wind_to_direction': [125.25358581542969, 61.2672004699707],\n",
       " 'sea_surface_wave_significant_height': [0.6463204622268677,\n",
       "  2.772052526473999],\n",
       " 'sea_surface_wave_to_direction': [39.521060943603516, 56.39546203613281],\n",
       " 'sea_surface_wave_peak_period_from_variance_spectral_density': [5.209823131561279,\n",
       "  6.934274196624756]}"
      ]
     },
     "execution_count": 23,
     "metadata": {},
     "output_type": "execute_result"
    }
   ],
   "source": [
    "data"
   ]
  },
  {
   "cell_type": "code",
   "execution_count": 28,
   "id": "9972e945",
   "metadata": {},
   "outputs": [
    {
     "ename": "AssertionError",
     "evalue": "\nArrays are not almost equal to 7 decimals\n\nMismatched elements: 1 / 2 (50%)\nMax absolute difference: 2.10683537\nMax relative difference: 0.17556961\n x: array([ 4.611095 , 14.1068354])\n y: array([ 4.611095, 12.      ])",
     "output_type": "error",
     "traceback": [
      "\u001b[0;31m---------------------------------------------------------------------------\u001b[0m",
      "\u001b[0;31mAssertionError\u001b[0m                            Traceback (most recent call last)",
      "Cell \u001b[0;32mIn[28], line 2\u001b[0m\n\u001b[1;32m      1\u001b[0m \u001b[38;5;66;03m# np.testing.assert_almost_equal(data['wind_speed'], np.array([4.611094951629639, 14.10683536529541]))\u001b[39;00m\n\u001b[0;32m----> 2\u001b[0m \u001b[43mnp\u001b[49m\u001b[38;5;241;43m.\u001b[39;49m\u001b[43mtesting\u001b[49m\u001b[38;5;241;43m.\u001b[39;49m\u001b[43massert_almost_equal\u001b[49m\u001b[43m(\u001b[49m\u001b[43mdata\u001b[49m\u001b[43m[\u001b[49m\u001b[38;5;124;43m'\u001b[39;49m\u001b[38;5;124;43mwind_speed\u001b[39;49m\u001b[38;5;124;43m'\u001b[39;49m\u001b[43m]\u001b[49m\u001b[43m,\u001b[49m\u001b[43m \u001b[49m\u001b[43mnp\u001b[49m\u001b[38;5;241;43m.\u001b[39;49m\u001b[43marray\u001b[49m\u001b[43m(\u001b[49m\u001b[43m[\u001b[49m\u001b[38;5;241;43m4.611094951629639\u001b[39;49m\u001b[43m,\u001b[49m\u001b[43m \u001b[49m\u001b[38;5;241;43m12.0\u001b[39;49m\u001b[43m]\u001b[49m\u001b[43m)\u001b[49m\u001b[43m)\u001b[49m\n",
      "    \u001b[0;31m[... skipping hidden 2 frame]\u001b[0m\n",
      "File \u001b[0;32m~/miniconda3/envs/nwpdl-dev/lib/python3.9/site-packages/numpy/testing/_private/utils.py:844\u001b[0m, in \u001b[0;36massert_array_compare\u001b[0;34m(comparison, x, y, err_msg, verbose, header, precision, equal_nan, equal_inf)\u001b[0m\n\u001b[1;32m    840\u001b[0m         err_msg \u001b[38;5;241m+\u001b[39m\u001b[38;5;241m=\u001b[39m \u001b[38;5;124m'\u001b[39m\u001b[38;5;130;01m\\n\u001b[39;00m\u001b[38;5;124m'\u001b[39m \u001b[38;5;241m+\u001b[39m \u001b[38;5;124m'\u001b[39m\u001b[38;5;130;01m\\n\u001b[39;00m\u001b[38;5;124m'\u001b[39m\u001b[38;5;241m.\u001b[39mjoin(remarks)\n\u001b[1;32m    841\u001b[0m         msg \u001b[38;5;241m=\u001b[39m build_err_msg([ox, oy], err_msg,\n\u001b[1;32m    842\u001b[0m                             verbose\u001b[38;5;241m=\u001b[39mverbose, header\u001b[38;5;241m=\u001b[39mheader,\n\u001b[1;32m    843\u001b[0m                             names\u001b[38;5;241m=\u001b[39m(\u001b[38;5;124m'\u001b[39m\u001b[38;5;124mx\u001b[39m\u001b[38;5;124m'\u001b[39m, \u001b[38;5;124m'\u001b[39m\u001b[38;5;124my\u001b[39m\u001b[38;5;124m'\u001b[39m), precision\u001b[38;5;241m=\u001b[39mprecision)\n\u001b[0;32m--> 844\u001b[0m         \u001b[38;5;28;01mraise\u001b[39;00m \u001b[38;5;167;01mAssertionError\u001b[39;00m(msg)\n\u001b[1;32m    845\u001b[0m \u001b[38;5;28;01mexcept\u001b[39;00m \u001b[38;5;167;01mValueError\u001b[39;00m:\n\u001b[1;32m    846\u001b[0m     \u001b[38;5;28;01mimport\u001b[39;00m \u001b[38;5;21;01mtraceback\u001b[39;00m\n",
      "\u001b[0;31mAssertionError\u001b[0m: \nArrays are not almost equal to 7 decimals\n\nMismatched elements: 1 / 2 (50%)\nMax absolute difference: 2.10683537\nMax relative difference: 0.17556961\n x: array([ 4.611095 , 14.1068354])\n y: array([ 4.611095, 12.      ])"
     ]
    }
   ],
   "source": [
    "# np.testing.assert_almost_equal(data['wind_speed'], np.array([4.611094951629639, 14.10683536529541]))\n",
    "np.testing.assert_almost_equal(data['wind_speed'], np.array([4.611094951629639, 12.0]))"
   ]
  },
  {
   "cell_type": "code",
   "execution_count": null,
   "id": "33cbda57",
   "metadata": {},
   "outputs": [],
   "source": []
  }
 ],
 "metadata": {
  "kernelspec": {
   "display_name": "Python 3 (ipykernel)",
   "language": "python",
   "name": "python3"
  },
  "language_info": {
   "codemirror_mode": {
    "name": "ipython",
    "version": 3
   },
   "file_extension": ".py",
   "mimetype": "text/x-python",
   "name": "python",
   "nbconvert_exporter": "python",
   "pygments_lexer": "ipython3",
   "version": "3.9.15"
  }
 },
 "nbformat": 4,
 "nbformat_minor": 5
}
