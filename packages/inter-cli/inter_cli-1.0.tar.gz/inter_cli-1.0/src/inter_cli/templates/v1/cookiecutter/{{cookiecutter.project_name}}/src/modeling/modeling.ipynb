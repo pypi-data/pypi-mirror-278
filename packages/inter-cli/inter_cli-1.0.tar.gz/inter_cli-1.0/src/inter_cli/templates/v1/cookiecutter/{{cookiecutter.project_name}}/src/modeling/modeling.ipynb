{
 "cells": [
  {
   "cell_type": "markdown",
   "metadata": {},
   "source": [
    "# Notebook para modelagem"
   ]
  },
  {
   "cell_type": "code",
   "execution_count": null,
   "metadata": {},
   "outputs": [],
   "source": []
  }
 ],
 "metadata": {
  "language_info": {
   "name": "python"
  }
 },
 "nbformat": 4,
 "nbformat_minor": 2
}
