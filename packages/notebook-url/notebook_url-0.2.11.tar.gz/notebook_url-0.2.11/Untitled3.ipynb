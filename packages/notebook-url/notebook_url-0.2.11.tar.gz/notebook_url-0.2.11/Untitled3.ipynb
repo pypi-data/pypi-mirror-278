{
 "cells": [
  {
   "cell_type": "code",
   "execution_count": null,
   "id": "b5da221b-9e38-4f7c-8852-6a940fa201ad",
   "metadata": {},
   "outputs": [],
   "source": []
  }
 ],
 "metadata": {
  "kernelspec": {
   "display_name": "Python 3 (ipykernel)",
   "language": "python",
   "name": "python3"
  },
  "language_info": {
   "codemirror_mode": {
    "name": "ipython",
    "version": 3
   },
   "file_extension": ".py",
   "mimetype": "text/x-python",
   "name": "python",
   "nbconvert_exporter": "python",
   "pygments_lexer": "ipython3",
   "version": "3.11.0"
  }
 },
 "nbformat": 4,
 "nbformat_minor": 5
}
