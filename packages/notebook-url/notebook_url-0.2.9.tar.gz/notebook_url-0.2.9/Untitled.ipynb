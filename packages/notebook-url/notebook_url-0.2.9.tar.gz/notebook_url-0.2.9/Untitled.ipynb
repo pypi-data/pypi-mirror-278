{
 "cells": [
  {
   "cell_type": "code",
   "execution_count": 1,
   "id": "389a1b70-fa66-4ad1-91d1-c9aa78e8bf77",
   "metadata": {},
   "outputs": [],
   "source": [
    "var = 5\n"
   ]
  },
  {
   "cell_type": "code",
   "execution_count": 2,
   "id": "b1e72ef9-a5aa-4b5b-a899-c6a05a1fa5ab",
   "metadata": {},
   "outputs": [
    {
     "data": {
      "text/plain": [
       "-1"
      ]
     },
     "execution_count": 2,
     "metadata": {},
     "output_type": "execute_result"
    }
   ],
   "source": [
    "var -6"
   ]
  },
  {
   "cell_type": "code",
   "execution_count": null,
   "id": "c440ec11-4fec-4c1e-8726-f18f8048cb69",
   "metadata": {},
   "outputs": [],
   "source": []
  }
 ],
 "metadata": {
  "kernelspec": {
   "display_name": "Python 3 (ipykernel)",
   "language": "python",
   "name": "python3"
  },
  "language_info": {
   "codemirror_mode": {
    "name": "ipython",
    "version": 3
   },
   "file_extension": ".py",
   "mimetype": "text/x-python",
   "name": "python",
   "nbconvert_exporter": "python",
   "pygments_lexer": "ipython3",
   "version": "3.11.0"
  }
 },
 "nbformat": 4,
 "nbformat_minor": 5
}
