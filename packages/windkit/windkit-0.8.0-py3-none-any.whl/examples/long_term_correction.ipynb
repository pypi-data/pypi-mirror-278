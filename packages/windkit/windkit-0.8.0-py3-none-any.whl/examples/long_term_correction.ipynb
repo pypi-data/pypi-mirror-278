{
  "cells": [
    {
      "cell_type": "markdown",
      "id": "a74d5101-eaac-4ed4-9a7f-38316933e253",
      "metadata": {},
      "source": [
        "# Windkit long term correction module `windkit.ltc`\n",
        "This module allows to perform long-term corrections of measured wind data. There are currently\n",
        "two regression methods implemented, the `LinearRegression` method and the `VarianceRatio` method.\n",
        "We will perform the long term correction of a mast measurement in Sujawal, Pakistan (lat=24.515563, lon=68.18865).\n",
        "The mast has wind speed and wind direction measurements at different heights. We will use the wind speeds at 80 meters\n",
        "and the wind directions a 78.5 meters and use ERA5 data as long term reference.\n"
      ]
    },
    {
      "cell_type": "code",
      "execution_count": null,
      "id": "a90b86de-982b-4863-b940-7ac921247a1e",
      "metadata": {},
      "outputs": [],
      "source": [
        "import windkit as wk\n",
        "import pandas as pd\n",
        "import xarray as xr\n",
        "import matplotlib.pyplot as plt\n",
        "import numpy as np"
      ]
    },
    {
      "cell_type": "markdown",
      "id": "8672d9d1-6594-4928-b70d-e37a0e368b5d",
      "metadata": {},
      "source": [
        "## Get mast data\n",
        "For this example we will use data from https://energydata.info/\n",
        "### Download data\n",
        "We will provide the exact URL for download"
      ]
    },
    {
      "cell_type": "code",
      "execution_count": null,
      "id": "d08052e1-fb89-443d-aa06-9adfd91ac20e",
      "metadata": {},
      "outputs": [],
      "source": [
        "!wget https://energydata.info/dataset/520eb754-84de-45fb-8d2c-7b2eaa2f7b6e/resource/c0efce06-686e-47ca-a673-0a85ab6fd145/download/wind-measurements_pakistan_sujawal_wb-esmap_qc.csv"
      ]
    },
    {
      "cell_type": "markdown",
      "id": "cd1e0b06-bf62-4f73-a945-eb876c392341",
      "metadata": {},
      "source": [
        "### Explore the data with pandas\n",
        "We can explore the csv file and its columns with `pandas`, particularly we want to see the available column names."
      ]
    },
    {
      "cell_type": "code",
      "execution_count": null,
      "id": "0160bd4e-3b24-4a1e-bf6f-abaf74651242",
      "metadata": {},
      "outputs": [],
      "source": [
        "mast_csv_filename=\"wind-measurements_pakistan_sujawal_wb-esmap_qc.csv\""
      ]
    },
    {
      "cell_type": "code",
      "execution_count": null,
      "id": "694ecce8-f420-46e3-8fe0-ea5b415dba24",
      "metadata": {},
      "outputs": [],
      "source": [
        "df_mast=pd.read_csv(mast_csv_filename)\n",
        "df_mast"
      ]
    },
    {
      "cell_type": "code",
      "execution_count": null,
      "id": "2d499384-5b2d-4f4d-9eb0-fec9aeda23a7",
      "metadata": {},
      "outputs": [],
      "source": [
        "df_mast.columns"
      ]
    },
    {
      "cell_type": "markdown",
      "id": "e5e84ad9-2289-4e32-ab88-d811bc99b614",
      "metadata": {},
      "source": [
        "### Read file with Windkit\n",
        "The function `wk.read_timeseries_from_csv` read wind data stored in a tabular format and returns a\n",
        "`windkit` time series wind climate `xarray.Dataset`. We need to indicate which columns corresponds\n",
        "to wind speed and direction for a specific height so the function can parse the file properly.\n",
        "The function allows to read several heights for one point, but for now we only need one."
      ]
    },
    {
      "cell_type": "code",
      "execution_count": null,
      "id": "6d4af454-1744-4652-8c0b-2b1923d1ddeb",
      "metadata": {},
      "outputs": [],
      "source": [
        "lat=24.515563\n",
        "lon=68.18865\n",
        "height=80.0\n",
        "# the dictionary is {height:(wind speed, wind direction)}\n",
        "col_info={height:(\"a80T_wind_speed_mean\",\"d78.5_wind_direction_mean\")}\n",
        "\n",
        "ds_mast_raw=wk.read_timeseries_from_csv(mast_csv_filename,\n",
        "                                  time_col=\"time\",\n",
        "                                  west_east=lon,\n",
        "                                  south_north=lat,\n",
        "                                  crs=4326,\n",
        "                                  height_to_columns=col_info)\n",
        "\n",
        "ds_mast_raw"
      ]
    },
    {
      "cell_type": "markdown",
      "id": "b23a311c-61b1-470a-9d12-4adffb990513",
      "metadata": {},
      "source": [
        "The mast seems to be `nan` values, so we need to clean the data"
      ]
    },
    {
      "cell_type": "code",
      "execution_count": null,
      "id": "2fd8da04-d514-4a81-b8e3-5d88d866cee6",
      "metadata": {},
      "outputs": [],
      "source": [
        "ds_mast=ds_mast_raw.dropna(dim=\"time\")\n",
        "ds_mast"
      ]
    },
    {
      "cell_type": "code",
      "execution_count": null,
      "id": "9de2f008-31c3-4778-b0cb-769fb75b6808",
      "metadata": {},
      "outputs": [],
      "source": [
        "print(f\"Mast Range: {ds_mast.time.min().values} - {ds_mast.time.max().values}\")"
      ]
    },
    {
      "cell_type": "markdown",
      "id": "35661d2f-6ba1-49c3-9b02-57f6d5718037",
      "metadata": {},
      "source": [
        "### Load ERA5 Reference data\n",
        "We can use data from ERA5 for the long term correction. The file used here has been pre downloaded using `windkit.get_era5` and it is for the same location as the mast."
      ]
    },
    {
      "cell_type": "code",
      "execution_count": null,
      "id": "8ae10b1c-8636-4e8a-841e-baffd18b44e9",
      "metadata": {},
      "outputs": [],
      "source": [
        "local_filename=\"ERA5_Sujawal_2010_2018_80m.nc\"\n",
        "era5_ds_point=xr.open_dataset(local_filename)\n",
        "era5_ds_point"
      ]
    },
    {
      "cell_type": "markdown",
      "id": "83f2f0ed-4dc4-4b5f-8511-52425d57fdd1",
      "metadata": {},
      "source": [
        "We can visualize the wind rose of the mast and the ERA5 data using windkit. We need to convert the time series\n",
        "into a binned wind climate."
      ]
    },
    {
      "cell_type": "code",
      "execution_count": null,
      "id": "d62688bc-620e-478b-9001-3127d67e322e",
      "metadata": {},
      "outputs": [],
      "source": [
        "bwc_mast=wk.bwc_from_timeseries(ds_mast)\n",
        "wk.plot.histogram_lines(bwc_mast)"
      ]
    },
    {
      "cell_type": "code",
      "execution_count": null,
      "id": "fc68c8ea-e7d6-4074-b0ef-3fb323b7438a",
      "metadata": {},
      "outputs": [],
      "source": [
        "bwc_era5=wk.bwc_from_timeseries(era5_ds_point)\n",
        "wk.plot.histogram_lines(bwc_era5)"
      ]
    },
    {
      "cell_type": "markdown",
      "id": "489fdc64-d61b-4dde-92a9-e3d196ee08fb",
      "metadata": {},
      "source": [
        "## Visualize correlation\n",
        "For this example, we will visualize the correlation between the masts and the ERA5 Data for the overlapping time, i.e. 2018-2020, for the different wind direction sectors. \n",
        "First we need to align both time series so their timestamps overlap. The mast data is sampled every 10 minutes but the ERA5 data is hourly. we can resample to a hourly frequency with `windkit`."
      ]
    },
    {
      "cell_type": "code",
      "execution_count": null,
      "id": "8b90bcfb-549c-43cb-be38-ca632ac69667",
      "metadata": {},
      "outputs": [],
      "source": [
        "ds_mast_hourly=wk.resample_wind_and_direction(ds_mast,\"h\")"
      ]
    },
    {
      "cell_type": "code",
      "execution_count": null,
      "id": "333af482-f6d5-4d0d-b2ef-03742e9ea051",
      "metadata": {},
      "outputs": [],
      "source": [
        "ds_mast_hourly"
      ]
    },
    {
      "cell_type": "code",
      "execution_count": null,
      "id": "ff275b50-6fd0-46bd-9bc6-a4979c750b6e",
      "metadata": {},
      "outputs": [],
      "source": [
        "ds_mast_hourly=ds_mast_hourly.dropna(dim=\"time\")\n",
        "ds_mast_hourly"
      ]
    },
    {
      "cell_type": "code",
      "execution_count": null,
      "id": "250b0618-50e4-4f37-af2c-65548fc9aa73",
      "metadata": {},
      "outputs": [],
      "source": [
        "ds_ref,ds_target= xr.align(ds_mast_hourly,era5_ds_point)"
      ]
    },
    {
      "cell_type": "markdown",
      "id": "4313f346-fc05-431d-8baf-816599b96a30",
      "metadata": {},
      "source": [
        "### Calculate correlation scores\n",
        "the function `windkit.ltc.calc_scores` returns a `pandas.DataFrame` with some commonly used scores. The parameters `name` and `period` are just labels we would like to use."
      ]
    },
    {
      "cell_type": "code",
      "execution_count": null,
      "id": "48622a89-8082-4e40-bd4b-dea819d8ffe4",
      "metadata": {},
      "outputs": [],
      "source": [
        "df_scores = wk.ltc.calc_scores(ds_ref,ds_target,name=\"ERA5\",period=\"2016-2018\")\n",
        "df_scores"
      ]
    },
    {
      "cell_type": "markdown",
      "id": "b69e0693-b8c7-4ed8-9344-6a61901d282e",
      "metadata": {},
      "source": [
        "### Perform the correlation\n",
        "the class `windkit.ltc.VarRatMCP` Implements the variance ratio regression. \n",
        "The class `windkit.ltc.LinRegMCP` Implements a linear regression. Both classes have\n",
        "methods `fit` and `predict`."
      ]
    },
    {
      "cell_type": "code",
      "execution_count": null,
      "id": "e40f11ba-367f-4053-a1e2-eba7551c1a8e",
      "metadata": {},
      "outputs": [],
      "source": [
        "n_sectors = 12 \n",
        "quantiles = False\n",
        "\n",
        "models = [\n",
        "    wk.ltc.VarRatMCP(n_sectors=n_sectors, quantiles=quantiles),\n",
        "    wk.ltc.LinRegMCP(n_sectors=n_sectors, quantiles=quantiles),\n",
        "]\n",
        "\n",
        "for model in models:\n",
        "    model_name = type(model).__name__\n",
        "    \n",
        "    model.fit(ds_ref, ds_target)\n",
        "    ds_pred = model.predict(ds_ref)\n",
        "    scores_n = wk.ltc.calc_scores(ds_target, ds_pred, name=model_name, period='2016-2018')\n",
        "    df_scores = pd.concat([df_scores,scores_n])\n"
      ]
    },
    {
      "cell_type": "code",
      "execution_count": null,
      "id": "e7362533-9689-41b2-a163-8ac651c7a871",
      "metadata": {},
      "outputs": [],
      "source": [
        "df_scores"
      ]
    },
    {
      "cell_type": "markdown",
      "id": "d57e992a-8a4d-4907-b0fc-1d94107c3783",
      "metadata": {},
      "source": [
        "### Plot correlation by sector\n",
        "The following code will allow to visualize the correlation by sector, for both methods."
      ]
    },
    {
      "cell_type": "code",
      "execution_count": null,
      "id": "c4e606f7-6b81-42f2-bdd6-3bbe3d7b6689",
      "metadata": {},
      "outputs": [],
      "source": [
        "def plot_sectors(ds_ref,ds_target,n_sectors,models,quantiles):\n",
        "    ds_ref=wk.spatial.spatial_stack(ds_ref)\n",
        "    ds_target=wk.spatial.spatial_stack(ds_target)\n",
        "    fig, axes = plt.subplots(3, 4, figsize=(15.5, 11))\n",
        "\n",
        "    sector_ref, edges, centers = wk.wd_to_sector(ds_ref.wind_direction, bins=n_sectors, quantiles=quantiles)\n",
        "    line_ref = np.linspace(0.0, 20.0, 41)\n",
        "    for ax, i_sec in zip(axes.flat, np.arange(12)):\n",
        "        mask = sector_ref == i_sec\n",
        "        ax.scatter(ds_target.wind_speed.values.flatten()[mask.values.flatten()], ds_ref.wind_speed.values.flatten()[mask.values.flatten()], color='Gray', alpha=0.1, zorder=0)\n",
        "        for model in models:\n",
        "            model_name = type(model).__name__\n",
        "            line_pred = model.models_[i_sec].predict(line_ref[:, None])\n",
        "            ax.plot(line_pred, line_ref, label=model_name, zorder=2)\n",
        "        ax.plot([0.0, 20.0], [0.0, 20.0], color='black', ls='--', zorder=1)\n",
        "        ax.set(\n",
        "            xlim=[0.0, 20.0],\n",
        "            ylim=[0.0, 20.0],\n",
        "            xlabel=r'$U_\\mathrm{Obs}$ [m$\\,$s$^{-1}$]',\n",
        "            ylabel=r'$U_\\mathrm{Ref}$ [m$\\,$s$^{-1}$]',\n",
        "        )\n",
        "        ax.set_title(r'$n=$' + f'{int(len(ds_target.wind_speed.values[mask]))}', loc='left')\n",
        "    axes.flat[0].legend()\n",
        "    plt.tight_layout()\n",
        "\n"
      ]
    },
    {
      "cell_type": "code",
      "execution_count": null,
      "id": "e030411a-ed0d-4cef-9346-b2b677effe8c",
      "metadata": {},
      "outputs": [],
      "source": [
        "plot_sectors(ds_ref,ds_target,n_sectors,models,quantiles)"
      ]
    },
    {
      "cell_type": "markdown",
      "id": "95770118-3aef-40a7-85d7-638b208c929b",
      "metadata": {},
      "source": [
        "## Predict for a test year\n",
        "We will use one year of the mast (2018) to fit the models and  we will predict for 2016-2017"
      ]
    },
    {
      "cell_type": "code",
      "execution_count": null,
      "id": "119fe54b-9cd2-4759-91a2-d2374b61fcd5",
      "metadata": {},
      "outputs": [],
      "source": [
        "year =2018\n",
        "ds_ref_train =  ds_ref.where(ds_ref[\"time.year\"] == year).dropna(dim=\"time\")\n",
        "ds_ref_test = ds_ref.where(ds_ref[\"time.year\"] != year).dropna(dim=\"time\")\n",
        "ds_target_train =  ds_target.where(ds_target[\"time.year\"] == year).dropna(dim=\"time\")\n",
        "ds_target_test = ds_target.where(ds_target[\"time.year\"] != year).dropna(dim=\"time\")\n",
        "\n",
        "for model in models:\n",
        "    model_name = type(model).__name__\n",
        "    \n",
        "    model.fit(ds_ref_train, ds_target_train)\n",
        "    ds_predicted = model.predict(ds_ref_test)\n",
        "    scores_n = wk.ltc.calc_scores(ds_target_test, ds_predicted, name=model_name, period=year)\n",
        "    df_scores = pd.concat([df_scores,scores_n])\n",
        "    "
      ]
    },
    {
      "cell_type": "code",
      "execution_count": null,
      "id": "7bf6f86c-adfe-4515-bbc2-172ded9777bd",
      "metadata": {},
      "outputs": [],
      "source": [
        "df_scores"
      ]
    },
    {
      "cell_type": "code",
      "execution_count": null,
      "id": "6256ab3c-a5e7-4ec3-9970-1525269479e4",
      "metadata": {},
      "outputs": [],
      "source": [
        "plot_sectors(ds_target_test,ds_predicted,n_sectors,models,quantiles)"
      ]
    },
    {
      "cell_type": "markdown",
      "id": "3c86d988-5ad5-4a41-af5a-5c25c952dc2a",
      "metadata": {},
      "source": [
        "## Perform the long term correction\n",
        "We will use the year 2018 to fit the model and we will predict a new wind climate using the era5 wind climate. obtaining a corrected wind climate for the period 2010-2018."
      ]
    },
    {
      "cell_type": "code",
      "execution_count": null,
      "id": "89fa77ef-7545-46fb-bef1-c450394b8aee",
      "metadata": {},
      "outputs": [],
      "source": [
        "year =2018\n",
        "ds_ref_train =  ds_ref.where(ds_ref[\"time.year\"] == year).dropna(dim=\"time\")\n",
        "ds_target_train =  ds_target.where(ds_target[\"time.year\"] == year).dropna(dim=\"time\")\n",
        "\n",
        "models = [\n",
        "    wk.ltc.VarRatMCP(n_sectors=n_sectors, quantiles=quantiles),\n",
        "    wk.ltc.LinRegMCP(n_sectors=n_sectors, quantiles=quantiles),\n",
        "]\n",
        "for model in models:\n",
        "    model_name = type(model).__name__\n",
        "    \n",
        "    model.fit(ds_ref_train, ds_target_train)\n",
        "    ds_predicted = model.predict(era5_ds_point)\n",
        "    scores_n = wk.ltc.calc_scores(era5_ds_point, ds_predicted, name=model_name, period=\"2010-2018\")\n",
        "    df_scores = pd.concat([df_scores,scores_n])"
      ]
    },
    {
      "cell_type": "markdown",
      "id": "91acbff4-ff9b-421a-a81e-ddaf1cf4e611",
      "metadata": {},
      "source": [
        "Now we build a corrected binned wind climate dataset"
      ]
    },
    {
      "cell_type": "code",
      "execution_count": null,
      "id": "19e9ff6e-6062-4dcc-9641-995cac132446",
      "metadata": {},
      "outputs": [],
      "source": [
        "corrected_bwc=wk.bwc_from_timeseries(ds_predicted)"
      ]
    },
    {
      "cell_type": "markdown",
      "id": "e9d9d22b-597b-4dc7-a6c4-5ca2c5a5125c",
      "metadata": {},
      "source": [
        "We can visualize the binned wind climates."
      ]
    },
    {
      "cell_type": "code",
      "execution_count": null,
      "id": "d4d60a11-2c21-4383-ad9e-8f435ec22d5f",
      "metadata": {},
      "outputs": [],
      "source": [
        "wk.plot.histogram_lines(corrected_bwc)"
      ]
    },
    {
      "cell_type": "code",
      "execution_count": null,
      "id": "22146cd2-9a83-474f-9207-1d71e5da7dc1",
      "metadata": {},
      "outputs": [],
      "source": [
        "wk.plot.histogram_lines(bwc_era5)"
      ]
    },
    {
      "cell_type": "code",
      "execution_count": null,
      "id": "dd2eb43a-9a0a-470a-9e99-16e24f89ff80",
      "metadata": {},
      "outputs": [],
      "source": [
        "wk.plot.histogram_lines(bwc_mast)"
      ]
    },
    {
      "cell_type": "code",
      "execution_count": null,
      "id": "5856257d-cce0-488e-8fff-2d36035424c2",
      "metadata": {},
      "outputs": [],
      "source": []
    }
  ],
  "metadata": {
    "kernelspec": {
      "display_name": "Python 3 (ipykernel)",
      "language": "python",
      "name": "python3"
    },
    "language_info": {
      "codemirror_mode": {
        "name": "ipython",
        "version": 3
      },
      "file_extension": ".py",
      "mimetype": "text/x-python",
      "name": "python",
      "nbconvert_exporter": "python",
      "pygments_lexer": "ipython3",
      "version": "3.11.7"
    }
  },
  "nbformat": 4,
  "nbformat_minor": 5
}
