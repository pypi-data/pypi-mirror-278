{
 "cells": [
  {
   "cell_type": "code",
   "execution_count": null,
   "id": "e1e35300-a92f-47dd-b448-83861e79eedf",
   "metadata": {},
   "outputs": [],
   "source": [
    "import pandas as pd\n",
    "import pytae as pt\n",
    "import seaborn as sns\n",
    "penguins = sns.load_dataset('penguins')"
   ]
  },
  {
   "cell_type": "code",
   "execution_count": null,
   "id": "c3f73408-8dc7-4ea5-899b-e3b23a692cd8",
   "metadata": {},
   "outputs": [],
   "source": [
    "df=pd.DataFrame({'id':['a','b','c','d','e','','f','f'],\n",
    "                  'balance':[10,20,0,21,15,10,20,25],\n",
    "                  'country':['sg','cn','ca','np','in','in','np','in']})"
   ]
  },
  {
   "cell_type": "code",
   "execution_count": null,
   "id": "db20c1c7-c11f-431d-ae9c-d0c424f0d423",
   "metadata": {},
   "outputs": [],
   "source": [
    "df.agg_df(aggfunc=['sum','min','mean','min','max','n'])"
   ]
  },
  {
   "cell_type": "code",
   "execution_count": null,
   "id": "66cb16ac-30b8-491e-94b4-0a2065d1e29b",
   "metadata": {},
   "outputs": [],
   "source": [
    "df[['id','balance']].agg_df(aggfunc=['sum'])"
   ]
  },
  {
   "cell_type": "code",
   "execution_count": null,
   "id": "cbf32f4b-5f41-4ea7-bfa4-9f884d714f31",
   "metadata": {},
   "outputs": [],
   "source": [
    "penguins.agg_df(aggfunc=['max','sum','n'],dropna=True)\n",
    "#notice n comes first."
   ]
  },
  {
   "cell_type": "code",
   "execution_count": null,
   "id": "8a7d5322-31ef-4e03-abfd-4220b12c2520",
   "metadata": {},
   "outputs": [],
   "source": [
    "penguins.group_n(group=['species',\t'island',\t'sex'],dropna=True)"
   ]
  },
  {
   "cell_type": "code",
   "execution_count": null,
   "id": "c3b6663b-a929-4c52-a857-3c2ae3d581c8",
   "metadata": {},
   "outputs": [],
   "source": [
    "penguins.group_n(group=['species',\t'island',\t'sex'],dropna=False)"
   ]
  },
  {
   "cell_type": "code",
   "execution_count": null,
   "id": "9674126e-3807-4fa6-84da-2bda38306ceb",
   "metadata": {},
   "outputs": [],
   "source": []
  }
 ],
 "metadata": {
  "kernelspec": {
   "display_name": "py_env",
   "language": "python",
   "name": "py_env"
  },
  "language_info": {
   "codemirror_mode": {
    "name": "ipython",
    "version": 3
   },
   "file_extension": ".py",
   "mimetype": "text/x-python",
   "name": "python",
   "nbconvert_exporter": "python",
   "pygments_lexer": "ipython3",
   "version": "3.9.6"
  }
 },
 "nbformat": 4,
 "nbformat_minor": 5
}
