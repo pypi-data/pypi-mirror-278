{
 "cells": [
  {
   "cell_type": "code",
   "execution_count": 1,
   "id": "b6976e0e-c64e-457a-9f28-6728d6ff75cd",
   "metadata": {},
   "outputs": [],
   "source": [
    "import pandas as pd\n",
    "import pytae as pt\n",
    "import seaborn as sns\n",
    "penguins = sns.load_dataset('penguins')"
   ]
  },
  {
   "cell_type": "code",
   "execution_count": 4,
   "id": "ce167daa-5219-47a4-9c5c-e857f45f8457",
   "metadata": {},
   "outputs": [
    {
     "data": {
      "text/html": [
       "<div>\n",
       "<style scoped>\n",
       "    .dataframe tbody tr th:only-of-type {\n",
       "        vertical-align: middle;\n",
       "    }\n",
       "\n",
       "    .dataframe tbody tr th {\n",
       "        vertical-align: top;\n",
       "    }\n",
       "\n",
       "    .dataframe thead th {\n",
       "        text-align: right;\n",
       "    }\n",
       "</style>\n",
       "<table border=\"1\" class=\"dataframe\">\n",
       "  <thead>\n",
       "    <tr style=\"text-align: right;\">\n",
       "      <th></th>\n",
       "      <th>species</th>\n",
       "      <th>island</th>\n",
       "      <th>bill_length_mm</th>\n",
       "      <th>bill_depth_mm</th>\n",
       "      <th>flipper_length_mm</th>\n",
       "      <th>body_mass_g</th>\n",
       "      <th>sex</th>\n",
       "      <th>n</th>\n",
       "    </tr>\n",
       "  </thead>\n",
       "  <tbody>\n",
       "    <tr>\n",
       "      <th>0</th>\n",
       "      <td>Adelie</td>\n",
       "      <td>Torgersen</td>\n",
       "      <td>39.1</td>\n",
       "      <td>18.7</td>\n",
       "      <td>181.0</td>\n",
       "      <td>3750.0</td>\n",
       "      <td>Male</td>\n",
       "      <td>23</td>\n",
       "    </tr>\n",
       "    <tr>\n",
       "      <th>1</th>\n",
       "      <td>Adelie</td>\n",
       "      <td>Torgersen</td>\n",
       "      <td>39.5</td>\n",
       "      <td>17.4</td>\n",
       "      <td>186.0</td>\n",
       "      <td>3800.0</td>\n",
       "      <td>Female</td>\n",
       "      <td>24</td>\n",
       "    </tr>\n",
       "    <tr>\n",
       "      <th>2</th>\n",
       "      <td>Adelie</td>\n",
       "      <td>Torgersen</td>\n",
       "      <td>40.3</td>\n",
       "      <td>18.0</td>\n",
       "      <td>195.0</td>\n",
       "      <td>3250.0</td>\n",
       "      <td>Female</td>\n",
       "      <td>24</td>\n",
       "    </tr>\n",
       "    <tr>\n",
       "      <th>3</th>\n",
       "      <td>Adelie</td>\n",
       "      <td>Torgersen</td>\n",
       "      <td>NaN</td>\n",
       "      <td>NaN</td>\n",
       "      <td>NaN</td>\n",
       "      <td>NaN</td>\n",
       "      <td>NaN</td>\n",
       "      <td>5</td>\n",
       "    </tr>\n",
       "    <tr>\n",
       "      <th>4</th>\n",
       "      <td>Adelie</td>\n",
       "      <td>Torgersen</td>\n",
       "      <td>36.7</td>\n",
       "      <td>19.3</td>\n",
       "      <td>193.0</td>\n",
       "      <td>3450.0</td>\n",
       "      <td>Female</td>\n",
       "      <td>24</td>\n",
       "    </tr>\n",
       "  </tbody>\n",
       "</table>\n",
       "</div>"
      ],
      "text/plain": [
       "  species     island  bill_length_mm  bill_depth_mm  flipper_length_mm  \\\n",
       "0  Adelie  Torgersen            39.1           18.7              181.0   \n",
       "1  Adelie  Torgersen            39.5           17.4              186.0   \n",
       "2  Adelie  Torgersen            40.3           18.0              195.0   \n",
       "3  Adelie  Torgersen             NaN            NaN                NaN   \n",
       "4  Adelie  Torgersen            36.7           19.3              193.0   \n",
       "\n",
       "   body_mass_g     sex   n  \n",
       "0       3750.0    Male  23  \n",
       "1       3800.0  Female  24  \n",
       "2       3250.0  Female  24  \n",
       "3          NaN     NaN   5  \n",
       "4       3450.0  Female  24  "
      ]
     },
     "execution_count": 4,
     "metadata": {},
     "output_type": "execute_result"
    }
   ],
   "source": [
    "\n",
    "\n",
    "\n",
    "df = (\n",
    "    penguins\n",
    "    # .pipe(pt.group_n,group=['species', 'island', 'sex'],dropna=False)\n",
    "    .pipe(pt.group_n,dropna=False)\n",
    "    # .pipe(pt.handle_missing) #NaN in str is replaced with . and in numeric with 0\n",
    "    # .pipe(pt.clip)\n",
    "\n",
    ")\n",
    "#notice that penguins dataset has multiple rows for same group\n",
    "df.head()"
   ]
  },
  {
   "cell_type": "code",
   "execution_count": null,
   "id": "1f6c2d54-67d9-48b1-b25d-e405269c84ee",
   "metadata": {},
   "outputs": [],
   "source": [
    "df.long(col='features').head() #if value is not provided then default is value"
   ]
  },
  {
   "cell_type": "code",
   "execution_count": null,
   "id": "c83b26a1-fe4e-450a-95a1-292116562dff",
   "metadata": {},
   "outputs": [],
   "source": [
    "df.long(col='features',value='measure').head()"
   ]
  },
  {
   "cell_type": "code",
   "execution_count": null,
   "id": "2582f05d-ddf4-46ae-8362-34aaa5d05fe4",
   "metadata": {},
   "outputs": [],
   "source": [
    "df.long(col='features').wide(col='features').head()\n",
    "# you will get back original df because penguins has been aggregated in the very beginning. "
   ]
  },
  {
   "cell_type": "code",
   "execution_count": null,
   "id": "2a6e93dc-703a-4ae4-84de-6364728b6e6f",
   "metadata": {},
   "outputs": [],
   "source": [
    "# Had it not been the case, we could not get original df back because wide uses pivot_table that would aggregate the results\n",
    "penguins.long(col='features').wide(col='features')"
   ]
  },
  {
   "cell_type": "code",
   "execution_count": null,
   "id": "37cbef19-3391-4ec0-be90-4d4d333d3987",
   "metadata": {},
   "outputs": [],
   "source": [
    "df.cols()"
   ]
  }
 ],
 "metadata": {
  "kernelspec": {
   "display_name": "py_env",
   "language": "python",
   "name": "py_env"
  },
  "language_info": {
   "codemirror_mode": {
    "name": "ipython",
    "version": 3
   },
   "file_extension": ".py",
   "mimetype": "text/x-python",
   "name": "python",
   "nbconvert_exporter": "python",
   "pygments_lexer": "ipython3",
   "version": "3.9.6"
  }
 },
 "nbformat": 4,
 "nbformat_minor": 5
}
