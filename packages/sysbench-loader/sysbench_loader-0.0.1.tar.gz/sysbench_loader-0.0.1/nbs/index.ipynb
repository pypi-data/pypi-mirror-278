{
 "cells": [
  {
   "cell_type": "markdown",
   "metadata": {},
   "source": [
    "# sysbench_loader\n",
    "\n",
    "> Downloads and prepares various system identification benchmark datasets"
   ]
  },
  {
   "cell_type": "markdown",
   "metadata": {},
   "source": [
    "This file will become your README and also the index of your documentation."
   ]
  },
  {
   "cell_type": "markdown",
   "metadata": {},
   "source": [
    "## Install"
   ]
  },
  {
   "cell_type": "markdown",
   "metadata": {},
   "source": [
    "```sh\n",
    "pip install sysbench_loader\n",
    "```"
   ]
  },
  {
   "cell_type": "markdown",
   "metadata": {},
   "source": [
    "## How to use"
   ]
  },
  {
   "cell_type": "code",
   "execution_count": null,
   "metadata": {},
   "outputs": [],
   "source": [
    "import sysbench_loader"
   ]
  },
  {
   "cell_type": "code",
   "execution_count": null,
   "metadata": {},
   "outputs": [
    {
     "data": {
      "text/plain": [
       "[<function sysbench_loader.workshop.wiener_hammerstein(save_path: pathlib.Path)>,\n",
       " <function sysbench_loader.workshop.silverbox(save_path: pathlib.Path)>,\n",
       " <function sysbench_loader.workshop.cascaded_tanks(save_path: pathlib.Path)>,\n",
       " <function sysbench_loader.workshop.emps(save_path: pathlib.Path)>,\n",
       " <function sysbench_loader.workshop.noisy_wh(save_path: pathlib.Path)>,\n",
       " <function sysbench_loader.industrial_robot.industrial_robot(save_path: pathlib.Path)>,\n",
       " <function sysbench_loader.ship.ship(save_path: pathlib.Path, remove_download=True)>,\n",
       " <function sysbench_loader.quad_pelican.quad_pelican(save_path: pathlib.Path, remove_download=False)>,\n",
       " <function sysbench_loader.quad_pi.quad_pi(save_path: pathlib.Path, remove_download=False)>,\n",
       " <function sysbench_loader.broad.broad(save_path: pathlib.Path)>]"
      ]
     },
     "execution_count": null,
     "metadata": {},
     "output_type": "execute_result"
    }
   ],
   "source": [
    "sysbench_loader.all_dataset_loader"
   ]
  },
  {
   "cell_type": "code",
   "execution_count": null,
   "metadata": {},
   "outputs": [],
   "source": [
    "save_path = './tmp'\n",
    "loaders = (loader(save_path) for loader in sysbench_loader.all_dataset_loader)\n",
    "#list(loaders)"
   ]
  },
  {
   "cell_type": "code",
   "execution_count": null,
   "metadata": {},
   "outputs": [],
   "source": []
  }
 ],
 "metadata": {
  "kernelspec": {
   "display_name": "python3",
   "language": "python",
   "name": "python3"
  }
 },
 "nbformat": 4,
 "nbformat_minor": 4
}
