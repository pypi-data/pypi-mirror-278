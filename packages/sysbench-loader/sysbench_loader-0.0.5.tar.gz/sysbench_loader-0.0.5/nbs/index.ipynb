{
 "cells": [
  {
   "cell_type": "markdown",
   "metadata": {},
   "source": [
    "# sysbench_loader\n",
    "\n",
    "> Downloads and prepares various system identification benchmark datasets"
   ]
  },
  {
   "cell_type": "markdown",
   "metadata": {},
   "source": [
    "This file will become your README and also the index of your documentation."
   ]
  },
  {
   "cell_type": "markdown",
   "metadata": {},
   "source": [
    "## Install"
   ]
  },
  {
   "cell_type": "markdown",
   "metadata": {},
   "source": [
    "```sh\n",
    "pip install sysbench_loader\n",
    "```"
   ]
  },
  {
   "cell_type": "markdown",
   "metadata": {},
   "source": [
    "## How to use"
   ]
  },
  {
   "cell_type": "code",
   "execution_count": null,
   "metadata": {},
   "outputs": [],
   "source": [
    "import sysbench_loader"
   ]
  },
  {
   "cell_type": "code",
   "execution_count": null,
   "metadata": {},
   "outputs": [
    {
     "data": {
      "text/plain": [
       "[<function sysbench_loader.workshop.wiener_hammerstein(save_path: pathlib.Path)>,\n",
       " <function sysbench_loader.workshop.silverbox(save_path: pathlib.Path)>,\n",
       " <function sysbench_loader.workshop.cascaded_tanks(save_path: pathlib.Path)>,\n",
       " <function sysbench_loader.workshop.emps(save_path: pathlib.Path)>,\n",
       " <function sysbench_loader.workshop.noisy_wh(save_path: pathlib.Path)>,\n",
       " <function sysbench_loader.industrial_robot.industrial_robot(save_path: pathlib.Path)>,\n",
       " <function sysbench_loader.ship.ship(save_path: pathlib.Path, remove_download=True)>,\n",
       " <function sysbench_loader.quad_pelican.quad_pelican(save_path: pathlib.Path, remove_download=False)>,\n",
       " <function sysbench_loader.quad_pi.quad_pi(save_path: pathlib.Path, remove_download=False)>,\n",
       " <function sysbench_loader.broad.broad(save_path: pathlib.Path)>]"
      ]
     },
     "execution_count": null,
     "metadata": {},
     "output_type": "execute_result"
    }
   ],
   "source": [
    "sysbench_loader.all_dataset_loader"
   ]
  },
  {
   "cell_type": "code",
   "execution_count": null,
   "metadata": {},
   "outputs": [
    {
     "ename": "TypeError",
     "evalue": "unsupported operand type(s) for /: 'str' and 'str'",
     "output_type": "error",
     "traceback": [
      "\u001b[1;31m---------------------------------------------------------------------------\u001b[0m",
      "\u001b[1;31mTypeError\u001b[0m                                 Traceback (most recent call last)",
      "Cell \u001b[1;32mIn[4], line 3\u001b[0m\n\u001b[0;32m      1\u001b[0m save_path \u001b[38;5;241m=\u001b[39m \u001b[38;5;124m'\u001b[39m\u001b[38;5;124m./tmp_index\u001b[39m\u001b[38;5;124m'\u001b[39m\n\u001b[0;32m      2\u001b[0m loaders \u001b[38;5;241m=\u001b[39m (loader(save_path) \u001b[38;5;28;01mfor\u001b[39;00m loader \u001b[38;5;129;01min\u001b[39;00m sysbench_loader\u001b[38;5;241m.\u001b[39mall_dataset_loader)\n\u001b[1;32m----> 3\u001b[0m \u001b[38;5;28;43mlist\u001b[39;49m\u001b[43m(\u001b[49m\u001b[43mloaders\u001b[49m\u001b[43m)\u001b[49m\n",
      "Cell \u001b[1;32mIn[4], line 2\u001b[0m, in \u001b[0;36m<genexpr>\u001b[1;34m(.0)\u001b[0m\n\u001b[0;32m      1\u001b[0m save_path \u001b[38;5;241m=\u001b[39m \u001b[38;5;124m'\u001b[39m\u001b[38;5;124m./tmp_index\u001b[39m\u001b[38;5;124m'\u001b[39m\n\u001b[1;32m----> 2\u001b[0m loaders \u001b[38;5;241m=\u001b[39m (\u001b[43mloader\u001b[49m\u001b[43m(\u001b[49m\u001b[43msave_path\u001b[49m\u001b[43m)\u001b[49m \u001b[38;5;28;01mfor\u001b[39;00m loader \u001b[38;5;129;01min\u001b[39;00m sysbench_loader\u001b[38;5;241m.\u001b[39mall_dataset_loader)\n\u001b[0;32m      3\u001b[0m \u001b[38;5;28mlist\u001b[39m(loaders)\n",
      "File \u001b[1;32mc:\\users\\danie\\documents\\development\\sysbench_loader\\sysbench_loader\\workshop.py:21\u001b[0m, in \u001b[0;36mwiener_hammerstein\u001b[1;34m(save_path)\u001b[0m\n\u001b[0;32m     18\u001b[0m train \u001b[38;5;241m=\u001b[39m train_val[:split_idx]\n\u001b[0;32m     19\u001b[0m valid \u001b[38;5;241m=\u001b[39m train_val[split_idx:]\n\u001b[1;32m---> 21\u001b[0m \u001b[43mdataset_to_hdf5\u001b[49m\u001b[43m(\u001b[49m\u001b[43mtrain\u001b[49m\u001b[43m,\u001b[49m\u001b[43mvalid\u001b[49m\u001b[43m,\u001b[49m\u001b[43mtest\u001b[49m\u001b[43m,\u001b[49m\u001b[43msave_path\u001b[49m\u001b[43m)\u001b[49m\n",
      "File \u001b[1;32mc:\\users\\danie\\documents\\development\\sysbench_loader\\sysbench_loader\\core.py:75\u001b[0m, in \u001b[0;36mdataset_to_hdf5\u001b[1;34m(train, valid, test, save_path)\u001b[0m\n\u001b[0;32m     73\u001b[0m \u001b[38;5;28;01mfor\u001b[39;00m subset,ds_entries \u001b[38;5;129;01min\u001b[39;00m dict_data\u001b[38;5;241m.\u001b[39mitems():\n\u001b[0;32m     74\u001b[0m     \u001b[38;5;28;01mfor\u001b[39;00m idx,iodata \u001b[38;5;129;01min\u001b[39;00m \u001b[38;5;28menumerate\u001b[39m(ds_entries):\n\u001b[1;32m---> 75\u001b[0m         iodata_to_hdf5(iodata,\u001b[43msave_path\u001b[49m\u001b[43m \u001b[49m\u001b[38;5;241;43m/\u001b[39;49m\u001b[43m \u001b[49m\u001b[43msubset\u001b[49m,\u001b[38;5;124mf\u001b[39m\u001b[38;5;124m'\u001b[39m\u001b[38;5;132;01m{\u001b[39;00msubset\u001b[38;5;132;01m}\u001b[39;00m\u001b[38;5;124m_\u001b[39m\u001b[38;5;132;01m{\u001b[39;00midx\u001b[38;5;132;01m}\u001b[39;00m\u001b[38;5;124m'\u001b[39m)\n",
      "\u001b[1;31mTypeError\u001b[0m: unsupported operand type(s) for /: 'str' and 'str'"
     ]
    }
   ],
   "source": [
    "save_path = './tmp_index'\n",
    "loaders = (loader(save_path) for loader in sysbench_loader.all_dataset_loader)\n",
    "list(loaders)"
   ]
  },
  {
   "cell_type": "code",
   "execution_count": null,
   "metadata": {},
   "outputs": [],
   "source": [
    "#| hide\n",
    "import shutil"
   ]
  },
  {
   "cell_type": "code",
   "execution_count": null,
   "metadata": {},
   "outputs": [],
   "source": [
    "#| hide\n",
    "shutil.rmtree(save_path)\n",
    "shutil.rmtree('./tmp')"
   ]
  }
 ],
 "metadata": {
  "kernelspec": {
   "display_name": "python3",
   "language": "python",
   "name": "python3"
  }
 },
 "nbformat": 4,
 "nbformat_minor": 4
}
